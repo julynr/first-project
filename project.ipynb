{
 "cells": [
  {
   "cell_type": "markdown",
   "id": "b5d5789c",
   "metadata": {},
   "source": [
    "\n",
    "Привет, меня зовут Головатский Николай, я буду проверять твой проект.\n",
    "\n",
    "В Практикуме принято общаться на \"ты\", однако если это неудобно - дай знать, и можем перейти на более официальное общение.\n",
    "\n",
    "Ниже ты найдешь мои комментарии - **пожалуйста, не перемещай, не изменяй и не удаляй их,** это может усложнить и затянуть повторную проверку. \n",
    "\n",
    "Я буду использовать цветовую разметку: \n",
    "\n",
    "<div class=\"alert alert-block alert-success\">\n",
    "<b>Комментарий ревьюера✅:</b> Если все сделано хорошо.</div>\n",
    "\n",
    "<div class=\"alert alert-block alert-warning\">\n",
    "<b>Комментарий ревьюера⚠️:</b> Некритичное замечание, реккомендация на будущее. Для принятия проекта исправление не обязательно.</div>\n",
    "\n",
    "<div class=\"alert alert-block alert-danger\">\n",
    "<b>Комментарий ревьюера❌:</b> Критичная ошибка, необходимо исправить, иначе проект не будет принят.\n",
    "</div>\n",
    "\n",
    "Давай работать над проектом в диалоге: если ты что-то меняешь в проекте или отвечаешь на мои комменатри — пиши об этом. Мне будет легче отследить изменения, если ты выделишь свои комментарии:\n",
    "Например так:\n",
    "<div class=\"alert alert-block alert-info\">\n",
    "<b>Комментарий студента:</b> \n",
    "Hello World!\n",
    "</div>\n",
    "\n",
    "Если писать особо нечего, просто оставляй комментарий с галочкой \n",
    "\n",
    "<div class=\"alert alert-block alert-info\">\n",
    "<b>Комментарий студента:</b> \n",
    "☑️\n",
    "</div>\n",
    "\n",
    "<div class=\"alert alert-block alert-success\">\n",
    "<b>Общее впечатление:</b> \n",
    "    \n",
    "- Спасибо за работу :)\n",
    "- Определенно могу сказать, что проект очень сильный;\n",
    "- Мне очень понравилось, как ты детально погружаешься в данные и не упускаешь никаких мелочей;\n",
    "- В проекте осталось пара моментов, после правки которых, я смогу принять работу😉\n",
    "    \n",
    "</div>"
   ]
  },
  {
   "cell_type": "markdown",
   "id": "5f1de16a",
   "metadata": {},
   "source": [
    "Изменение"
   ]
  },
  {
   "cell_type": "markdown",
   "id": "d933d4be",
   "metadata": {},
   "source": [
    "Изменение"
   ]
  },
  {
   "cell_type": "markdown",
   "id": "b4f18676",
   "metadata": {},
   "source": [
    "# Исследование надежности заемщиков."
   ]
  },
  {
   "cell_type": "markdown",
   "id": "3cf6706b",
   "metadata": {},
   "source": [
    "**Заказчик — кредитный отдел банка. Нужно разобраться, влияет ли семейное положение и количество детей клиента на факт погашения кредита в срок. Входные данные от банка — статистика о платёжеспособности клиентов. Результаты исследования будут учтены при построении модели кредитного скоринга — специальной системы, которая оценивает способность потенциального заёмщика вернуть кредит банку.**\n",
    "\n",
    "**Цель исследования** — ответить на вопросы:\n",
    "\n",
    "**1. Есть ли зависимость между количеством детей и возвратом кредита в срок?**\n",
    "**2. Есть ли зависимость между семейным положением и возвратом кредита в срок?**\n",
    "**3. Есть ли зависимость между уровнем дохода и возвратом кредита в срок?**\n",
    "**4. Как разные цели кредита влияют на его возврат в срок?**\n",
    "\n",
    "**Ход исследования**\n",
    "\n",
    "**Данные о платёжеспособности клиентов мы получили из файла /datasets/data.csv. О качестве данных ничего не известно. Поэтому перед ответом на вопросы понадобится обзор данных.**\n",
    "\n",
    "**Проверим данные на ошибки и оценим их влияние на исследование. На этапе предобработки данных исправим самые критичные ошибки данных.**\n",
    "\n",
    "**Таким образом, исследование пройдёт в три этапа:**\n",
    "**1. Обзор данных.**\n",
    "**2. Предобработка данных.**\n",
    "**3. Ответы на вопросы.**"
   ]
  },
  {
   "cell_type": "markdown",
   "id": "6be865b1",
   "metadata": {},
   "source": [
    "### Шаг 1. Обзор данных"
   ]
  },
  {
   "cell_type": "code",
   "execution_count": 1,
   "id": "ea2a8e4c",
   "metadata": {},
   "outputs": [],
   "source": [
    "import pandas as pd # импорт библиотеки pandas"
   ]
  },
  {
   "cell_type": "markdown",
   "id": "c1b14a5b",
   "metadata": {},
   "source": [
    "Проверим данные на ошибки конструкцией `try-except`:"
   ]
  },
  {
   "cell_type": "code",
   "execution_count": 2,
   "id": "504f3bb8",
   "metadata": {},
   "outputs": [],
   "source": [
    "try:\n",
    "    df = pd.read_csv('/datasets/data.csv') # чтение файла с данными и сохранение в df\n",
    "except:\n",
    "    df = pd.read_csv('/datasets/data.csv')"
   ]
  },
  {
   "cell_type": "code",
   "execution_count": 3,
   "id": "fd816fdc",
   "metadata": {},
   "outputs": [
    {
     "data": {
      "text/html": [
       "<div>\n",
       "<style scoped>\n",
       "    .dataframe tbody tr th:only-of-type {\n",
       "        vertical-align: middle;\n",
       "    }\n",
       "\n",
       "    .dataframe tbody tr th {\n",
       "        vertical-align: top;\n",
       "    }\n",
       "\n",
       "    .dataframe thead th {\n",
       "        text-align: right;\n",
       "    }\n",
       "</style>\n",
       "<table border=\"1\" class=\"dataframe\">\n",
       "  <thead>\n",
       "    <tr style=\"text-align: right;\">\n",
       "      <th></th>\n",
       "      <th>children</th>\n",
       "      <th>days_employed</th>\n",
       "      <th>dob_years</th>\n",
       "      <th>education</th>\n",
       "      <th>education_id</th>\n",
       "      <th>family_status</th>\n",
       "      <th>family_status_id</th>\n",
       "      <th>gender</th>\n",
       "      <th>income_type</th>\n",
       "      <th>debt</th>\n",
       "      <th>total_income</th>\n",
       "      <th>purpose</th>\n",
       "    </tr>\n",
       "  </thead>\n",
       "  <tbody>\n",
       "    <tr>\n",
       "      <th>0</th>\n",
       "      <td>1</td>\n",
       "      <td>-8437.673028</td>\n",
       "      <td>42</td>\n",
       "      <td>высшее</td>\n",
       "      <td>0</td>\n",
       "      <td>женат / замужем</td>\n",
       "      <td>0</td>\n",
       "      <td>F</td>\n",
       "      <td>сотрудник</td>\n",
       "      <td>0</td>\n",
       "      <td>253875.639453</td>\n",
       "      <td>покупка жилья</td>\n",
       "    </tr>\n",
       "    <tr>\n",
       "      <th>1</th>\n",
       "      <td>1</td>\n",
       "      <td>-4024.803754</td>\n",
       "      <td>36</td>\n",
       "      <td>среднее</td>\n",
       "      <td>1</td>\n",
       "      <td>женат / замужем</td>\n",
       "      <td>0</td>\n",
       "      <td>F</td>\n",
       "      <td>сотрудник</td>\n",
       "      <td>0</td>\n",
       "      <td>112080.014102</td>\n",
       "      <td>приобретение автомобиля</td>\n",
       "    </tr>\n",
       "    <tr>\n",
       "      <th>2</th>\n",
       "      <td>0</td>\n",
       "      <td>-5623.422610</td>\n",
       "      <td>33</td>\n",
       "      <td>Среднее</td>\n",
       "      <td>1</td>\n",
       "      <td>женат / замужем</td>\n",
       "      <td>0</td>\n",
       "      <td>M</td>\n",
       "      <td>сотрудник</td>\n",
       "      <td>0</td>\n",
       "      <td>145885.952297</td>\n",
       "      <td>покупка жилья</td>\n",
       "    </tr>\n",
       "    <tr>\n",
       "      <th>3</th>\n",
       "      <td>3</td>\n",
       "      <td>-4124.747207</td>\n",
       "      <td>32</td>\n",
       "      <td>среднее</td>\n",
       "      <td>1</td>\n",
       "      <td>женат / замужем</td>\n",
       "      <td>0</td>\n",
       "      <td>M</td>\n",
       "      <td>сотрудник</td>\n",
       "      <td>0</td>\n",
       "      <td>267628.550329</td>\n",
       "      <td>дополнительное образование</td>\n",
       "    </tr>\n",
       "    <tr>\n",
       "      <th>4</th>\n",
       "      <td>0</td>\n",
       "      <td>340266.072047</td>\n",
       "      <td>53</td>\n",
       "      <td>среднее</td>\n",
       "      <td>1</td>\n",
       "      <td>гражданский брак</td>\n",
       "      <td>1</td>\n",
       "      <td>F</td>\n",
       "      <td>пенсионер</td>\n",
       "      <td>0</td>\n",
       "      <td>158616.077870</td>\n",
       "      <td>сыграть свадьбу</td>\n",
       "    </tr>\n",
       "    <tr>\n",
       "      <th>5</th>\n",
       "      <td>0</td>\n",
       "      <td>-926.185831</td>\n",
       "      <td>27</td>\n",
       "      <td>высшее</td>\n",
       "      <td>0</td>\n",
       "      <td>гражданский брак</td>\n",
       "      <td>1</td>\n",
       "      <td>M</td>\n",
       "      <td>компаньон</td>\n",
       "      <td>0</td>\n",
       "      <td>255763.565419</td>\n",
       "      <td>покупка жилья</td>\n",
       "    </tr>\n",
       "    <tr>\n",
       "      <th>6</th>\n",
       "      <td>0</td>\n",
       "      <td>-2879.202052</td>\n",
       "      <td>43</td>\n",
       "      <td>высшее</td>\n",
       "      <td>0</td>\n",
       "      <td>женат / замужем</td>\n",
       "      <td>0</td>\n",
       "      <td>F</td>\n",
       "      <td>компаньон</td>\n",
       "      <td>0</td>\n",
       "      <td>240525.971920</td>\n",
       "      <td>операции с жильем</td>\n",
       "    </tr>\n",
       "    <tr>\n",
       "      <th>7</th>\n",
       "      <td>0</td>\n",
       "      <td>-152.779569</td>\n",
       "      <td>50</td>\n",
       "      <td>СРЕДНЕЕ</td>\n",
       "      <td>1</td>\n",
       "      <td>женат / замужем</td>\n",
       "      <td>0</td>\n",
       "      <td>M</td>\n",
       "      <td>сотрудник</td>\n",
       "      <td>0</td>\n",
       "      <td>135823.934197</td>\n",
       "      <td>образование</td>\n",
       "    </tr>\n",
       "    <tr>\n",
       "      <th>8</th>\n",
       "      <td>2</td>\n",
       "      <td>-6929.865299</td>\n",
       "      <td>35</td>\n",
       "      <td>ВЫСШЕЕ</td>\n",
       "      <td>0</td>\n",
       "      <td>гражданский брак</td>\n",
       "      <td>1</td>\n",
       "      <td>F</td>\n",
       "      <td>сотрудник</td>\n",
       "      <td>0</td>\n",
       "      <td>95856.832424</td>\n",
       "      <td>на проведение свадьбы</td>\n",
       "    </tr>\n",
       "    <tr>\n",
       "      <th>9</th>\n",
       "      <td>0</td>\n",
       "      <td>-2188.756445</td>\n",
       "      <td>41</td>\n",
       "      <td>среднее</td>\n",
       "      <td>1</td>\n",
       "      <td>женат / замужем</td>\n",
       "      <td>0</td>\n",
       "      <td>M</td>\n",
       "      <td>сотрудник</td>\n",
       "      <td>0</td>\n",
       "      <td>144425.938277</td>\n",
       "      <td>покупка жилья для семьи</td>\n",
       "    </tr>\n",
       "  </tbody>\n",
       "</table>\n",
       "</div>"
      ],
      "text/plain": [
       "   children  days_employed  dob_years education  education_id  \\\n",
       "0         1   -8437.673028         42    высшее             0   \n",
       "1         1   -4024.803754         36   среднее             1   \n",
       "2         0   -5623.422610         33   Среднее             1   \n",
       "3         3   -4124.747207         32   среднее             1   \n",
       "4         0  340266.072047         53   среднее             1   \n",
       "5         0    -926.185831         27    высшее             0   \n",
       "6         0   -2879.202052         43    высшее             0   \n",
       "7         0    -152.779569         50   СРЕДНЕЕ             1   \n",
       "8         2   -6929.865299         35    ВЫСШЕЕ             0   \n",
       "9         0   -2188.756445         41   среднее             1   \n",
       "\n",
       "      family_status  family_status_id gender income_type  debt   total_income  \\\n",
       "0   женат / замужем                 0      F   сотрудник     0  253875.639453   \n",
       "1   женат / замужем                 0      F   сотрудник     0  112080.014102   \n",
       "2   женат / замужем                 0      M   сотрудник     0  145885.952297   \n",
       "3   женат / замужем                 0      M   сотрудник     0  267628.550329   \n",
       "4  гражданский брак                 1      F   пенсионер     0  158616.077870   \n",
       "5  гражданский брак                 1      M   компаньон     0  255763.565419   \n",
       "6   женат / замужем                 0      F   компаньон     0  240525.971920   \n",
       "7   женат / замужем                 0      M   сотрудник     0  135823.934197   \n",
       "8  гражданский брак                 1      F   сотрудник     0   95856.832424   \n",
       "9   женат / замужем                 0      M   сотрудник     0  144425.938277   \n",
       "\n",
       "                      purpose  \n",
       "0               покупка жилья  \n",
       "1     приобретение автомобиля  \n",
       "2               покупка жилья  \n",
       "3  дополнительное образование  \n",
       "4             сыграть свадьбу  \n",
       "5               покупка жилья  \n",
       "6           операции с жильем  \n",
       "7                 образование  \n",
       "8       на проведение свадьбы  \n",
       "9     покупка жилья для семьи  "
      ]
     },
     "execution_count": 3,
     "metadata": {},
     "output_type": "execute_result"
    }
   ],
   "source": [
    "df.head(10) # получение первых 10 строк таблицы df"
   ]
  },
  {
   "cell_type": "markdown",
   "id": "c985e022",
   "metadata": {},
   "source": [
    "В столбце `days_employed` есть отрицательные данные."
   ]
  },
  {
   "cell_type": "code",
   "execution_count": 4,
   "id": "c6fe88e1",
   "metadata": {},
   "outputs": [
    {
     "name": "stdout",
     "output_type": "stream",
     "text": [
      "<class 'pandas.core.frame.DataFrame'>\n",
      "RangeIndex: 21525 entries, 0 to 21524\n",
      "Data columns (total 12 columns):\n",
      " #   Column            Non-Null Count  Dtype  \n",
      "---  ------            --------------  -----  \n",
      " 0   children          21525 non-null  int64  \n",
      " 1   days_employed     19351 non-null  float64\n",
      " 2   dob_years         21525 non-null  int64  \n",
      " 3   education         21525 non-null  object \n",
      " 4   education_id      21525 non-null  int64  \n",
      " 5   family_status     21525 non-null  object \n",
      " 6   family_status_id  21525 non-null  int64  \n",
      " 7   gender            21525 non-null  object \n",
      " 8   income_type       21525 non-null  object \n",
      " 9   debt              21525 non-null  int64  \n",
      " 10  total_income      19351 non-null  float64\n",
      " 11  purpose           21525 non-null  object \n",
      "dtypes: float64(2), int64(5), object(5)\n",
      "memory usage: 2.0+ MB\n"
     ]
    }
   ],
   "source": [
    "df.info()# получение общей информации о данных в таблице df"
   ]
  },
  {
   "cell_type": "markdown",
   "id": "7ce6a7d5",
   "metadata": {},
   "source": [
    "В таблице двенадцать столбцов. Тип данных в столбцах — `object`, `int64`, `float64`, что соответсвует данным каждого столбца.\n",
    "Для удобства исследования, изменим тип данных в столбце `total_income` с `float64` на `int64`.\n",
    "\n",
    "Согласно документации к данным:\n",
    "\n",
    "* `children` — количество детей в семье\n",
    "* `days_employed` — общий трудовой стаж в днях\n",
    "* `dob_years` — возраст клиента в годах\n",
    "* `education` — уровень образования клиента\n",
    "* `education_id` — идентификатор уровня образования\n",
    "* `family_status` — семейное положение\n",
    "* `family_status_id` — идентификатор семейного положения\n",
    "* `gender` — пол клиента\n",
    "* `income_type` — тип занятости\n",
    "* `debt` — имел ли задолженность по возврату кредитов\n",
    "* `total_income` — ежемесячный доход\n",
    "* `purpose` — цель получения кредита\n",
    "\n",
    "Количество значений в столбцах различается. Значит, в данных есть пропущенные значения."
   ]
  },
  {
   "cell_type": "markdown",
   "id": "965549a2",
   "metadata": {},
   "source": [
    "**Выводы**\n",
    "\n",
    "В каждой строке таблицы — данные о клиентах. Часть колонок описывает личную информацию о клиентах: дети, стаж, образование, семейное положение, пол, тип занятости. Другая часть описывает финансовую составляющую: задолженность по кредитам, доход, цель получения кредита. \n",
    "\n",
    "Данных достаточно для ответа на поставленные вопросы. Но встречаются пропуски в данных.\n",
    "\n",
    "Изменим тип данных. Обработаем столбец с аномалиями. Устраним пропуски в даных. "
   ]
  },
  {
   "cell_type": "markdown",
   "id": "846d927a",
   "metadata": {},
   "source": [
    "<div class=\"alert alert-block alert-success\">\n",
    "<b>Комментарий ревьюера✅:</b> Хорошее начало, информация о данных изучена👍</div>"
   ]
  },
  {
   "cell_type": "markdown",
   "id": "5db05c2b",
   "metadata": {},
   "source": [
    "## Предобработка данных\n",
    "\n",
    "* Обработаем столбец с аномалиями.\n",
    "* Исключим пропуски. \n",
    "* Изменим тип даных.\n",
    "* Проверим данные на дубликаты."
   ]
  },
  {
   "cell_type": "markdown",
   "id": "049d4306",
   "metadata": {},
   "source": [
    "### Шаг 2.1 Заполнение пропусков"
   ]
  },
  {
   "cell_type": "markdown",
   "id": "3a7cecda",
   "metadata": {},
   "source": [
    "Посчитаем, сколько в таблице пропущенных значений. Для этого применим методы `pandas`: `isna()`, `sum()`"
   ]
  },
  {
   "cell_type": "code",
   "execution_count": 5,
   "id": "ca441269",
   "metadata": {},
   "outputs": [
    {
     "data": {
      "text/plain": [
       "children               0\n",
       "days_employed       2174\n",
       "dob_years              0\n",
       "education              0\n",
       "education_id           0\n",
       "family_status          0\n",
       "family_status_id       0\n",
       "gender                 0\n",
       "income_type            0\n",
       "debt                   0\n",
       "total_income        2174\n",
       "purpose                0\n",
       "dtype: int64"
      ]
     },
     "execution_count": 5,
     "metadata": {},
     "output_type": "execute_result"
    }
   ],
   "source": [
    "df.isna().sum()"
   ]
  },
  {
   "cell_type": "markdown",
   "id": "f0508fea",
   "metadata": {},
   "source": [
    "Мы обнаружили пропуски в столбцах: `days_employed` и `total_income`. \n",
    "Пропусков в двух столбцах одинаковое количество. Посчитаем долю пропусков в общем количестве строк: (2174 / 21525)* 100%, получим 10,1 %. Достаточно высокий процент. Для заполнения пропущенных строк попытаемся понять есть ли взаимосвязи между пропусками."
   ]
  },
  {
   "cell_type": "code",
   "execution_count": 6,
   "id": "506a6bfe",
   "metadata": {},
   "outputs": [
    {
     "data": {
      "text/html": [
       "<div>\n",
       "<style scoped>\n",
       "    .dataframe tbody tr th:only-of-type {\n",
       "        vertical-align: middle;\n",
       "    }\n",
       "\n",
       "    .dataframe tbody tr th {\n",
       "        vertical-align: top;\n",
       "    }\n",
       "\n",
       "    .dataframe thead th {\n",
       "        text-align: right;\n",
       "    }\n",
       "</style>\n",
       "<table border=\"1\" class=\"dataframe\">\n",
       "  <thead>\n",
       "    <tr style=\"text-align: right;\">\n",
       "      <th></th>\n",
       "      <th>children</th>\n",
       "      <th>days_employed</th>\n",
       "      <th>dob_years</th>\n",
       "      <th>education</th>\n",
       "      <th>education_id</th>\n",
       "      <th>family_status</th>\n",
       "      <th>family_status_id</th>\n",
       "      <th>gender</th>\n",
       "      <th>income_type</th>\n",
       "      <th>debt</th>\n",
       "      <th>total_income</th>\n",
       "      <th>purpose</th>\n",
       "    </tr>\n",
       "  </thead>\n",
       "  <tbody>\n",
       "    <tr>\n",
       "      <th>12</th>\n",
       "      <td>0</td>\n",
       "      <td>NaN</td>\n",
       "      <td>65</td>\n",
       "      <td>среднее</td>\n",
       "      <td>1</td>\n",
       "      <td>гражданский брак</td>\n",
       "      <td>1</td>\n",
       "      <td>M</td>\n",
       "      <td>пенсионер</td>\n",
       "      <td>0</td>\n",
       "      <td>NaN</td>\n",
       "      <td>сыграть свадьбу</td>\n",
       "    </tr>\n",
       "    <tr>\n",
       "      <th>26</th>\n",
       "      <td>0</td>\n",
       "      <td>NaN</td>\n",
       "      <td>41</td>\n",
       "      <td>среднее</td>\n",
       "      <td>1</td>\n",
       "      <td>женат / замужем</td>\n",
       "      <td>0</td>\n",
       "      <td>M</td>\n",
       "      <td>госслужащий</td>\n",
       "      <td>0</td>\n",
       "      <td>NaN</td>\n",
       "      <td>образование</td>\n",
       "    </tr>\n",
       "    <tr>\n",
       "      <th>29</th>\n",
       "      <td>0</td>\n",
       "      <td>NaN</td>\n",
       "      <td>63</td>\n",
       "      <td>среднее</td>\n",
       "      <td>1</td>\n",
       "      <td>Не женат / не замужем</td>\n",
       "      <td>4</td>\n",
       "      <td>F</td>\n",
       "      <td>пенсионер</td>\n",
       "      <td>0</td>\n",
       "      <td>NaN</td>\n",
       "      <td>строительство жилой недвижимости</td>\n",
       "    </tr>\n",
       "    <tr>\n",
       "      <th>41</th>\n",
       "      <td>0</td>\n",
       "      <td>NaN</td>\n",
       "      <td>50</td>\n",
       "      <td>среднее</td>\n",
       "      <td>1</td>\n",
       "      <td>женат / замужем</td>\n",
       "      <td>0</td>\n",
       "      <td>F</td>\n",
       "      <td>госслужащий</td>\n",
       "      <td>0</td>\n",
       "      <td>NaN</td>\n",
       "      <td>сделка с подержанным автомобилем</td>\n",
       "    </tr>\n",
       "    <tr>\n",
       "      <th>55</th>\n",
       "      <td>0</td>\n",
       "      <td>NaN</td>\n",
       "      <td>54</td>\n",
       "      <td>среднее</td>\n",
       "      <td>1</td>\n",
       "      <td>гражданский брак</td>\n",
       "      <td>1</td>\n",
       "      <td>F</td>\n",
       "      <td>пенсионер</td>\n",
       "      <td>1</td>\n",
       "      <td>NaN</td>\n",
       "      <td>сыграть свадьбу</td>\n",
       "    </tr>\n",
       "    <tr>\n",
       "      <th>65</th>\n",
       "      <td>0</td>\n",
       "      <td>NaN</td>\n",
       "      <td>21</td>\n",
       "      <td>среднее</td>\n",
       "      <td>1</td>\n",
       "      <td>Не женат / не замужем</td>\n",
       "      <td>4</td>\n",
       "      <td>M</td>\n",
       "      <td>компаньон</td>\n",
       "      <td>0</td>\n",
       "      <td>NaN</td>\n",
       "      <td>операции с коммерческой недвижимостью</td>\n",
       "    </tr>\n",
       "    <tr>\n",
       "      <th>67</th>\n",
       "      <td>0</td>\n",
       "      <td>NaN</td>\n",
       "      <td>52</td>\n",
       "      <td>высшее</td>\n",
       "      <td>0</td>\n",
       "      <td>женат / замужем</td>\n",
       "      <td>0</td>\n",
       "      <td>F</td>\n",
       "      <td>пенсионер</td>\n",
       "      <td>0</td>\n",
       "      <td>NaN</td>\n",
       "      <td>покупка жилья для семьи</td>\n",
       "    </tr>\n",
       "    <tr>\n",
       "      <th>72</th>\n",
       "      <td>1</td>\n",
       "      <td>NaN</td>\n",
       "      <td>32</td>\n",
       "      <td>высшее</td>\n",
       "      <td>0</td>\n",
       "      <td>женат / замужем</td>\n",
       "      <td>0</td>\n",
       "      <td>M</td>\n",
       "      <td>госслужащий</td>\n",
       "      <td>0</td>\n",
       "      <td>NaN</td>\n",
       "      <td>операции с коммерческой недвижимостью</td>\n",
       "    </tr>\n",
       "    <tr>\n",
       "      <th>82</th>\n",
       "      <td>2</td>\n",
       "      <td>NaN</td>\n",
       "      <td>50</td>\n",
       "      <td>высшее</td>\n",
       "      <td>0</td>\n",
       "      <td>женат / замужем</td>\n",
       "      <td>0</td>\n",
       "      <td>F</td>\n",
       "      <td>сотрудник</td>\n",
       "      <td>0</td>\n",
       "      <td>NaN</td>\n",
       "      <td>жилье</td>\n",
       "    </tr>\n",
       "    <tr>\n",
       "      <th>83</th>\n",
       "      <td>0</td>\n",
       "      <td>NaN</td>\n",
       "      <td>52</td>\n",
       "      <td>среднее</td>\n",
       "      <td>1</td>\n",
       "      <td>женат / замужем</td>\n",
       "      <td>0</td>\n",
       "      <td>M</td>\n",
       "      <td>сотрудник</td>\n",
       "      <td>0</td>\n",
       "      <td>NaN</td>\n",
       "      <td>жилье</td>\n",
       "    </tr>\n",
       "  </tbody>\n",
       "</table>\n",
       "</div>"
      ],
      "text/plain": [
       "    children  days_employed  dob_years education  education_id  \\\n",
       "12         0            NaN         65   среднее             1   \n",
       "26         0            NaN         41   среднее             1   \n",
       "29         0            NaN         63   среднее             1   \n",
       "41         0            NaN         50   среднее             1   \n",
       "55         0            NaN         54   среднее             1   \n",
       "65         0            NaN         21   среднее             1   \n",
       "67         0            NaN         52    высшее             0   \n",
       "72         1            NaN         32    высшее             0   \n",
       "82         2            NaN         50    высшее             0   \n",
       "83         0            NaN         52   среднее             1   \n",
       "\n",
       "            family_status  family_status_id gender  income_type  debt  \\\n",
       "12       гражданский брак                 1      M    пенсионер     0   \n",
       "26        женат / замужем                 0      M  госслужащий     0   \n",
       "29  Не женат / не замужем                 4      F    пенсионер     0   \n",
       "41        женат / замужем                 0      F  госслужащий     0   \n",
       "55       гражданский брак                 1      F    пенсионер     1   \n",
       "65  Не женат / не замужем                 4      M    компаньон     0   \n",
       "67        женат / замужем                 0      F    пенсионер     0   \n",
       "72        женат / замужем                 0      M  госслужащий     0   \n",
       "82        женат / замужем                 0      F    сотрудник     0   \n",
       "83        женат / замужем                 0      M    сотрудник     0   \n",
       "\n",
       "    total_income                                purpose  \n",
       "12           NaN                        сыграть свадьбу  \n",
       "26           NaN                            образование  \n",
       "29           NaN       строительство жилой недвижимости  \n",
       "41           NaN       сделка с подержанным автомобилем  \n",
       "55           NaN                        сыграть свадьбу  \n",
       "65           NaN  операции с коммерческой недвижимостью  \n",
       "67           NaN                покупка жилья для семьи  \n",
       "72           NaN  операции с коммерческой недвижимостью  \n",
       "82           NaN                                  жилье  \n",
       "83           NaN                                  жилье  "
      ]
     },
     "execution_count": 6,
     "metadata": {},
     "output_type": "execute_result"
    }
   ],
   "source": [
    "df[df['days_employed'].isna()].head(10) # применим метод isna()"
   ]
  },
  {
   "cell_type": "markdown",
   "id": "5a0a0651",
   "metadata": {},
   "source": [
    "**Вывод**\n",
    "Столбцы: `days_employed` и `total_income` имеют одиноковые пропуски, но они не связаны с другими данными (возраст, пол, семейное положение, профессия и тд.).\n",
    "Взаимосвязи между пропусками и какой-либо другой информацией нет.\n",
    "Можно сделать вывод, что пропуски данных о трудовом стаже и доходе взаимосвязаны только между собой. Так как эти данные важны для исследования, будем искать способы заполнить данные пропуски."
   ]
  },
  {
   "cell_type": "markdown",
   "id": "88849bbc",
   "metadata": {},
   "source": [
    "Данные пропуски относятся к количественным переменным, к ним применим методы среднее арифметическое `mean()` или медиана `median()`.\n",
    "В случае ежемесячного дохода и общего стажа лучше применить метод `median()`. Он покажет более точные данные, чем метод `mean()`, так как среднее значение некорректно характеризует данные, когда некоторые значения сильно выделяются среди большинства. Для столбца `total_income` применим метод `groupby` в конбинации с функцией `transform`, которая поможет заполнить медианными значениями в разрезе `income_type`. "
   ]
  },
  {
   "cell_type": "markdown",
   "id": "c615a0d7",
   "metadata": {},
   "source": [
    "<div class=\"alert alert-block alert-info\">\n",
    "<b>Комментарий студента:</b> \n",
    "Привет, Николай! Нашла метод transform и решила применить его в проекте. Спасибо за идею и мои новые знания)\n",
    "</div>"
   ]
  },
  {
   "cell_type": "markdown",
   "id": "76aa23e3",
   "metadata": {},
   "source": [
    "<div class=\"alert alert-block alert-success\">\n",
    "<b>Комментарий ревьюера_v2✅:</b> 👍 </div>"
   ]
  },
  {
   "cell_type": "code",
   "execution_count": 7,
   "id": "2ef43bea",
   "metadata": {},
   "outputs": [
    {
     "data": {
      "text/html": [
       "<div>\n",
       "<style scoped>\n",
       "    .dataframe tbody tr th:only-of-type {\n",
       "        vertical-align: middle;\n",
       "    }\n",
       "\n",
       "    .dataframe tbody tr th {\n",
       "        vertical-align: top;\n",
       "    }\n",
       "\n",
       "    .dataframe thead th {\n",
       "        text-align: right;\n",
       "    }\n",
       "</style>\n",
       "<table border=\"1\" class=\"dataframe\">\n",
       "  <thead>\n",
       "    <tr style=\"text-align: right;\">\n",
       "      <th></th>\n",
       "      <th>children</th>\n",
       "      <th>days_employed</th>\n",
       "      <th>dob_years</th>\n",
       "      <th>education</th>\n",
       "      <th>education_id</th>\n",
       "      <th>family_status</th>\n",
       "      <th>family_status_id</th>\n",
       "      <th>gender</th>\n",
       "      <th>income_type</th>\n",
       "      <th>debt</th>\n",
       "      <th>total_income</th>\n",
       "      <th>purpose</th>\n",
       "    </tr>\n",
       "  </thead>\n",
       "  <tbody>\n",
       "    <tr>\n",
       "      <th>0</th>\n",
       "      <td>1</td>\n",
       "      <td>-8437.673028</td>\n",
       "      <td>42</td>\n",
       "      <td>высшее</td>\n",
       "      <td>0</td>\n",
       "      <td>женат / замужем</td>\n",
       "      <td>0</td>\n",
       "      <td>F</td>\n",
       "      <td>сотрудник</td>\n",
       "      <td>0</td>\n",
       "      <td>253875.639453</td>\n",
       "      <td>покупка жилья</td>\n",
       "    </tr>\n",
       "    <tr>\n",
       "      <th>1</th>\n",
       "      <td>1</td>\n",
       "      <td>-4024.803754</td>\n",
       "      <td>36</td>\n",
       "      <td>среднее</td>\n",
       "      <td>1</td>\n",
       "      <td>женат / замужем</td>\n",
       "      <td>0</td>\n",
       "      <td>F</td>\n",
       "      <td>сотрудник</td>\n",
       "      <td>0</td>\n",
       "      <td>112080.014102</td>\n",
       "      <td>приобретение автомобиля</td>\n",
       "    </tr>\n",
       "    <tr>\n",
       "      <th>2</th>\n",
       "      <td>0</td>\n",
       "      <td>-5623.422610</td>\n",
       "      <td>33</td>\n",
       "      <td>Среднее</td>\n",
       "      <td>1</td>\n",
       "      <td>женат / замужем</td>\n",
       "      <td>0</td>\n",
       "      <td>M</td>\n",
       "      <td>сотрудник</td>\n",
       "      <td>0</td>\n",
       "      <td>145885.952297</td>\n",
       "      <td>покупка жилья</td>\n",
       "    </tr>\n",
       "    <tr>\n",
       "      <th>3</th>\n",
       "      <td>3</td>\n",
       "      <td>-4124.747207</td>\n",
       "      <td>32</td>\n",
       "      <td>среднее</td>\n",
       "      <td>1</td>\n",
       "      <td>женат / замужем</td>\n",
       "      <td>0</td>\n",
       "      <td>M</td>\n",
       "      <td>сотрудник</td>\n",
       "      <td>0</td>\n",
       "      <td>267628.550329</td>\n",
       "      <td>дополнительное образование</td>\n",
       "    </tr>\n",
       "    <tr>\n",
       "      <th>4</th>\n",
       "      <td>0</td>\n",
       "      <td>340266.072047</td>\n",
       "      <td>53</td>\n",
       "      <td>среднее</td>\n",
       "      <td>1</td>\n",
       "      <td>гражданский брак</td>\n",
       "      <td>1</td>\n",
       "      <td>F</td>\n",
       "      <td>пенсионер</td>\n",
       "      <td>0</td>\n",
       "      <td>158616.077870</td>\n",
       "      <td>сыграть свадьбу</td>\n",
       "    </tr>\n",
       "    <tr>\n",
       "      <th>5</th>\n",
       "      <td>0</td>\n",
       "      <td>-926.185831</td>\n",
       "      <td>27</td>\n",
       "      <td>высшее</td>\n",
       "      <td>0</td>\n",
       "      <td>гражданский брак</td>\n",
       "      <td>1</td>\n",
       "      <td>M</td>\n",
       "      <td>компаньон</td>\n",
       "      <td>0</td>\n",
       "      <td>255763.565419</td>\n",
       "      <td>покупка жилья</td>\n",
       "    </tr>\n",
       "    <tr>\n",
       "      <th>6</th>\n",
       "      <td>0</td>\n",
       "      <td>-2879.202052</td>\n",
       "      <td>43</td>\n",
       "      <td>высшее</td>\n",
       "      <td>0</td>\n",
       "      <td>женат / замужем</td>\n",
       "      <td>0</td>\n",
       "      <td>F</td>\n",
       "      <td>компаньон</td>\n",
       "      <td>0</td>\n",
       "      <td>240525.971920</td>\n",
       "      <td>операции с жильем</td>\n",
       "    </tr>\n",
       "    <tr>\n",
       "      <th>7</th>\n",
       "      <td>0</td>\n",
       "      <td>-152.779569</td>\n",
       "      <td>50</td>\n",
       "      <td>СРЕДНЕЕ</td>\n",
       "      <td>1</td>\n",
       "      <td>женат / замужем</td>\n",
       "      <td>0</td>\n",
       "      <td>M</td>\n",
       "      <td>сотрудник</td>\n",
       "      <td>0</td>\n",
       "      <td>135823.934197</td>\n",
       "      <td>образование</td>\n",
       "    </tr>\n",
       "    <tr>\n",
       "      <th>8</th>\n",
       "      <td>2</td>\n",
       "      <td>-6929.865299</td>\n",
       "      <td>35</td>\n",
       "      <td>ВЫСШЕЕ</td>\n",
       "      <td>0</td>\n",
       "      <td>гражданский брак</td>\n",
       "      <td>1</td>\n",
       "      <td>F</td>\n",
       "      <td>сотрудник</td>\n",
       "      <td>0</td>\n",
       "      <td>95856.832424</td>\n",
       "      <td>на проведение свадьбы</td>\n",
       "    </tr>\n",
       "    <tr>\n",
       "      <th>9</th>\n",
       "      <td>0</td>\n",
       "      <td>-2188.756445</td>\n",
       "      <td>41</td>\n",
       "      <td>среднее</td>\n",
       "      <td>1</td>\n",
       "      <td>женат / замужем</td>\n",
       "      <td>0</td>\n",
       "      <td>M</td>\n",
       "      <td>сотрудник</td>\n",
       "      <td>0</td>\n",
       "      <td>144425.938277</td>\n",
       "      <td>покупка жилья для семьи</td>\n",
       "    </tr>\n",
       "  </tbody>\n",
       "</table>\n",
       "</div>"
      ],
      "text/plain": [
       "   children  days_employed  dob_years education  education_id  \\\n",
       "0         1   -8437.673028         42    высшее             0   \n",
       "1         1   -4024.803754         36   среднее             1   \n",
       "2         0   -5623.422610         33   Среднее             1   \n",
       "3         3   -4124.747207         32   среднее             1   \n",
       "4         0  340266.072047         53   среднее             1   \n",
       "5         0    -926.185831         27    высшее             0   \n",
       "6         0   -2879.202052         43    высшее             0   \n",
       "7         0    -152.779569         50   СРЕДНЕЕ             1   \n",
       "8         2   -6929.865299         35    ВЫСШЕЕ             0   \n",
       "9         0   -2188.756445         41   среднее             1   \n",
       "\n",
       "      family_status  family_status_id gender income_type  debt   total_income  \\\n",
       "0   женат / замужем                 0      F   сотрудник     0  253875.639453   \n",
       "1   женат / замужем                 0      F   сотрудник     0  112080.014102   \n",
       "2   женат / замужем                 0      M   сотрудник     0  145885.952297   \n",
       "3   женат / замужем                 0      M   сотрудник     0  267628.550329   \n",
       "4  гражданский брак                 1      F   пенсионер     0  158616.077870   \n",
       "5  гражданский брак                 1      M   компаньон     0  255763.565419   \n",
       "6   женат / замужем                 0      F   компаньон     0  240525.971920   \n",
       "7   женат / замужем                 0      M   сотрудник     0  135823.934197   \n",
       "8  гражданский брак                 1      F   сотрудник     0   95856.832424   \n",
       "9   женат / замужем                 0      M   сотрудник     0  144425.938277   \n",
       "\n",
       "                      purpose  \n",
       "0               покупка жилья  \n",
       "1     приобретение автомобиля  \n",
       "2               покупка жилья  \n",
       "3  дополнительное образование  \n",
       "4             сыграть свадьбу  \n",
       "5               покупка жилья  \n",
       "6           операции с жильем  \n",
       "7                 образование  \n",
       "8       на проведение свадьбы  \n",
       "9     покупка жилья для семьи  "
      ]
     },
     "metadata": {},
     "output_type": "display_data"
    }
   ],
   "source": [
    "median_table = df.groupby('income_type')['total_income'].transform('median') # применим метод median() с функцией transform() \n",
    "df['total_income'] = df['total_income'].fillna(median_table) # выведим данные для просмотра\n",
    "display(df.head(10))"
   ]
  },
  {
   "cell_type": "markdown",
   "id": "e3e538ac",
   "metadata": {},
   "source": [
    "В столбце `days_employed` обнаружили отрицательные значения. В данном столбце хранится информация об общем трудовом стаже в днях. Данная информация не может быть отрицательной. Скорее всего при выгрузке данных произошла техническая ошибка. Исправим отрицательные данные на положительные. Применим метод `abs`."
   ]
  },
  {
   "cell_type": "code",
   "execution_count": 8,
   "id": "1b1a675e",
   "metadata": {},
   "outputs": [
    {
     "data": {
      "text/html": [
       "<div>\n",
       "<style scoped>\n",
       "    .dataframe tbody tr th:only-of-type {\n",
       "        vertical-align: middle;\n",
       "    }\n",
       "\n",
       "    .dataframe tbody tr th {\n",
       "        vertical-align: top;\n",
       "    }\n",
       "\n",
       "    .dataframe thead th {\n",
       "        text-align: right;\n",
       "    }\n",
       "</style>\n",
       "<table border=\"1\" class=\"dataframe\">\n",
       "  <thead>\n",
       "    <tr style=\"text-align: right;\">\n",
       "      <th></th>\n",
       "      <th>children</th>\n",
       "      <th>days_employed</th>\n",
       "      <th>dob_years</th>\n",
       "      <th>education</th>\n",
       "      <th>education_id</th>\n",
       "      <th>family_status</th>\n",
       "      <th>family_status_id</th>\n",
       "      <th>gender</th>\n",
       "      <th>income_type</th>\n",
       "      <th>debt</th>\n",
       "      <th>total_income</th>\n",
       "      <th>purpose</th>\n",
       "    </tr>\n",
       "  </thead>\n",
       "  <tbody>\n",
       "    <tr>\n",
       "      <th>0</th>\n",
       "      <td>1</td>\n",
       "      <td>8437.673028</td>\n",
       "      <td>42</td>\n",
       "      <td>высшее</td>\n",
       "      <td>0</td>\n",
       "      <td>женат / замужем</td>\n",
       "      <td>0</td>\n",
       "      <td>F</td>\n",
       "      <td>сотрудник</td>\n",
       "      <td>0</td>\n",
       "      <td>253875.639453</td>\n",
       "      <td>покупка жилья</td>\n",
       "    </tr>\n",
       "    <tr>\n",
       "      <th>1</th>\n",
       "      <td>1</td>\n",
       "      <td>4024.803754</td>\n",
       "      <td>36</td>\n",
       "      <td>среднее</td>\n",
       "      <td>1</td>\n",
       "      <td>женат / замужем</td>\n",
       "      <td>0</td>\n",
       "      <td>F</td>\n",
       "      <td>сотрудник</td>\n",
       "      <td>0</td>\n",
       "      <td>112080.014102</td>\n",
       "      <td>приобретение автомобиля</td>\n",
       "    </tr>\n",
       "    <tr>\n",
       "      <th>2</th>\n",
       "      <td>0</td>\n",
       "      <td>5623.422610</td>\n",
       "      <td>33</td>\n",
       "      <td>Среднее</td>\n",
       "      <td>1</td>\n",
       "      <td>женат / замужем</td>\n",
       "      <td>0</td>\n",
       "      <td>M</td>\n",
       "      <td>сотрудник</td>\n",
       "      <td>0</td>\n",
       "      <td>145885.952297</td>\n",
       "      <td>покупка жилья</td>\n",
       "    </tr>\n",
       "    <tr>\n",
       "      <th>3</th>\n",
       "      <td>3</td>\n",
       "      <td>4124.747207</td>\n",
       "      <td>32</td>\n",
       "      <td>среднее</td>\n",
       "      <td>1</td>\n",
       "      <td>женат / замужем</td>\n",
       "      <td>0</td>\n",
       "      <td>M</td>\n",
       "      <td>сотрудник</td>\n",
       "      <td>0</td>\n",
       "      <td>267628.550329</td>\n",
       "      <td>дополнительное образование</td>\n",
       "    </tr>\n",
       "    <tr>\n",
       "      <th>4</th>\n",
       "      <td>0</td>\n",
       "      <td>340266.072047</td>\n",
       "      <td>53</td>\n",
       "      <td>среднее</td>\n",
       "      <td>1</td>\n",
       "      <td>гражданский брак</td>\n",
       "      <td>1</td>\n",
       "      <td>F</td>\n",
       "      <td>пенсионер</td>\n",
       "      <td>0</td>\n",
       "      <td>158616.077870</td>\n",
       "      <td>сыграть свадьбу</td>\n",
       "    </tr>\n",
       "    <tr>\n",
       "      <th>5</th>\n",
       "      <td>0</td>\n",
       "      <td>926.185831</td>\n",
       "      <td>27</td>\n",
       "      <td>высшее</td>\n",
       "      <td>0</td>\n",
       "      <td>гражданский брак</td>\n",
       "      <td>1</td>\n",
       "      <td>M</td>\n",
       "      <td>компаньон</td>\n",
       "      <td>0</td>\n",
       "      <td>255763.565419</td>\n",
       "      <td>покупка жилья</td>\n",
       "    </tr>\n",
       "    <tr>\n",
       "      <th>6</th>\n",
       "      <td>0</td>\n",
       "      <td>2879.202052</td>\n",
       "      <td>43</td>\n",
       "      <td>высшее</td>\n",
       "      <td>0</td>\n",
       "      <td>женат / замужем</td>\n",
       "      <td>0</td>\n",
       "      <td>F</td>\n",
       "      <td>компаньон</td>\n",
       "      <td>0</td>\n",
       "      <td>240525.971920</td>\n",
       "      <td>операции с жильем</td>\n",
       "    </tr>\n",
       "    <tr>\n",
       "      <th>7</th>\n",
       "      <td>0</td>\n",
       "      <td>152.779569</td>\n",
       "      <td>50</td>\n",
       "      <td>СРЕДНЕЕ</td>\n",
       "      <td>1</td>\n",
       "      <td>женат / замужем</td>\n",
       "      <td>0</td>\n",
       "      <td>M</td>\n",
       "      <td>сотрудник</td>\n",
       "      <td>0</td>\n",
       "      <td>135823.934197</td>\n",
       "      <td>образование</td>\n",
       "    </tr>\n",
       "    <tr>\n",
       "      <th>8</th>\n",
       "      <td>2</td>\n",
       "      <td>6929.865299</td>\n",
       "      <td>35</td>\n",
       "      <td>ВЫСШЕЕ</td>\n",
       "      <td>0</td>\n",
       "      <td>гражданский брак</td>\n",
       "      <td>1</td>\n",
       "      <td>F</td>\n",
       "      <td>сотрудник</td>\n",
       "      <td>0</td>\n",
       "      <td>95856.832424</td>\n",
       "      <td>на проведение свадьбы</td>\n",
       "    </tr>\n",
       "    <tr>\n",
       "      <th>9</th>\n",
       "      <td>0</td>\n",
       "      <td>2188.756445</td>\n",
       "      <td>41</td>\n",
       "      <td>среднее</td>\n",
       "      <td>1</td>\n",
       "      <td>женат / замужем</td>\n",
       "      <td>0</td>\n",
       "      <td>M</td>\n",
       "      <td>сотрудник</td>\n",
       "      <td>0</td>\n",
       "      <td>144425.938277</td>\n",
       "      <td>покупка жилья для семьи</td>\n",
       "    </tr>\n",
       "  </tbody>\n",
       "</table>\n",
       "</div>"
      ],
      "text/plain": [
       "   children  days_employed  dob_years education  education_id  \\\n",
       "0         1    8437.673028         42    высшее             0   \n",
       "1         1    4024.803754         36   среднее             1   \n",
       "2         0    5623.422610         33   Среднее             1   \n",
       "3         3    4124.747207         32   среднее             1   \n",
       "4         0  340266.072047         53   среднее             1   \n",
       "5         0     926.185831         27    высшее             0   \n",
       "6         0    2879.202052         43    высшее             0   \n",
       "7         0     152.779569         50   СРЕДНЕЕ             1   \n",
       "8         2    6929.865299         35    ВЫСШЕЕ             0   \n",
       "9         0    2188.756445         41   среднее             1   \n",
       "\n",
       "      family_status  family_status_id gender income_type  debt   total_income  \\\n",
       "0   женат / замужем                 0      F   сотрудник     0  253875.639453   \n",
       "1   женат / замужем                 0      F   сотрудник     0  112080.014102   \n",
       "2   женат / замужем                 0      M   сотрудник     0  145885.952297   \n",
       "3   женат / замужем                 0      M   сотрудник     0  267628.550329   \n",
       "4  гражданский брак                 1      F   пенсионер     0  158616.077870   \n",
       "5  гражданский брак                 1      M   компаньон     0  255763.565419   \n",
       "6   женат / замужем                 0      F   компаньон     0  240525.971920   \n",
       "7   женат / замужем                 0      M   сотрудник     0  135823.934197   \n",
       "8  гражданский брак                 1      F   сотрудник     0   95856.832424   \n",
       "9   женат / замужем                 0      M   сотрудник     0  144425.938277   \n",
       "\n",
       "                      purpose  \n",
       "0               покупка жилья  \n",
       "1     приобретение автомобиля  \n",
       "2               покупка жилья  \n",
       "3  дополнительное образование  \n",
       "4             сыграть свадьбу  \n",
       "5               покупка жилья  \n",
       "6           операции с жильем  \n",
       "7                 образование  \n",
       "8       на проведение свадьбы  \n",
       "9     покупка жилья для семьи  "
      ]
     },
     "metadata": {},
     "output_type": "display_data"
    }
   ],
   "source": [
    "df['days_employed'] = df['days_employed'].abs()\n",
    "display(df.head(10)) # выведим данные для просмотра"
   ]
  },
  {
   "cell_type": "code",
   "execution_count": 9,
   "id": "859953c6",
   "metadata": {},
   "outputs": [
    {
     "data": {
      "text/plain": [
       "2194.220566878695"
      ]
     },
     "metadata": {},
     "output_type": "display_data"
    }
   ],
   "source": [
    "median_days_employed = df['days_employed'].median() # применим метод median() \n",
    "display(median_days_employed) # выведим данные для просмотра"
   ]
  },
  {
   "cell_type": "markdown",
   "id": "6d251a6e",
   "metadata": {},
   "source": [
    "Заменим пропуски в столбце `days_employed`."
   ]
  },
  {
   "cell_type": "code",
   "execution_count": 10,
   "id": "a38f90db",
   "metadata": {},
   "outputs": [
    {
     "data": {
      "text/plain": [
       "0      8437.673028\n",
       "1      4024.803754\n",
       "2      5623.422610\n",
       "3      4124.747207\n",
       "4    340266.072047\n",
       "5       926.185831\n",
       "6      2879.202052\n",
       "7       152.779569\n",
       "8      6929.865299\n",
       "9      2188.756445\n",
       "Name: days_employed, dtype: float64"
      ]
     },
     "metadata": {},
     "output_type": "display_data"
    }
   ],
   "source": [
    "df['days_employed'] = df['days_employed'].fillna(value=median_days_employed) # применим метод fillna()\n",
    "display(df['days_employed'].head(10)) # выведим данные для просмотра"
   ]
  },
  {
   "cell_type": "markdown",
   "id": "352f6922",
   "metadata": {},
   "source": [
    "<div class=\"alert alert-block alert-warning\">\n",
    "<b>Комментарий ревьюера⚠️:</b> \n",
    "Есть еще один, более интересный способ заполнения пропусков. Например, доход клиента (total_income) можно заполнить медианными значениями в разрезе income_type - для каждого income_type посчитать медианный total_income и заполнить пропуски ими. Так мы не усредним данные и меньше повлияем на распределение)"
   ]
  },
  {
   "cell_type": "markdown",
   "id": "993e87e3",
   "metadata": {},
   "source": [
    "### Шаг 2.2 Проверка данных на аномалии и исправления."
   ]
  },
  {
   "cell_type": "markdown",
   "id": "3147fdcf",
   "metadata": {},
   "source": [
    "Проверим столбцы: `children`, `dob_years`, `education_id`, `family_status_id`, `gender`, `debt` на наличие аномалий."
   ]
  },
  {
   "cell_type": "markdown",
   "id": "3421fb11",
   "metadata": {},
   "source": [
    "Проверим столбец `children`. Применим метод `value_counts()`."
   ]
  },
  {
   "cell_type": "code",
   "execution_count": 11,
   "id": "c4708a41",
   "metadata": {},
   "outputs": [
    {
     "data": {
      "text/plain": [
       " 0     14149\n",
       " 1      4818\n",
       " 2      2055\n",
       " 3       330\n",
       " 20       76\n",
       "-1        47\n",
       " 4        41\n",
       " 5         9\n",
       "Name: children, dtype: int64"
      ]
     },
     "execution_count": 11,
     "metadata": {},
     "output_type": "execute_result"
    }
   ],
   "source": [
    "df['children'].value_counts()"
   ]
  },
  {
   "cell_type": "markdown",
   "id": "e847a91d",
   "metadata": {},
   "source": [
    "В данном столбце видим следующие аномалии: отрицательное значение и количество детей 20 у 76 клиентов. Скорее всего это ошибка вызвана человеческим фактором, т.е. при заполнении данных, произошла ошибка. Допустим, что детей не 20, а 2.\n",
    "Произведем следующие действия:\n",
    "1. Заменим -1 на 1;\n",
    "2. Исправим 20 на 2;\n",
    "3. Проверим результат.\n",
    "\n",
    "Для этого воспользуемся методом `loc`."
   ]
  },
  {
   "cell_type": "code",
   "execution_count": 12,
   "id": "c2484577",
   "metadata": {},
   "outputs": [
    {
     "data": {
      "text/plain": [
       "0    14149\n",
       "1     4865\n",
       "2     2131\n",
       "3      330\n",
       "4       41\n",
       "5        9\n",
       "Name: children, dtype: int64"
      ]
     },
     "execution_count": 12,
     "metadata": {},
     "output_type": "execute_result"
    }
   ],
   "source": [
    "df.loc[df['children']==-1, 'children']=1\n",
    "df.loc[df['children']==20, 'children']=2\n",
    "df['children'].value_counts()"
   ]
  },
  {
   "cell_type": "markdown",
   "id": "4378d5ba",
   "metadata": {},
   "source": [
    "<div class=\"alert alert-block alert-success\">\n",
    "<b>Комментарий ревьюера✅:</b> Согласен😉</div>"
   ]
  },
  {
   "cell_type": "markdown",
   "id": "6477372a",
   "metadata": {},
   "source": [
    "Теперь проверим столбец `dob_years`. Применим метод `value_counts()`."
   ]
  },
  {
   "cell_type": "code",
   "execution_count": 13,
   "id": "cb726fb7",
   "metadata": {},
   "outputs": [
    {
     "data": {
      "text/plain": [
       "35    617\n",
       "40    609\n",
       "41    607\n",
       "34    603\n",
       "38    598\n",
       "42    597\n",
       "33    581\n",
       "39    573\n",
       "31    560\n",
       "36    555\n",
       "44    547\n",
       "29    545\n",
       "30    540\n",
       "48    538\n",
       "37    537\n",
       "50    514\n",
       "43    513\n",
       "32    510\n",
       "49    508\n",
       "28    503\n",
       "45    497\n",
       "27    493\n",
       "56    487\n",
       "52    484\n",
       "47    480\n",
       "54    479\n",
       "46    475\n",
       "58    461\n",
       "57    460\n",
       "53    459\n",
       "51    448\n",
       "59    444\n",
       "55    443\n",
       "26    408\n",
       "60    377\n",
       "25    357\n",
       "61    355\n",
       "62    352\n",
       "63    269\n",
       "64    265\n",
       "24    264\n",
       "23    254\n",
       "65    194\n",
       "66    183\n",
       "22    183\n",
       "67    167\n",
       "21    111\n",
       "0     101\n",
       "68     99\n",
       "69     85\n",
       "70     65\n",
       "71     58\n",
       "20     51\n",
       "72     33\n",
       "19     14\n",
       "73      8\n",
       "74      6\n",
       "75      1\n",
       "Name: dob_years, dtype: int64"
      ]
     },
     "execution_count": 13,
     "metadata": {},
     "output_type": "execute_result"
    }
   ],
   "source": [
    "df['dob_years'].value_counts()"
   ]
  },
  {
   "cell_type": "markdown",
   "id": "6518ce47",
   "metadata": {},
   "source": [
    "Выявили 0 в 101 случаи. Сложно понять какая была ошибка, поэтому воспользуемся методом `median()`. Он покажет более точные данные, чем метод `mean()`, так как среднее значение некорректно характеризует данные, когда некоторые значения сильно выделяются среди большинства."
   ]
  },
  {
   "cell_type": "code",
   "execution_count": 14,
   "id": "f840d289",
   "metadata": {},
   "outputs": [],
   "source": [
    "median_dob_years = df['dob_years'].median() # находим медиану "
   ]
  },
  {
   "cell_type": "code",
   "execution_count": 15,
   "id": "cfb0f9a9",
   "metadata": {},
   "outputs": [
    {
     "data": {
      "text/plain": [
       "42.0    698\n",
       "35.0    617\n",
       "40.0    609\n",
       "41.0    607\n",
       "34.0    603\n",
       "38.0    598\n",
       "33.0    581\n",
       "39.0    573\n",
       "31.0    560\n",
       "36.0    555\n",
       "44.0    547\n",
       "29.0    545\n",
       "30.0    540\n",
       "48.0    538\n",
       "37.0    537\n",
       "50.0    514\n",
       "43.0    513\n",
       "32.0    510\n",
       "49.0    508\n",
       "28.0    503\n",
       "45.0    497\n",
       "27.0    493\n",
       "56.0    487\n",
       "52.0    484\n",
       "47.0    480\n",
       "54.0    479\n",
       "46.0    475\n",
       "58.0    461\n",
       "57.0    460\n",
       "53.0    459\n",
       "51.0    448\n",
       "59.0    444\n",
       "55.0    443\n",
       "26.0    408\n",
       "60.0    377\n",
       "25.0    357\n",
       "61.0    355\n",
       "62.0    352\n",
       "63.0    269\n",
       "64.0    265\n",
       "24.0    264\n",
       "23.0    254\n",
       "65.0    194\n",
       "66.0    183\n",
       "22.0    183\n",
       "67.0    167\n",
       "21.0    111\n",
       "68.0     99\n",
       "69.0     85\n",
       "70.0     65\n",
       "71.0     58\n",
       "20.0     51\n",
       "72.0     33\n",
       "19.0     14\n",
       "73.0      8\n",
       "74.0      6\n",
       "75.0      1\n",
       "Name: dob_years, dtype: int64"
      ]
     },
     "execution_count": 15,
     "metadata": {},
     "output_type": "execute_result"
    }
   ],
   "source": [
    "df.loc[df['dob_years']==0, 'dob_years'] = median_dob_years # методом Loc меняем 0 на полученную медиану\n",
    "df['dob_years'].value_counts() # проверяем данные"
   ]
  },
  {
   "cell_type": "markdown",
   "id": "c0ed6f4f",
   "metadata": {},
   "source": [
    "<div class=\"alert alert-block alert-success\">\n",
    "<b>Комментарий ревьюера✅:</b> Логично😉</div>"
   ]
  },
  {
   "cell_type": "markdown",
   "id": "13c9a878",
   "metadata": {},
   "source": [
    "Теперь проверим столбец `education_id`. Применим метод `value_counts()`."
   ]
  },
  {
   "cell_type": "code",
   "execution_count": 16,
   "id": "77cfa6c4",
   "metadata": {},
   "outputs": [
    {
     "data": {
      "text/plain": [
       "1    15233\n",
       "0     5260\n",
       "2      744\n",
       "3      282\n",
       "4        6\n",
       "Name: education_id, dtype: int64"
      ]
     },
     "execution_count": 16,
     "metadata": {},
     "output_type": "execute_result"
    }
   ],
   "source": [
    "df['education_id'].value_counts()"
   ]
  },
  {
   "cell_type": "markdown",
   "id": "2737daaa",
   "metadata": {},
   "source": [
    "Теперь проверим столбец `family_status_id`. Применим метод `value_counts()`."
   ]
  },
  {
   "cell_type": "code",
   "execution_count": 17,
   "id": "36a341f0",
   "metadata": {},
   "outputs": [
    {
     "data": {
      "text/plain": [
       "0    12380\n",
       "1     4177\n",
       "4     2813\n",
       "3     1195\n",
       "2      960\n",
       "Name: family_status_id, dtype: int64"
      ]
     },
     "execution_count": 17,
     "metadata": {},
     "output_type": "execute_result"
    }
   ],
   "source": [
    "df['family_status_id'].value_counts()"
   ]
  },
  {
   "cell_type": "markdown",
   "id": "1eb2f2e1",
   "metadata": {},
   "source": [
    "Теперь проверим столбец `gender`. Применим метод `value_counts()`."
   ]
  },
  {
   "cell_type": "code",
   "execution_count": 18,
   "id": "2273e09f",
   "metadata": {},
   "outputs": [
    {
     "data": {
      "text/plain": [
       "F      14236\n",
       "M       7288\n",
       "XNA        1\n",
       "Name: gender, dtype: int64"
      ]
     },
     "execution_count": 18,
     "metadata": {},
     "output_type": "execute_result"
    }
   ],
   "source": [
    "df['gender'].value_counts()"
   ]
  },
  {
   "cell_type": "markdown",
   "id": "24cea52c",
   "metadata": {},
   "source": [
    "Обнаружили XNA. Так как количество таких аномалий составлеяет единицу, на исследование это не повлияет. Удалим данную аномалию."
   ]
  },
  {
   "cell_type": "code",
   "execution_count": 19,
   "id": "45578d0e",
   "metadata": {},
   "outputs": [
    {
     "data": {
      "text/plain": [
       "F    14236\n",
       "M     7288\n",
       "Name: gender, dtype: int64"
      ]
     },
     "execution_count": 19,
     "metadata": {},
     "output_type": "execute_result"
    }
   ],
   "source": [
    "df = df.loc[df['gender'] != 'XNA'] # применим метод Loc \n",
    "df['gender'].value_counts() # проверяем данные"
   ]
  },
  {
   "cell_type": "markdown",
   "id": "a3dd157f",
   "metadata": {},
   "source": [
    "<div class=\"alert alert-block alert-success\">\n",
    "<b>Комментарий ревьюера✅:</b> Аргументировано👍</div>"
   ]
  },
  {
   "cell_type": "markdown",
   "id": "84670abc",
   "metadata": {},
   "source": [
    "Теперь проверим столбец `debt`. Применим метод `value_counts()`."
   ]
  },
  {
   "cell_type": "code",
   "execution_count": 20,
   "id": "6d64db57",
   "metadata": {},
   "outputs": [
    {
     "data": {
      "text/plain": [
       "0    19783\n",
       "1     1741\n",
       "Name: debt, dtype: int64"
      ]
     },
     "execution_count": 20,
     "metadata": {},
     "output_type": "execute_result"
    }
   ],
   "source": [
    "df['debt'].value_counts()"
   ]
  },
  {
   "cell_type": "markdown",
   "id": "dbbefec5",
   "metadata": {},
   "source": [
    "<div class=\"alert alert-block alert-success\">\n",
    "<b>Комментарий ревьюера✅:</b> Молодец, все аномалии изучены и исправлены верно. Двигаемся дальше🔥</div>"
   ]
  },
  {
   "cell_type": "markdown",
   "id": "8fd643ba",
   "metadata": {},
   "source": [
    "### Шаг 2.3. Изменение типов данных."
   ]
  },
  {
   "cell_type": "markdown",
   "id": "9f58c340",
   "metadata": {},
   "source": [
    "Воспользуемся методом `astype()`"
   ]
  },
  {
   "cell_type": "code",
   "execution_count": 21,
   "id": "8f8c3cee",
   "metadata": {},
   "outputs": [
    {
     "data": {
      "text/plain": [
       "0    253875\n",
       "1    112080\n",
       "2    145885\n",
       "3    267628\n",
       "4    158616\n",
       "5    255763\n",
       "6    240525\n",
       "7    135823\n",
       "8     95856\n",
       "9    144425\n",
       "Name: total_income, dtype: int64"
      ]
     },
     "metadata": {},
     "output_type": "display_data"
    }
   ],
   "source": [
    "df['total_income'] = df['total_income'].astype('int') # применим метод astype()\n",
    "display(df['total_income'].head(10)) # выведим данные для просмотра"
   ]
  },
  {
   "cell_type": "markdown",
   "id": "fba0aae0",
   "metadata": {},
   "source": [
    "Убедимся, что в таблице не осталось пропусков. Для этого ещё раз посчитаем пропущенные значения."
   ]
  },
  {
   "cell_type": "code",
   "execution_count": 22,
   "id": "76783859",
   "metadata": {},
   "outputs": [
    {
     "name": "stdout",
     "output_type": "stream",
     "text": [
      "<class 'pandas.core.frame.DataFrame'>\n",
      "Int64Index: 21524 entries, 0 to 21524\n",
      "Data columns (total 12 columns):\n",
      " #   Column            Non-Null Count  Dtype  \n",
      "---  ------            --------------  -----  \n",
      " 0   children          21524 non-null  int64  \n",
      " 1   days_employed     21524 non-null  float64\n",
      " 2   dob_years         21524 non-null  float64\n",
      " 3   education         21524 non-null  object \n",
      " 4   education_id      21524 non-null  int64  \n",
      " 5   family_status     21524 non-null  object \n",
      " 6   family_status_id  21524 non-null  int64  \n",
      " 7   gender            21524 non-null  object \n",
      " 8   income_type       21524 non-null  object \n",
      " 9   debt              21524 non-null  int64  \n",
      " 10  total_income      21524 non-null  int64  \n",
      " 11  purpose           21524 non-null  object \n",
      "dtypes: float64(2), int64(5), object(5)\n",
      "memory usage: 2.1+ MB\n"
     ]
    }
   ],
   "source": [
    "df.info()"
   ]
  },
  {
   "cell_type": "markdown",
   "id": "ef57d61e",
   "metadata": {},
   "source": [
    "<div class=\"alert alert-block alert-warning\">\n",
    "<b>Комментарий ревьюера⚠️:</b> Типы данных исправлены верно, но для их проверки лучше использовать методы info() или dtypes😉</div>"
   ]
  },
  {
   "cell_type": "markdown",
   "id": "d9599360",
   "metadata": {},
   "source": [
    "<div class=\"alert alert-block alert-info\">\n",
    "<b>Комментарий студента:</b> \n",
    "Поправила 😉\n",
    "</div>"
   ]
  },
  {
   "cell_type": "markdown",
   "id": "7600a1a5",
   "metadata": {},
   "source": [
    "<div class=\"alert alert-block alert-success\">\n",
    "<b>Комментарий ревьюера_v2✅:</b> 👍 </div>"
   ]
  },
  {
   "cell_type": "markdown",
   "id": "49eacf32",
   "metadata": {},
   "source": [
    "### Шаг 2.4. Удаление дубликатов."
   ]
  },
  {
   "cell_type": "markdown",
   "id": "63952e27",
   "metadata": {},
   "source": [
    "Для проверки данных на дубликаты необходимо решить какие столбцы могут имень искаженные данные в виде дубликатов. \n",
    "\n",
    "Столбцы:\n",
    "`children` — количество детей в семье, может быть одинаковым у разных клиентов;\n",
    "`days_employed` — общий трудовой стаж в днях, может быть одинаковый у разных клинтов. У нас были пропуски и мы заменили их медиаными значениями;\n",
    "`dob_years` — возраст клиента в годах, может быть одинаковым у разных клиентов;\n",
    "`education` — уровень образования клиента, может быть одинаковым у разных клиентов;\n",
    "`education_id` — идентификатор уровня образования, может быть одинаковым у разных клиентов;\n",
    "`family_status` — семейное положение, может быть одинаковым у разных клиентов;\n",
    "`family_status_id` — идентификатор семейного положения, может быть одинаковым у разных клиентов;\n",
    "`gender` — пол клиента, может быть одинаковым у разных клиентов;\n",
    "`income_type` — тип занятости, может быть одинаковым у разных клиентов. У нас были пропуски и мы заменили их медиаными значениями;\n",
    "`debt` — имел ли задолженность по возврату кредитов, может быть одинаковым у разных клиентов;\n",
    "`total_income` — ежемесячный доход, может быть одинаковым у разных клиентов;\n",
    "`purpose` — цель получения кредита, может быть одинаковая у разных клиентов.\n",
    "\n",
    "Можно сделать вывод, что проверять на явные дубликаты не имеет смысла."
   ]
  },
  {
   "cell_type": "markdown",
   "id": "3a3aaaff",
   "metadata": {},
   "source": [
    "Применим метод поиска неявных дубликатов к следующим столбам: `education`, `family_status`, `income_type`, `purpose`.\n"
   ]
  },
  {
   "cell_type": "markdown",
   "id": "2413e57a",
   "metadata": {},
   "source": [
    "Начнем поиск неявных дубликатов со столбца `education`. Применим метод `value_counts()`."
   ]
  },
  {
   "cell_type": "code",
   "execution_count": 23,
   "id": "7621038c",
   "metadata": {},
   "outputs": [
    {
     "data": {
      "text/plain": [
       "среднее                13750\n",
       "высшее                  4718\n",
       "СРЕДНЕЕ                  772\n",
       "Среднее                  711\n",
       "неоконченное высшее      667\n",
       "ВЫСШЕЕ                   274\n",
       "Высшее                   268\n",
       "начальное                250\n",
       "Неоконченное высшее       47\n",
       "НЕОКОНЧЕННОЕ ВЫСШЕЕ       29\n",
       "НАЧАЛЬНОЕ                 17\n",
       "Начальное                 15\n",
       "ученая степень             4\n",
       "Ученая степень             1\n",
       "УЧЕНАЯ СТЕПЕНЬ             1\n",
       "Name: education, dtype: int64"
      ]
     },
     "execution_count": 23,
     "metadata": {},
     "output_type": "execute_result"
    }
   ],
   "source": [
    " df['education'].value_counts()"
   ]
  },
  {
   "cell_type": "markdown",
   "id": "ca22e727",
   "metadata": {},
   "source": [
    "Видим, что названия отличаются регистром нескольких букв. Применим метод `str.lower()`. И сразу проверим."
   ]
  },
  {
   "cell_type": "code",
   "execution_count": 24,
   "id": "740ae9c9",
   "metadata": {},
   "outputs": [],
   "source": [
    "df['education'] = df['education'].str.lower()"
   ]
  },
  {
   "cell_type": "code",
   "execution_count": 25,
   "id": "9474a8e0",
   "metadata": {},
   "outputs": [
    {
     "data": {
      "text/plain": [
       "среднее                15233\n",
       "высшее                  5260\n",
       "неоконченное высшее      743\n",
       "начальное                282\n",
       "ученая степень             6\n",
       "Name: education, dtype: int64"
      ]
     },
     "execution_count": 25,
     "metadata": {},
     "output_type": "execute_result"
    }
   ],
   "source": [
    "df['education'].value_counts()"
   ]
  },
  {
   "cell_type": "markdown",
   "id": "fdb3da0f",
   "metadata": {},
   "source": [
    "Теперь проверим столбец `family_status`. Применим метод `value_counts()`."
   ]
  },
  {
   "cell_type": "code",
   "execution_count": 26,
   "id": "48e55be5",
   "metadata": {},
   "outputs": [
    {
     "data": {
      "text/plain": [
       "женат / замужем          12380\n",
       "гражданский брак          4176\n",
       "Не женат / не замужем     2813\n",
       "в разводе                 1195\n",
       "вдовец / вдова             960\n",
       "Name: family_status, dtype: int64"
      ]
     },
     "execution_count": 26,
     "metadata": {},
     "output_type": "execute_result"
    }
   ],
   "source": [
    " df['family_status'].value_counts()"
   ]
  },
  {
   "cell_type": "markdown",
   "id": "4269c58e",
   "metadata": {},
   "source": [
    "Теперь проверим столбец `income_type`. Применим метод `value_counts()`."
   ]
  },
  {
   "cell_type": "code",
   "execution_count": 27,
   "id": "92c0ab3b",
   "metadata": {},
   "outputs": [
    {
     "data": {
      "text/plain": [
       "сотрудник          11119\n",
       "компаньон           5084\n",
       "пенсионер           3856\n",
       "госслужащий         1459\n",
       "предприниматель        2\n",
       "безработный            2\n",
       "в декрете              1\n",
       "студент                1\n",
       "Name: income_type, dtype: int64"
      ]
     },
     "execution_count": 27,
     "metadata": {},
     "output_type": "execute_result"
    }
   ],
   "source": [
    "df['income_type'].value_counts()"
   ]
  },
  {
   "cell_type": "markdown",
   "id": "d92bd307",
   "metadata": {},
   "source": [
    "Теперь проверим столбец `purpose`. Применим метод `value_counts()`."
   ]
  },
  {
   "cell_type": "code",
   "execution_count": 28,
   "id": "8212ed9f",
   "metadata": {},
   "outputs": [
    {
     "data": {
      "text/plain": [
       "свадьба                                   797\n",
       "на проведение свадьбы                     777\n",
       "сыграть свадьбу                           774\n",
       "операции с недвижимостью                  676\n",
       "покупка коммерческой недвижимости         664\n",
       "операции с жильем                         653\n",
       "покупка жилья для сдачи                   653\n",
       "операции с коммерческой недвижимостью     651\n",
       "покупка жилья                             647\n",
       "жилье                                     647\n",
       "покупка жилья для семьи                   641\n",
       "строительство собственной недвижимости    635\n",
       "недвижимость                              634\n",
       "операции со своей недвижимостью           630\n",
       "строительство жилой недвижимости          626\n",
       "покупка недвижимости                      623\n",
       "строительство недвижимости                620\n",
       "покупка своего жилья                      620\n",
       "ремонт жилью                              612\n",
       "покупка жилой недвижимости                607\n",
       "на покупку своего автомобиля              505\n",
       "заняться высшим образованием              496\n",
       "автомобиль                                495\n",
       "сделка с подержанным автомобилем          489\n",
       "свой автомобиль                           480\n",
       "на покупку подержанного автомобиля        479\n",
       "автомобили                                478\n",
       "на покупку автомобиля                     472\n",
       "дополнительное образование                462\n",
       "приобретение автомобиля                   462\n",
       "сделка с автомобилем                      455\n",
       "высшее образование                        453\n",
       "получение дополнительного образования     447\n",
       "образование                               447\n",
       "получение образования                     443\n",
       "профильное образование                    436\n",
       "получение высшего образования             426\n",
       "заняться образованием                     412\n",
       "Name: purpose, dtype: int64"
      ]
     },
     "execution_count": 28,
     "metadata": {},
     "output_type": "execute_result"
    }
   ],
   "source": [
    "df['purpose'].value_counts()"
   ]
  },
  {
   "cell_type": "markdown",
   "id": "9b21f163",
   "metadata": {},
   "source": [
    "**Выводы**\n",
    "\n",
    "Предобработка данных обнаружила четыре проблемы:\n",
    "\n",
    "- аномалии в столбцах,\n",
    "- пропущенные значения,\n",
    "- изменения типа данных,\n",
    "- неявные дубликаты.\n",
    "\n",
    "Мы исправили аномалии в тех столбцах, в которых их обнаружили, избавились от неявных дубликатов, изменили тип данных, пропущенные значения заполнили медианными."
   ]
  },
  {
   "cell_type": "markdown",
   "id": "576f325f",
   "metadata": {},
   "source": [
    "<div class=\"alert alert-block alert-danger\">\n",
    "<b>Комментарий ревьюера❌:</b> Неявные дубликаты исправлены, но нам необходимо обработать грубые дубликаты строк. Как видно из следующей ячейки, в таблице они присутствуют</div>"
   ]
  },
  {
   "cell_type": "code",
   "execution_count": 29,
   "id": "619ffe14",
   "metadata": {},
   "outputs": [
    {
     "data": {
      "text/plain": [
       "72"
      ]
     },
     "execution_count": 29,
     "metadata": {},
     "output_type": "execute_result"
    }
   ],
   "source": [
    "# Код ревьюера\n",
    "df.duplicated().sum()"
   ]
  },
  {
   "cell_type": "markdown",
   "id": "524ad8f2",
   "metadata": {},
   "source": [
    "Выявили дубликаты. Методом `drop_duplicates()` удалим дубликаты с изменением индексов и удалением старых."
   ]
  },
  {
   "cell_type": "code",
   "execution_count": 30,
   "id": "6f562309",
   "metadata": {},
   "outputs": [
    {
     "data": {
      "text/html": [
       "<div>\n",
       "<style scoped>\n",
       "    .dataframe tbody tr th:only-of-type {\n",
       "        vertical-align: middle;\n",
       "    }\n",
       "\n",
       "    .dataframe tbody tr th {\n",
       "        vertical-align: top;\n",
       "    }\n",
       "\n",
       "    .dataframe thead th {\n",
       "        text-align: right;\n",
       "    }\n",
       "</style>\n",
       "<table border=\"1\" class=\"dataframe\">\n",
       "  <thead>\n",
       "    <tr style=\"text-align: right;\">\n",
       "      <th></th>\n",
       "      <th>children</th>\n",
       "      <th>days_employed</th>\n",
       "      <th>dob_years</th>\n",
       "      <th>education</th>\n",
       "      <th>education_id</th>\n",
       "      <th>family_status</th>\n",
       "      <th>family_status_id</th>\n",
       "      <th>gender</th>\n",
       "      <th>income_type</th>\n",
       "      <th>debt</th>\n",
       "      <th>total_income</th>\n",
       "      <th>purpose</th>\n",
       "    </tr>\n",
       "  </thead>\n",
       "  <tbody>\n",
       "    <tr>\n",
       "      <th>0</th>\n",
       "      <td>1</td>\n",
       "      <td>8437.673028</td>\n",
       "      <td>42.0</td>\n",
       "      <td>высшее</td>\n",
       "      <td>0</td>\n",
       "      <td>женат / замужем</td>\n",
       "      <td>0</td>\n",
       "      <td>F</td>\n",
       "      <td>сотрудник</td>\n",
       "      <td>0</td>\n",
       "      <td>253875</td>\n",
       "      <td>покупка жилья</td>\n",
       "    </tr>\n",
       "    <tr>\n",
       "      <th>1</th>\n",
       "      <td>1</td>\n",
       "      <td>4024.803754</td>\n",
       "      <td>36.0</td>\n",
       "      <td>среднее</td>\n",
       "      <td>1</td>\n",
       "      <td>женат / замужем</td>\n",
       "      <td>0</td>\n",
       "      <td>F</td>\n",
       "      <td>сотрудник</td>\n",
       "      <td>0</td>\n",
       "      <td>112080</td>\n",
       "      <td>приобретение автомобиля</td>\n",
       "    </tr>\n",
       "    <tr>\n",
       "      <th>2</th>\n",
       "      <td>0</td>\n",
       "      <td>5623.422610</td>\n",
       "      <td>33.0</td>\n",
       "      <td>среднее</td>\n",
       "      <td>1</td>\n",
       "      <td>женат / замужем</td>\n",
       "      <td>0</td>\n",
       "      <td>M</td>\n",
       "      <td>сотрудник</td>\n",
       "      <td>0</td>\n",
       "      <td>145885</td>\n",
       "      <td>покупка жилья</td>\n",
       "    </tr>\n",
       "    <tr>\n",
       "      <th>3</th>\n",
       "      <td>3</td>\n",
       "      <td>4124.747207</td>\n",
       "      <td>32.0</td>\n",
       "      <td>среднее</td>\n",
       "      <td>1</td>\n",
       "      <td>женат / замужем</td>\n",
       "      <td>0</td>\n",
       "      <td>M</td>\n",
       "      <td>сотрудник</td>\n",
       "      <td>0</td>\n",
       "      <td>267628</td>\n",
       "      <td>дополнительное образование</td>\n",
       "    </tr>\n",
       "    <tr>\n",
       "      <th>4</th>\n",
       "      <td>0</td>\n",
       "      <td>340266.072047</td>\n",
       "      <td>53.0</td>\n",
       "      <td>среднее</td>\n",
       "      <td>1</td>\n",
       "      <td>гражданский брак</td>\n",
       "      <td>1</td>\n",
       "      <td>F</td>\n",
       "      <td>пенсионер</td>\n",
       "      <td>0</td>\n",
       "      <td>158616</td>\n",
       "      <td>сыграть свадьбу</td>\n",
       "    </tr>\n",
       "    <tr>\n",
       "      <th>5</th>\n",
       "      <td>0</td>\n",
       "      <td>926.185831</td>\n",
       "      <td>27.0</td>\n",
       "      <td>высшее</td>\n",
       "      <td>0</td>\n",
       "      <td>гражданский брак</td>\n",
       "      <td>1</td>\n",
       "      <td>M</td>\n",
       "      <td>компаньон</td>\n",
       "      <td>0</td>\n",
       "      <td>255763</td>\n",
       "      <td>покупка жилья</td>\n",
       "    </tr>\n",
       "    <tr>\n",
       "      <th>6</th>\n",
       "      <td>0</td>\n",
       "      <td>2879.202052</td>\n",
       "      <td>43.0</td>\n",
       "      <td>высшее</td>\n",
       "      <td>0</td>\n",
       "      <td>женат / замужем</td>\n",
       "      <td>0</td>\n",
       "      <td>F</td>\n",
       "      <td>компаньон</td>\n",
       "      <td>0</td>\n",
       "      <td>240525</td>\n",
       "      <td>операции с жильем</td>\n",
       "    </tr>\n",
       "    <tr>\n",
       "      <th>7</th>\n",
       "      <td>0</td>\n",
       "      <td>152.779569</td>\n",
       "      <td>50.0</td>\n",
       "      <td>среднее</td>\n",
       "      <td>1</td>\n",
       "      <td>женат / замужем</td>\n",
       "      <td>0</td>\n",
       "      <td>M</td>\n",
       "      <td>сотрудник</td>\n",
       "      <td>0</td>\n",
       "      <td>135823</td>\n",
       "      <td>образование</td>\n",
       "    </tr>\n",
       "    <tr>\n",
       "      <th>8</th>\n",
       "      <td>2</td>\n",
       "      <td>6929.865299</td>\n",
       "      <td>35.0</td>\n",
       "      <td>высшее</td>\n",
       "      <td>0</td>\n",
       "      <td>гражданский брак</td>\n",
       "      <td>1</td>\n",
       "      <td>F</td>\n",
       "      <td>сотрудник</td>\n",
       "      <td>0</td>\n",
       "      <td>95856</td>\n",
       "      <td>на проведение свадьбы</td>\n",
       "    </tr>\n",
       "    <tr>\n",
       "      <th>9</th>\n",
       "      <td>0</td>\n",
       "      <td>2188.756445</td>\n",
       "      <td>41.0</td>\n",
       "      <td>среднее</td>\n",
       "      <td>1</td>\n",
       "      <td>женат / замужем</td>\n",
       "      <td>0</td>\n",
       "      <td>M</td>\n",
       "      <td>сотрудник</td>\n",
       "      <td>0</td>\n",
       "      <td>144425</td>\n",
       "      <td>покупка жилья для семьи</td>\n",
       "    </tr>\n",
       "  </tbody>\n",
       "</table>\n",
       "</div>"
      ],
      "text/plain": [
       "   children  days_employed  dob_years education  education_id  \\\n",
       "0         1    8437.673028       42.0    высшее             0   \n",
       "1         1    4024.803754       36.0   среднее             1   \n",
       "2         0    5623.422610       33.0   среднее             1   \n",
       "3         3    4124.747207       32.0   среднее             1   \n",
       "4         0  340266.072047       53.0   среднее             1   \n",
       "5         0     926.185831       27.0    высшее             0   \n",
       "6         0    2879.202052       43.0    высшее             0   \n",
       "7         0     152.779569       50.0   среднее             1   \n",
       "8         2    6929.865299       35.0    высшее             0   \n",
       "9         0    2188.756445       41.0   среднее             1   \n",
       "\n",
       "      family_status  family_status_id gender income_type  debt  total_income  \\\n",
       "0   женат / замужем                 0      F   сотрудник     0        253875   \n",
       "1   женат / замужем                 0      F   сотрудник     0        112080   \n",
       "2   женат / замужем                 0      M   сотрудник     0        145885   \n",
       "3   женат / замужем                 0      M   сотрудник     0        267628   \n",
       "4  гражданский брак                 1      F   пенсионер     0        158616   \n",
       "5  гражданский брак                 1      M   компаньон     0        255763   \n",
       "6   женат / замужем                 0      F   компаньон     0        240525   \n",
       "7   женат / замужем                 0      M   сотрудник     0        135823   \n",
       "8  гражданский брак                 1      F   сотрудник     0         95856   \n",
       "9   женат / замужем                 0      M   сотрудник     0        144425   \n",
       "\n",
       "                      purpose  \n",
       "0               покупка жилья  \n",
       "1     приобретение автомобиля  \n",
       "2               покупка жилья  \n",
       "3  дополнительное образование  \n",
       "4             сыграть свадьбу  \n",
       "5               покупка жилья  \n",
       "6           операции с жильем  \n",
       "7                 образование  \n",
       "8       на проведение свадьбы  \n",
       "9     покупка жилья для семьи  "
      ]
     },
     "metadata": {},
     "output_type": "display_data"
    }
   ],
   "source": [
    "df = df.drop_duplicates().reset_index(drop=True)\n",
    "display(df.head(10))"
   ]
  },
  {
   "cell_type": "markdown",
   "id": "9ccf1827",
   "metadata": {},
   "source": [
    "Проверим получившийся результат"
   ]
  },
  {
   "cell_type": "code",
   "execution_count": 31,
   "id": "9bbc412e",
   "metadata": {},
   "outputs": [
    {
     "data": {
      "text/plain": [
       "0"
      ]
     },
     "execution_count": 31,
     "metadata": {},
     "output_type": "execute_result"
    }
   ],
   "source": [
    "df.duplicated().sum()"
   ]
  },
  {
   "cell_type": "markdown",
   "id": "27d355a2",
   "metadata": {},
   "source": [
    "<div class=\"alert alert-block alert-info\">\n",
    "<b>Комментарий студента:</b> \n",
    "Николай, я не могу понять какие дубликаты нужно удалить. При проверке на дубликаты показывает ,что все 72 дубликата находятся в стоблце days_employed, это как раз и есть медианная замена. Данные все разные, это разные клиенты. Если я их удалю, то анализ будет искаженный. Поясни, пожалуйста.\n",
    "</div>"
   ]
  },
  {
   "cell_type": "markdown",
   "id": "022867a0",
   "metadata": {},
   "source": [
    "<div class=\"alert alert-block alert-danger\">\n",
    "<b>Комментарий ревьюера_v2❌:</b> Не совсем - duplicated() работает так: он находит две (или более) дублирующихся строк, одной из них присваивает значение False (так как одну из дублирующихся записей нам надо оставить), остальным присваивает True - так как это повторения первой строки. В таблице выше ты видишь только те строки, которым он присвоил True, но у каждой из них есть двойник с значением False. Эти строки все же лучше удалить. "
   ]
  },
  {
   "cell_type": "markdown",
   "id": "20de95a6",
   "metadata": {},
   "source": [
    "<div class=\"alert alert-block alert-info\">\n",
    "<b>Комментарий студента:</b> \n",
    "Николай, спасибо, я разобралась как работает метод duplicated()!\n",
    "Убрала дубликаты"
   ]
  },
  {
   "cell_type": "markdown",
   "id": "d449f5ca",
   "metadata": {},
   "source": [
    "<div class=\"alert alert-block alert-success\">\n",
    "<b>Комментарий ревьюера_v3✅:</b> Теперь согласен👍 </div>"
   ]
  },
  {
   "cell_type": "markdown",
   "id": "827d0192",
   "metadata": {},
   "source": [
    "### Шаг 2.5. Формирование дополнительных датафреймов словарей, декомпозиция исходного датафрейма."
   ]
  },
  {
   "cell_type": "markdown",
   "id": "5928ef0d",
   "metadata": {},
   "source": [
    "Создадим два новых датафрейма."
   ]
  },
  {
   "cell_type": "markdown",
   "id": "8307df21",
   "metadata": {},
   "source": [
    "Каждому уникальному значению из `family_status` соответствует уникальное значение `family_status_id`"
   ]
  },
  {
   "cell_type": "code",
   "execution_count": 32,
   "id": "313f57c2",
   "metadata": {},
   "outputs": [
    {
     "data": {
      "text/html": [
       "<div>\n",
       "<style scoped>\n",
       "    .dataframe tbody tr th:only-of-type {\n",
       "        vertical-align: middle;\n",
       "    }\n",
       "\n",
       "    .dataframe tbody tr th {\n",
       "        vertical-align: top;\n",
       "    }\n",
       "\n",
       "    .dataframe thead th {\n",
       "        text-align: right;\n",
       "    }\n",
       "</style>\n",
       "<table border=\"1\" class=\"dataframe\">\n",
       "  <thead>\n",
       "    <tr style=\"text-align: right;\">\n",
       "      <th></th>\n",
       "      <th>family_status</th>\n",
       "      <th>family_status_id</th>\n",
       "    </tr>\n",
       "  </thead>\n",
       "  <tbody>\n",
       "    <tr>\n",
       "      <th>0</th>\n",
       "      <td>женат / замужем</td>\n",
       "      <td>0</td>\n",
       "    </tr>\n",
       "    <tr>\n",
       "      <th>1</th>\n",
       "      <td>женат / замужем</td>\n",
       "      <td>0</td>\n",
       "    </tr>\n",
       "    <tr>\n",
       "      <th>2</th>\n",
       "      <td>женат / замужем</td>\n",
       "      <td>0</td>\n",
       "    </tr>\n",
       "    <tr>\n",
       "      <th>3</th>\n",
       "      <td>женат / замужем</td>\n",
       "      <td>0</td>\n",
       "    </tr>\n",
       "    <tr>\n",
       "      <th>4</th>\n",
       "      <td>гражданский брак</td>\n",
       "      <td>1</td>\n",
       "    </tr>\n",
       "    <tr>\n",
       "      <th>5</th>\n",
       "      <td>гражданский брак</td>\n",
       "      <td>1</td>\n",
       "    </tr>\n",
       "    <tr>\n",
       "      <th>6</th>\n",
       "      <td>женат / замужем</td>\n",
       "      <td>0</td>\n",
       "    </tr>\n",
       "    <tr>\n",
       "      <th>7</th>\n",
       "      <td>женат / замужем</td>\n",
       "      <td>0</td>\n",
       "    </tr>\n",
       "    <tr>\n",
       "      <th>8</th>\n",
       "      <td>гражданский брак</td>\n",
       "      <td>1</td>\n",
       "    </tr>\n",
       "    <tr>\n",
       "      <th>9</th>\n",
       "      <td>женат / замужем</td>\n",
       "      <td>0</td>\n",
       "    </tr>\n",
       "  </tbody>\n",
       "</table>\n",
       "</div>"
      ],
      "text/plain": [
       "      family_status  family_status_id\n",
       "0   женат / замужем                 0\n",
       "1   женат / замужем                 0\n",
       "2   женат / замужем                 0\n",
       "3   женат / замужем                 0\n",
       "4  гражданский брак                 1\n",
       "5  гражданский брак                 1\n",
       "6   женат / замужем                 0\n",
       "7   женат / замужем                 0\n",
       "8  гражданский брак                 1\n",
       "9   женат / замужем                 0"
      ]
     },
     "metadata": {},
     "output_type": "display_data"
    }
   ],
   "source": [
    "df_family_status = df[['family_status', 'family_status_id']]\n",
    "display(df_family_status.head(10)) # выведим данные для просмотра"
   ]
  },
  {
   "cell_type": "markdown",
   "id": "01aff31d",
   "metadata": {},
   "source": [
    "Проверим словарь на наличие дубликатов"
   ]
  },
  {
   "cell_type": "code",
   "execution_count": 33,
   "id": "1834e03e",
   "metadata": {},
   "outputs": [
    {
     "data": {
      "text/plain": [
       "21447"
      ]
     },
     "execution_count": 33,
     "metadata": {},
     "output_type": "execute_result"
    }
   ],
   "source": [
    "df_family_status.duplicated().sum()"
   ]
  },
  {
   "cell_type": "markdown",
   "id": "2ae5f92e",
   "metadata": {},
   "source": [
    "Выявили дубликаты. Методом `drop_duplicates()` удалим дубликаты с изменением индексов и удалением старых."
   ]
  },
  {
   "cell_type": "code",
   "execution_count": 34,
   "id": "d16ed64f",
   "metadata": {},
   "outputs": [
    {
     "data": {
      "text/html": [
       "<div>\n",
       "<style scoped>\n",
       "    .dataframe tbody tr th:only-of-type {\n",
       "        vertical-align: middle;\n",
       "    }\n",
       "\n",
       "    .dataframe tbody tr th {\n",
       "        vertical-align: top;\n",
       "    }\n",
       "\n",
       "    .dataframe thead th {\n",
       "        text-align: right;\n",
       "    }\n",
       "</style>\n",
       "<table border=\"1\" class=\"dataframe\">\n",
       "  <thead>\n",
       "    <tr style=\"text-align: right;\">\n",
       "      <th></th>\n",
       "      <th>family_status</th>\n",
       "      <th>family_status_id</th>\n",
       "    </tr>\n",
       "  </thead>\n",
       "  <tbody>\n",
       "    <tr>\n",
       "      <th>0</th>\n",
       "      <td>женат / замужем</td>\n",
       "      <td>0</td>\n",
       "    </tr>\n",
       "    <tr>\n",
       "      <th>1</th>\n",
       "      <td>гражданский брак</td>\n",
       "      <td>1</td>\n",
       "    </tr>\n",
       "    <tr>\n",
       "      <th>2</th>\n",
       "      <td>вдовец / вдова</td>\n",
       "      <td>2</td>\n",
       "    </tr>\n",
       "    <tr>\n",
       "      <th>3</th>\n",
       "      <td>в разводе</td>\n",
       "      <td>3</td>\n",
       "    </tr>\n",
       "    <tr>\n",
       "      <th>4</th>\n",
       "      <td>Не женат / не замужем</td>\n",
       "      <td>4</td>\n",
       "    </tr>\n",
       "  </tbody>\n",
       "</table>\n",
       "</div>"
      ],
      "text/plain": [
       "           family_status  family_status_id\n",
       "0        женат / замужем                 0\n",
       "1       гражданский брак                 1\n",
       "2         вдовец / вдова                 2\n",
       "3              в разводе                 3\n",
       "4  Не женат / не замужем                 4"
      ]
     },
     "metadata": {},
     "output_type": "display_data"
    }
   ],
   "source": [
    "df_family_status = df_family_status.drop_duplicates().reset_index(drop=True)\n",
    "display(df_family_status)"
   ]
  },
  {
   "cell_type": "markdown",
   "id": "3dea4178",
   "metadata": {},
   "source": [
    "Каждому уникальному значеию из `education` соответствует уникальное значение `education_id`"
   ]
  },
  {
   "cell_type": "code",
   "execution_count": 35,
   "id": "70ff5f8b",
   "metadata": {},
   "outputs": [
    {
     "data": {
      "text/html": [
       "<div>\n",
       "<style scoped>\n",
       "    .dataframe tbody tr th:only-of-type {\n",
       "        vertical-align: middle;\n",
       "    }\n",
       "\n",
       "    .dataframe tbody tr th {\n",
       "        vertical-align: top;\n",
       "    }\n",
       "\n",
       "    .dataframe thead th {\n",
       "        text-align: right;\n",
       "    }\n",
       "</style>\n",
       "<table border=\"1\" class=\"dataframe\">\n",
       "  <thead>\n",
       "    <tr style=\"text-align: right;\">\n",
       "      <th></th>\n",
       "      <th>education</th>\n",
       "      <th>education_id</th>\n",
       "    </tr>\n",
       "  </thead>\n",
       "  <tbody>\n",
       "    <tr>\n",
       "      <th>0</th>\n",
       "      <td>высшее</td>\n",
       "      <td>0</td>\n",
       "    </tr>\n",
       "    <tr>\n",
       "      <th>1</th>\n",
       "      <td>среднее</td>\n",
       "      <td>1</td>\n",
       "    </tr>\n",
       "    <tr>\n",
       "      <th>2</th>\n",
       "      <td>среднее</td>\n",
       "      <td>1</td>\n",
       "    </tr>\n",
       "    <tr>\n",
       "      <th>3</th>\n",
       "      <td>среднее</td>\n",
       "      <td>1</td>\n",
       "    </tr>\n",
       "    <tr>\n",
       "      <th>4</th>\n",
       "      <td>среднее</td>\n",
       "      <td>1</td>\n",
       "    </tr>\n",
       "    <tr>\n",
       "      <th>5</th>\n",
       "      <td>высшее</td>\n",
       "      <td>0</td>\n",
       "    </tr>\n",
       "    <tr>\n",
       "      <th>6</th>\n",
       "      <td>высшее</td>\n",
       "      <td>0</td>\n",
       "    </tr>\n",
       "    <tr>\n",
       "      <th>7</th>\n",
       "      <td>среднее</td>\n",
       "      <td>1</td>\n",
       "    </tr>\n",
       "    <tr>\n",
       "      <th>8</th>\n",
       "      <td>высшее</td>\n",
       "      <td>0</td>\n",
       "    </tr>\n",
       "    <tr>\n",
       "      <th>9</th>\n",
       "      <td>среднее</td>\n",
       "      <td>1</td>\n",
       "    </tr>\n",
       "  </tbody>\n",
       "</table>\n",
       "</div>"
      ],
      "text/plain": [
       "  education  education_id\n",
       "0    высшее             0\n",
       "1   среднее             1\n",
       "2   среднее             1\n",
       "3   среднее             1\n",
       "4   среднее             1\n",
       "5    высшее             0\n",
       "6    высшее             0\n",
       "7   среднее             1\n",
       "8    высшее             0\n",
       "9   среднее             1"
      ]
     },
     "metadata": {},
     "output_type": "display_data"
    }
   ],
   "source": [
    "df_education = df[['education', 'education_id']]\n",
    "display(df_education.head(10)) # выведим данные для просмотра"
   ]
  },
  {
   "cell_type": "markdown",
   "id": "12eb502d",
   "metadata": {},
   "source": [
    "Проверим словарь на наличие дубликатов"
   ]
  },
  {
   "cell_type": "code",
   "execution_count": 36,
   "id": "b45908e6",
   "metadata": {},
   "outputs": [
    {
     "data": {
      "text/plain": [
       "21447"
      ]
     },
     "execution_count": 36,
     "metadata": {},
     "output_type": "execute_result"
    }
   ],
   "source": [
    "df_education.duplicated().sum()"
   ]
  },
  {
   "cell_type": "markdown",
   "id": "6a0da359",
   "metadata": {},
   "source": [
    "Выявили дубликаты. Методом `drop_duplicates()` удалим дубликаты с изменением индексов и удалением старых."
   ]
  },
  {
   "cell_type": "code",
   "execution_count": 37,
   "id": "dee83830",
   "metadata": {},
   "outputs": [
    {
     "data": {
      "text/html": [
       "<div>\n",
       "<style scoped>\n",
       "    .dataframe tbody tr th:only-of-type {\n",
       "        vertical-align: middle;\n",
       "    }\n",
       "\n",
       "    .dataframe tbody tr th {\n",
       "        vertical-align: top;\n",
       "    }\n",
       "\n",
       "    .dataframe thead th {\n",
       "        text-align: right;\n",
       "    }\n",
       "</style>\n",
       "<table border=\"1\" class=\"dataframe\">\n",
       "  <thead>\n",
       "    <tr style=\"text-align: right;\">\n",
       "      <th></th>\n",
       "      <th>education</th>\n",
       "      <th>education_id</th>\n",
       "    </tr>\n",
       "  </thead>\n",
       "  <tbody>\n",
       "    <tr>\n",
       "      <th>0</th>\n",
       "      <td>высшее</td>\n",
       "      <td>0</td>\n",
       "    </tr>\n",
       "    <tr>\n",
       "      <th>1</th>\n",
       "      <td>среднее</td>\n",
       "      <td>1</td>\n",
       "    </tr>\n",
       "    <tr>\n",
       "      <th>2</th>\n",
       "      <td>неоконченное высшее</td>\n",
       "      <td>2</td>\n",
       "    </tr>\n",
       "    <tr>\n",
       "      <th>3</th>\n",
       "      <td>начальное</td>\n",
       "      <td>3</td>\n",
       "    </tr>\n",
       "    <tr>\n",
       "      <th>4</th>\n",
       "      <td>ученая степень</td>\n",
       "      <td>4</td>\n",
       "    </tr>\n",
       "  </tbody>\n",
       "</table>\n",
       "</div>"
      ],
      "text/plain": [
       "             education  education_id\n",
       "0               высшее             0\n",
       "1              среднее             1\n",
       "2  неоконченное высшее             2\n",
       "3            начальное             3\n",
       "4       ученая степень             4"
      ]
     },
     "metadata": {},
     "output_type": "display_data"
    }
   ],
   "source": [
    "df_education = df_education.drop_duplicates().reset_index(drop=True)\n",
    "display(df_education)"
   ]
  },
  {
   "cell_type": "markdown",
   "id": "e610ca7a",
   "metadata": {},
   "source": [
    "Удалим из исходного датафрейма столбцы `education` и `family_status`, оставим только их идентификаторы: `education_id` и `family_status_id`."
   ]
  },
  {
   "cell_type": "code",
   "execution_count": 38,
   "id": "e6c4f112",
   "metadata": {},
   "outputs": [
    {
     "data": {
      "text/html": [
       "<div>\n",
       "<style scoped>\n",
       "    .dataframe tbody tr th:only-of-type {\n",
       "        vertical-align: middle;\n",
       "    }\n",
       "\n",
       "    .dataframe tbody tr th {\n",
       "        vertical-align: top;\n",
       "    }\n",
       "\n",
       "    .dataframe thead th {\n",
       "        text-align: right;\n",
       "    }\n",
       "</style>\n",
       "<table border=\"1\" class=\"dataframe\">\n",
       "  <thead>\n",
       "    <tr style=\"text-align: right;\">\n",
       "      <th></th>\n",
       "      <th>children</th>\n",
       "      <th>days_employed</th>\n",
       "      <th>dob_years</th>\n",
       "      <th>education_id</th>\n",
       "      <th>family_status_id</th>\n",
       "      <th>gender</th>\n",
       "      <th>income_type</th>\n",
       "      <th>debt</th>\n",
       "      <th>total_income</th>\n",
       "      <th>purpose</th>\n",
       "    </tr>\n",
       "  </thead>\n",
       "  <tbody>\n",
       "    <tr>\n",
       "      <th>0</th>\n",
       "      <td>1</td>\n",
       "      <td>8437.673028</td>\n",
       "      <td>42.0</td>\n",
       "      <td>0</td>\n",
       "      <td>0</td>\n",
       "      <td>F</td>\n",
       "      <td>сотрудник</td>\n",
       "      <td>0</td>\n",
       "      <td>253875</td>\n",
       "      <td>покупка жилья</td>\n",
       "    </tr>\n",
       "    <tr>\n",
       "      <th>1</th>\n",
       "      <td>1</td>\n",
       "      <td>4024.803754</td>\n",
       "      <td>36.0</td>\n",
       "      <td>1</td>\n",
       "      <td>0</td>\n",
       "      <td>F</td>\n",
       "      <td>сотрудник</td>\n",
       "      <td>0</td>\n",
       "      <td>112080</td>\n",
       "      <td>приобретение автомобиля</td>\n",
       "    </tr>\n",
       "    <tr>\n",
       "      <th>2</th>\n",
       "      <td>0</td>\n",
       "      <td>5623.422610</td>\n",
       "      <td>33.0</td>\n",
       "      <td>1</td>\n",
       "      <td>0</td>\n",
       "      <td>M</td>\n",
       "      <td>сотрудник</td>\n",
       "      <td>0</td>\n",
       "      <td>145885</td>\n",
       "      <td>покупка жилья</td>\n",
       "    </tr>\n",
       "    <tr>\n",
       "      <th>3</th>\n",
       "      <td>3</td>\n",
       "      <td>4124.747207</td>\n",
       "      <td>32.0</td>\n",
       "      <td>1</td>\n",
       "      <td>0</td>\n",
       "      <td>M</td>\n",
       "      <td>сотрудник</td>\n",
       "      <td>0</td>\n",
       "      <td>267628</td>\n",
       "      <td>дополнительное образование</td>\n",
       "    </tr>\n",
       "    <tr>\n",
       "      <th>4</th>\n",
       "      <td>0</td>\n",
       "      <td>340266.072047</td>\n",
       "      <td>53.0</td>\n",
       "      <td>1</td>\n",
       "      <td>1</td>\n",
       "      <td>F</td>\n",
       "      <td>пенсионер</td>\n",
       "      <td>0</td>\n",
       "      <td>158616</td>\n",
       "      <td>сыграть свадьбу</td>\n",
       "    </tr>\n",
       "    <tr>\n",
       "      <th>...</th>\n",
       "      <td>...</td>\n",
       "      <td>...</td>\n",
       "      <td>...</td>\n",
       "      <td>...</td>\n",
       "      <td>...</td>\n",
       "      <td>...</td>\n",
       "      <td>...</td>\n",
       "      <td>...</td>\n",
       "      <td>...</td>\n",
       "      <td>...</td>\n",
       "    </tr>\n",
       "    <tr>\n",
       "      <th>21447</th>\n",
       "      <td>1</td>\n",
       "      <td>4529.316663</td>\n",
       "      <td>43.0</td>\n",
       "      <td>1</td>\n",
       "      <td>1</td>\n",
       "      <td>F</td>\n",
       "      <td>компаньон</td>\n",
       "      <td>0</td>\n",
       "      <td>224791</td>\n",
       "      <td>операции с жильем</td>\n",
       "    </tr>\n",
       "    <tr>\n",
       "      <th>21448</th>\n",
       "      <td>0</td>\n",
       "      <td>343937.404131</td>\n",
       "      <td>67.0</td>\n",
       "      <td>1</td>\n",
       "      <td>0</td>\n",
       "      <td>F</td>\n",
       "      <td>пенсионер</td>\n",
       "      <td>0</td>\n",
       "      <td>155999</td>\n",
       "      <td>сделка с автомобилем</td>\n",
       "    </tr>\n",
       "    <tr>\n",
       "      <th>21449</th>\n",
       "      <td>1</td>\n",
       "      <td>2113.346888</td>\n",
       "      <td>38.0</td>\n",
       "      <td>1</td>\n",
       "      <td>1</td>\n",
       "      <td>M</td>\n",
       "      <td>сотрудник</td>\n",
       "      <td>1</td>\n",
       "      <td>89672</td>\n",
       "      <td>недвижимость</td>\n",
       "    </tr>\n",
       "    <tr>\n",
       "      <th>21450</th>\n",
       "      <td>3</td>\n",
       "      <td>3112.481705</td>\n",
       "      <td>38.0</td>\n",
       "      <td>1</td>\n",
       "      <td>0</td>\n",
       "      <td>M</td>\n",
       "      <td>сотрудник</td>\n",
       "      <td>1</td>\n",
       "      <td>244093</td>\n",
       "      <td>на покупку своего автомобиля</td>\n",
       "    </tr>\n",
       "    <tr>\n",
       "      <th>21451</th>\n",
       "      <td>2</td>\n",
       "      <td>1984.507589</td>\n",
       "      <td>40.0</td>\n",
       "      <td>1</td>\n",
       "      <td>0</td>\n",
       "      <td>F</td>\n",
       "      <td>сотрудник</td>\n",
       "      <td>0</td>\n",
       "      <td>82047</td>\n",
       "      <td>на покупку автомобиля</td>\n",
       "    </tr>\n",
       "  </tbody>\n",
       "</table>\n",
       "<p>21452 rows × 10 columns</p>\n",
       "</div>"
      ],
      "text/plain": [
       "       children  days_employed  dob_years  education_id  family_status_id  \\\n",
       "0             1    8437.673028       42.0             0                 0   \n",
       "1             1    4024.803754       36.0             1                 0   \n",
       "2             0    5623.422610       33.0             1                 0   \n",
       "3             3    4124.747207       32.0             1                 0   \n",
       "4             0  340266.072047       53.0             1                 1   \n",
       "...         ...            ...        ...           ...               ...   \n",
       "21447         1    4529.316663       43.0             1                 1   \n",
       "21448         0  343937.404131       67.0             1                 0   \n",
       "21449         1    2113.346888       38.0             1                 1   \n",
       "21450         3    3112.481705       38.0             1                 0   \n",
       "21451         2    1984.507589       40.0             1                 0   \n",
       "\n",
       "      gender income_type  debt  total_income                       purpose  \n",
       "0          F   сотрудник     0        253875                 покупка жилья  \n",
       "1          F   сотрудник     0        112080       приобретение автомобиля  \n",
       "2          M   сотрудник     0        145885                 покупка жилья  \n",
       "3          M   сотрудник     0        267628    дополнительное образование  \n",
       "4          F   пенсионер     0        158616               сыграть свадьбу  \n",
       "...      ...         ...   ...           ...                           ...  \n",
       "21447      F   компаньон     0        224791             операции с жильем  \n",
       "21448      F   пенсионер     0        155999          сделка с автомобилем  \n",
       "21449      M   сотрудник     1         89672                  недвижимость  \n",
       "21450      M   сотрудник     1        244093  на покупку своего автомобиля  \n",
       "21451      F   сотрудник     0         82047         на покупку автомобиля  \n",
       "\n",
       "[21452 rows x 10 columns]"
      ]
     },
     "metadata": {},
     "output_type": "display_data"
    }
   ],
   "source": [
    "df_total = df.drop(['education', 'family_status'], axis='columns') # применим метод drop()\n",
    "display(df_total) # выведим данные для просмотра"
   ]
  },
  {
   "cell_type": "markdown",
   "id": "6e854e9a",
   "metadata": {},
   "source": [
    "Проверим таблицу на наличие дубликатов."
   ]
  },
  {
   "cell_type": "code",
   "execution_count": 39,
   "id": "113c0579",
   "metadata": {},
   "outputs": [
    {
     "data": {
      "text/plain": [
       "0"
      ]
     },
     "execution_count": 39,
     "metadata": {},
     "output_type": "execute_result"
    }
   ],
   "source": [
    "df_total.duplicated().sum()"
   ]
  },
  {
   "cell_type": "markdown",
   "id": "e4133027",
   "metadata": {},
   "source": [
    "<div class=\"alert alert-block alert-danger\">\n",
    "<b>Комментарий ревьюера❌:</b> Цель этого пункта - сформировать таблицы, в которых будут лежать уникальные связки id с значениями типа образования и семейного статуса.\n",
    "\n",
    "Чтобы сделать значения в твоих таблицах-словарях уникальными нужно удалить из них дубликаты</div>"
   ]
  },
  {
   "cell_type": "markdown",
   "id": "15e4870d",
   "metadata": {},
   "source": [
    "<div class=\"alert alert-block alert-info\">\n",
    "<b>Комментарий студента:</b> \n",
    "Здесь речь идет о дубликах выше? Если нет, то прошу поясни, а то я не понимаю, что нужно поменять.\n",
    "</div>"
   ]
  },
  {
   "cell_type": "markdown",
   "id": "a1f41811",
   "metadata": {},
   "source": [
    "<div class=\"alert alert-block alert-danger\">\n",
    "<b>Комментарий ревьюера_v2❌:</b> Речь вот о чем - нашей задачей было сформировать таблицы - словари. В них должны лежать уникальные связки id и значения. Сейчас строки в словарях дублируюся - это видно из следующей ячейки; Дубликаты из словарей надо удалить</div>"
   ]
  },
  {
   "cell_type": "markdown",
   "id": "51e674e8",
   "metadata": {},
   "source": [
    "<div class=\"alert alert-block alert-info\">\n",
    "<b>Комментарий студента:</b> \n",
    "Дубликаты в словарях удалила\n",
    "</div>"
   ]
  },
  {
   "cell_type": "markdown",
   "id": "daa07113",
   "metadata": {},
   "source": [
    "<div class=\"alert alert-block alert-success\">\n",
    "<b>Комментарий ревьюера_v3✅:</b> Отлично👍"
   ]
  },
  {
   "cell_type": "code",
   "execution_count": 40,
   "id": "aa0812c4",
   "metadata": {},
   "outputs": [
    {
     "data": {
      "text/html": [
       "<div>\n",
       "<style scoped>\n",
       "    .dataframe tbody tr th:only-of-type {\n",
       "        vertical-align: middle;\n",
       "    }\n",
       "\n",
       "    .dataframe tbody tr th {\n",
       "        vertical-align: top;\n",
       "    }\n",
       "\n",
       "    .dataframe thead th {\n",
       "        text-align: right;\n",
       "    }\n",
       "</style>\n",
       "<table border=\"1\" class=\"dataframe\">\n",
       "  <thead>\n",
       "    <tr style=\"text-align: right;\">\n",
       "      <th></th>\n",
       "      <th>education</th>\n",
       "      <th>education_id</th>\n",
       "    </tr>\n",
       "  </thead>\n",
       "  <tbody>\n",
       "    <tr>\n",
       "      <th>0</th>\n",
       "      <td>высшее</td>\n",
       "      <td>0</td>\n",
       "    </tr>\n",
       "    <tr>\n",
       "      <th>1</th>\n",
       "      <td>среднее</td>\n",
       "      <td>1</td>\n",
       "    </tr>\n",
       "    <tr>\n",
       "      <th>2</th>\n",
       "      <td>неоконченное высшее</td>\n",
       "      <td>2</td>\n",
       "    </tr>\n",
       "    <tr>\n",
       "      <th>3</th>\n",
       "      <td>начальное</td>\n",
       "      <td>3</td>\n",
       "    </tr>\n",
       "    <tr>\n",
       "      <th>4</th>\n",
       "      <td>ученая степень</td>\n",
       "      <td>4</td>\n",
       "    </tr>\n",
       "  </tbody>\n",
       "</table>\n",
       "</div>"
      ],
      "text/plain": [
       "             education  education_id\n",
       "0               высшее             0\n",
       "1              среднее             1\n",
       "2  неоконченное высшее             2\n",
       "3            начальное             3\n",
       "4       ученая степень             4"
      ]
     },
     "execution_count": 40,
     "metadata": {},
     "output_type": "execute_result"
    }
   ],
   "source": [
    "df_education"
   ]
  },
  {
   "cell_type": "markdown",
   "id": "5cc6ae1c",
   "metadata": {},
   "source": [
    "### Шаг 2.6. Построение сводной таблицы по количеству детей."
   ]
  },
  {
   "cell_type": "markdown",
   "id": "bc13f65b",
   "metadata": {},
   "source": [
    "Создадим сводную таблицу, где методом `pivot_table()` сгруппируем данные по столбцу `children`, возьмем значения из столбца `debt`. Где в столбце `children` количество детей от 0 до 5, в столбце `0` количество клиентов вернувших кредит в срок, в столбце `1` количество клиентов не вернувших кредит в срок."
   ]
  },
  {
   "cell_type": "code",
   "execution_count": 41,
   "id": "d5ba6a11",
   "metadata": {},
   "outputs": [
    {
     "data": {
      "text/html": [
       "<div>\n",
       "<style scoped>\n",
       "    .dataframe tbody tr th:only-of-type {\n",
       "        vertical-align: middle;\n",
       "    }\n",
       "\n",
       "    .dataframe tbody tr th {\n",
       "        vertical-align: top;\n",
       "    }\n",
       "\n",
       "    .dataframe thead th {\n",
       "        text-align: right;\n",
       "    }\n",
       "</style>\n",
       "<table border=\"1\" class=\"dataframe\">\n",
       "  <thead>\n",
       "    <tr style=\"text-align: right;\">\n",
       "      <th>debt</th>\n",
       "      <th>0</th>\n",
       "      <th>1</th>\n",
       "    </tr>\n",
       "    <tr>\n",
       "      <th>children</th>\n",
       "      <th></th>\n",
       "      <th></th>\n",
       "    </tr>\n",
       "  </thead>\n",
       "  <tbody>\n",
       "    <tr>\n",
       "      <th>0</th>\n",
       "      <td>13026.0</td>\n",
       "      <td>1063.0</td>\n",
       "    </tr>\n",
       "    <tr>\n",
       "      <th>1</th>\n",
       "      <td>4410.0</td>\n",
       "      <td>445.0</td>\n",
       "    </tr>\n",
       "    <tr>\n",
       "      <th>2</th>\n",
       "      <td>1926.0</td>\n",
       "      <td>202.0</td>\n",
       "    </tr>\n",
       "    <tr>\n",
       "      <th>3</th>\n",
       "      <td>303.0</td>\n",
       "      <td>27.0</td>\n",
       "    </tr>\n",
       "    <tr>\n",
       "      <th>4</th>\n",
       "      <td>37.0</td>\n",
       "      <td>4.0</td>\n",
       "    </tr>\n",
       "    <tr>\n",
       "      <th>5</th>\n",
       "      <td>9.0</td>\n",
       "      <td>NaN</td>\n",
       "    </tr>\n",
       "  </tbody>\n",
       "</table>\n",
       "</div>"
      ],
      "text/plain": [
       "debt            0       1\n",
       "children                 \n",
       "0         13026.0  1063.0\n",
       "1          4410.0   445.0\n",
       "2          1926.0   202.0\n",
       "3           303.0    27.0\n",
       "4            37.0     4.0\n",
       "5             9.0     NaN"
      ]
     },
     "metadata": {},
     "output_type": "display_data"
    }
   ],
   "source": [
    "df_pivot_children = df_total.pivot_table(index=['children'], columns='debt', values='education_id', aggfunc='count')\n",
    "display(df_pivot_children) # выведим данные для просмотра"
   ]
  },
  {
   "cell_type": "markdown",
   "id": "bb149235",
   "metadata": {},
   "source": [
    "Методом `reset_index()` убирем мультииндекс."
   ]
  },
  {
   "cell_type": "code",
   "execution_count": 42,
   "id": "d42c2cfe",
   "metadata": {},
   "outputs": [
    {
     "data": {
      "text/html": [
       "<div>\n",
       "<style scoped>\n",
       "    .dataframe tbody tr th:only-of-type {\n",
       "        vertical-align: middle;\n",
       "    }\n",
       "\n",
       "    .dataframe tbody tr th {\n",
       "        vertical-align: top;\n",
       "    }\n",
       "\n",
       "    .dataframe thead th {\n",
       "        text-align: right;\n",
       "    }\n",
       "</style>\n",
       "<table border=\"1\" class=\"dataframe\">\n",
       "  <thead>\n",
       "    <tr style=\"text-align: right;\">\n",
       "      <th>debt</th>\n",
       "      <th>children</th>\n",
       "      <th>0</th>\n",
       "      <th>1</th>\n",
       "    </tr>\n",
       "  </thead>\n",
       "  <tbody>\n",
       "    <tr>\n",
       "      <th>0</th>\n",
       "      <td>0</td>\n",
       "      <td>13026.0</td>\n",
       "      <td>1063.0</td>\n",
       "    </tr>\n",
       "    <tr>\n",
       "      <th>1</th>\n",
       "      <td>1</td>\n",
       "      <td>4410.0</td>\n",
       "      <td>445.0</td>\n",
       "    </tr>\n",
       "    <tr>\n",
       "      <th>2</th>\n",
       "      <td>2</td>\n",
       "      <td>1926.0</td>\n",
       "      <td>202.0</td>\n",
       "    </tr>\n",
       "    <tr>\n",
       "      <th>3</th>\n",
       "      <td>3</td>\n",
       "      <td>303.0</td>\n",
       "      <td>27.0</td>\n",
       "    </tr>\n",
       "    <tr>\n",
       "      <th>4</th>\n",
       "      <td>4</td>\n",
       "      <td>37.0</td>\n",
       "      <td>4.0</td>\n",
       "    </tr>\n",
       "    <tr>\n",
       "      <th>5</th>\n",
       "      <td>5</td>\n",
       "      <td>9.0</td>\n",
       "      <td>NaN</td>\n",
       "    </tr>\n",
       "  </tbody>\n",
       "</table>\n",
       "</div>"
      ],
      "text/plain": [
       "debt  children        0       1\n",
       "0            0  13026.0  1063.0\n",
       "1            1   4410.0   445.0\n",
       "2            2   1926.0   202.0\n",
       "3            3    303.0    27.0\n",
       "4            4     37.0     4.0\n",
       "5            5      9.0     NaN"
      ]
     },
     "metadata": {},
     "output_type": "display_data"
    }
   ],
   "source": [
    "df_pivot_children_reset_index = df_pivot_children.reset_index()\n",
    "display(df_pivot_children_reset_index)"
   ]
  },
  {
   "cell_type": "markdown",
   "id": "0f548e3e",
   "metadata": {},
   "source": [
    "Обнаружили, что в стоблце `1` (количество клиентов не вернувших кредит в срок) появилось значение `NaN`. Заменим `NaN` на 0 методом `fillna()`"
   ]
  },
  {
   "cell_type": "code",
   "execution_count": 43,
   "id": "49990cc0",
   "metadata": {},
   "outputs": [],
   "source": [
    "df_pivot_children_reset_index[1] = df_pivot_children_reset_index[1].fillna(0)"
   ]
  },
  {
   "cell_type": "markdown",
   "id": "de160445",
   "metadata": {},
   "source": [
    "Посчитаем процент клиентов, не выплатиших кредит в срок. Для этого создадим столбец `default rate`, где разделим не выплативших клиентов на общее количество клиентов."
   ]
  },
  {
   "cell_type": "code",
   "execution_count": 44,
   "id": "182514e1",
   "metadata": {},
   "outputs": [
    {
     "data": {
      "text/html": [
       "<div>\n",
       "<style scoped>\n",
       "    .dataframe tbody tr th:only-of-type {\n",
       "        vertical-align: middle;\n",
       "    }\n",
       "\n",
       "    .dataframe tbody tr th {\n",
       "        vertical-align: top;\n",
       "    }\n",
       "\n",
       "    .dataframe thead th {\n",
       "        text-align: right;\n",
       "    }\n",
       "</style>\n",
       "<table border=\"1\" class=\"dataframe\">\n",
       "  <thead>\n",
       "    <tr style=\"text-align: right;\">\n",
       "      <th>debt</th>\n",
       "      <th>children</th>\n",
       "      <th>0</th>\n",
       "      <th>1</th>\n",
       "      <th>default rate</th>\n",
       "    </tr>\n",
       "  </thead>\n",
       "  <tbody>\n",
       "    <tr>\n",
       "      <th>0</th>\n",
       "      <td>0</td>\n",
       "      <td>13026.0</td>\n",
       "      <td>1063.0</td>\n",
       "      <td>7.544893</td>\n",
       "    </tr>\n",
       "    <tr>\n",
       "      <th>1</th>\n",
       "      <td>1</td>\n",
       "      <td>4410.0</td>\n",
       "      <td>445.0</td>\n",
       "      <td>9.165808</td>\n",
       "    </tr>\n",
       "    <tr>\n",
       "      <th>2</th>\n",
       "      <td>2</td>\n",
       "      <td>1926.0</td>\n",
       "      <td>202.0</td>\n",
       "      <td>9.492481</td>\n",
       "    </tr>\n",
       "    <tr>\n",
       "      <th>3</th>\n",
       "      <td>3</td>\n",
       "      <td>303.0</td>\n",
       "      <td>27.0</td>\n",
       "      <td>8.181818</td>\n",
       "    </tr>\n",
       "    <tr>\n",
       "      <th>4</th>\n",
       "      <td>4</td>\n",
       "      <td>37.0</td>\n",
       "      <td>4.0</td>\n",
       "      <td>9.756098</td>\n",
       "    </tr>\n",
       "    <tr>\n",
       "      <th>5</th>\n",
       "      <td>5</td>\n",
       "      <td>9.0</td>\n",
       "      <td>0.0</td>\n",
       "      <td>0.000000</td>\n",
       "    </tr>\n",
       "  </tbody>\n",
       "</table>\n",
       "</div>"
      ],
      "text/plain": [
       "debt  children        0       1  default rate\n",
       "0            0  13026.0  1063.0      7.544893\n",
       "1            1   4410.0   445.0      9.165808\n",
       "2            2   1926.0   202.0      9.492481\n",
       "3            3    303.0    27.0      8.181818\n",
       "4            4     37.0     4.0      9.756098\n",
       "5            5      9.0     0.0      0.000000"
      ]
     },
     "metadata": {},
     "output_type": "display_data"
    }
   ],
   "source": [
    "df_pivot_children_reset_index['default rate'] = (df_pivot_children_reset_index[1]/(df_pivot_children_reset_index[0]+df_pivot_children_reset_index[1]))*100\n",
    "display(df_pivot_children_reset_index) # выведим данные для просмотра"
   ]
  },
  {
   "cell_type": "markdown",
   "id": "93a2ded8",
   "metadata": {},
   "source": [
    "<div class=\"alert alert-block alert-warning\">\n",
    "<b>Комментарий ревьюера⚠️:</b> Тут скорее не категоризация, а построение сводной таблицы"
   ]
  },
  {
   "cell_type": "markdown",
   "id": "6baee83c",
   "metadata": {},
   "source": [
    "<div class=\"alert alert-block alert-info\">\n",
    "<b>Комментарий студента:</b> \n",
    "Поправила название\n",
    "</div>"
   ]
  },
  {
   "cell_type": "markdown",
   "id": "1f71d0ed",
   "metadata": {},
   "source": [
    "<div class=\"alert alert-block alert-success\">\n",
    "<b>Комментарий ревьюера_v2✅:</b> 👍 </div>"
   ]
  },
  {
   "cell_type": "markdown",
   "id": "1f3871e2",
   "metadata": {},
   "source": [
    "### Шаг 2.6. Категоризация семейного положения."
   ]
  },
  {
   "cell_type": "markdown",
   "id": "e2b54426",
   "metadata": {},
   "source": [
    "Создадим сводную таблицу, где методом `pivot_table()` сгруппируем данные по столбцу `family_status_id`, возьмем значения из столбца `debt`. Где в столбце `family_status_id` семейное положение клиентов, в столбце `0` количество клиентов вернувших кредит в срок, в столбце `1` количество клиентов не вернувших кредит в срок."
   ]
  },
  {
   "cell_type": "code",
   "execution_count": 45,
   "id": "b6e7de9b",
   "metadata": {},
   "outputs": [
    {
     "data": {
      "text/html": [
       "<div>\n",
       "<style scoped>\n",
       "    .dataframe tbody tr th:only-of-type {\n",
       "        vertical-align: middle;\n",
       "    }\n",
       "\n",
       "    .dataframe tbody tr th {\n",
       "        vertical-align: top;\n",
       "    }\n",
       "\n",
       "    .dataframe thead th {\n",
       "        text-align: right;\n",
       "    }\n",
       "</style>\n",
       "<table border=\"1\" class=\"dataframe\">\n",
       "  <thead>\n",
       "    <tr style=\"text-align: right;\">\n",
       "      <th>debt</th>\n",
       "      <th>0</th>\n",
       "      <th>1</th>\n",
       "    </tr>\n",
       "    <tr>\n",
       "      <th>family_status_id</th>\n",
       "      <th></th>\n",
       "      <th></th>\n",
       "    </tr>\n",
       "  </thead>\n",
       "  <tbody>\n",
       "    <tr>\n",
       "      <th>0</th>\n",
       "      <td>11408</td>\n",
       "      <td>931</td>\n",
       "    </tr>\n",
       "    <tr>\n",
       "      <th>1</th>\n",
       "      <td>3761</td>\n",
       "      <td>388</td>\n",
       "    </tr>\n",
       "    <tr>\n",
       "      <th>2</th>\n",
       "      <td>896</td>\n",
       "      <td>63</td>\n",
       "    </tr>\n",
       "    <tr>\n",
       "      <th>3</th>\n",
       "      <td>1110</td>\n",
       "      <td>85</td>\n",
       "    </tr>\n",
       "    <tr>\n",
       "      <th>4</th>\n",
       "      <td>2536</td>\n",
       "      <td>274</td>\n",
       "    </tr>\n",
       "  </tbody>\n",
       "</table>\n",
       "</div>"
      ],
      "text/plain": [
       "debt                  0    1\n",
       "family_status_id            \n",
       "0                 11408  931\n",
       "1                  3761  388\n",
       "2                   896   63\n",
       "3                  1110   85\n",
       "4                  2536  274"
      ]
     },
     "metadata": {},
     "output_type": "display_data"
    }
   ],
   "source": [
    "df_pivot_family = df_total.pivot_table(index=['family_status_id'], columns='debt', values='education_id', aggfunc='count')\n",
    "display(df_pivot_family) # выведим данные для просмотра"
   ]
  },
  {
   "cell_type": "markdown",
   "id": "0f15f690",
   "metadata": {},
   "source": [
    "Методом `reset_index()` убирем мультииндекс."
   ]
  },
  {
   "cell_type": "code",
   "execution_count": 46,
   "id": "ab5cb9ce",
   "metadata": {},
   "outputs": [
    {
     "data": {
      "text/html": [
       "<div>\n",
       "<style scoped>\n",
       "    .dataframe tbody tr th:only-of-type {\n",
       "        vertical-align: middle;\n",
       "    }\n",
       "\n",
       "    .dataframe tbody tr th {\n",
       "        vertical-align: top;\n",
       "    }\n",
       "\n",
       "    .dataframe thead th {\n",
       "        text-align: right;\n",
       "    }\n",
       "</style>\n",
       "<table border=\"1\" class=\"dataframe\">\n",
       "  <thead>\n",
       "    <tr style=\"text-align: right;\">\n",
       "      <th>debt</th>\n",
       "      <th>family_status_id</th>\n",
       "      <th>0</th>\n",
       "      <th>1</th>\n",
       "    </tr>\n",
       "  </thead>\n",
       "  <tbody>\n",
       "    <tr>\n",
       "      <th>0</th>\n",
       "      <td>0</td>\n",
       "      <td>11408</td>\n",
       "      <td>931</td>\n",
       "    </tr>\n",
       "    <tr>\n",
       "      <th>1</th>\n",
       "      <td>1</td>\n",
       "      <td>3761</td>\n",
       "      <td>388</td>\n",
       "    </tr>\n",
       "    <tr>\n",
       "      <th>2</th>\n",
       "      <td>2</td>\n",
       "      <td>896</td>\n",
       "      <td>63</td>\n",
       "    </tr>\n",
       "    <tr>\n",
       "      <th>3</th>\n",
       "      <td>3</td>\n",
       "      <td>1110</td>\n",
       "      <td>85</td>\n",
       "    </tr>\n",
       "    <tr>\n",
       "      <th>4</th>\n",
       "      <td>4</td>\n",
       "      <td>2536</td>\n",
       "      <td>274</td>\n",
       "    </tr>\n",
       "  </tbody>\n",
       "</table>\n",
       "</div>"
      ],
      "text/plain": [
       "debt  family_status_id      0    1\n",
       "0                    0  11408  931\n",
       "1                    1   3761  388\n",
       "2                    2    896   63\n",
       "3                    3   1110   85\n",
       "4                    4   2536  274"
      ]
     },
     "metadata": {},
     "output_type": "display_data"
    }
   ],
   "source": [
    "df_pivot_family_reset_index = df_pivot_family.reset_index()\n",
    "display(df_pivot_family_reset_index) # выведим данные для просмотра"
   ]
  },
  {
   "cell_type": "markdown",
   "id": "19e9270f",
   "metadata": {},
   "source": [
    "Посчитаем процент клиентов, не выплатиших кредит в срок. Для этого создадим столбец `default rate`, где разделим не выплативших клиентов на общее количество клиентов."
   ]
  },
  {
   "cell_type": "code",
   "execution_count": 47,
   "id": "2124768b",
   "metadata": {},
   "outputs": [
    {
     "data": {
      "text/html": [
       "<div>\n",
       "<style scoped>\n",
       "    .dataframe tbody tr th:only-of-type {\n",
       "        vertical-align: middle;\n",
       "    }\n",
       "\n",
       "    .dataframe tbody tr th {\n",
       "        vertical-align: top;\n",
       "    }\n",
       "\n",
       "    .dataframe thead th {\n",
       "        text-align: right;\n",
       "    }\n",
       "</style>\n",
       "<table border=\"1\" class=\"dataframe\">\n",
       "  <thead>\n",
       "    <tr style=\"text-align: right;\">\n",
       "      <th>debt</th>\n",
       "      <th>family_status_id</th>\n",
       "      <th>0</th>\n",
       "      <th>1</th>\n",
       "      <th>default rate</th>\n",
       "    </tr>\n",
       "  </thead>\n",
       "  <tbody>\n",
       "    <tr>\n",
       "      <th>0</th>\n",
       "      <td>0</td>\n",
       "      <td>11408</td>\n",
       "      <td>931</td>\n",
       "      <td>7.545182</td>\n",
       "    </tr>\n",
       "    <tr>\n",
       "      <th>1</th>\n",
       "      <td>1</td>\n",
       "      <td>3761</td>\n",
       "      <td>388</td>\n",
       "      <td>9.351651</td>\n",
       "    </tr>\n",
       "    <tr>\n",
       "      <th>2</th>\n",
       "      <td>2</td>\n",
       "      <td>896</td>\n",
       "      <td>63</td>\n",
       "      <td>6.569343</td>\n",
       "    </tr>\n",
       "    <tr>\n",
       "      <th>3</th>\n",
       "      <td>3</td>\n",
       "      <td>1110</td>\n",
       "      <td>85</td>\n",
       "      <td>7.112971</td>\n",
       "    </tr>\n",
       "    <tr>\n",
       "      <th>4</th>\n",
       "      <td>4</td>\n",
       "      <td>2536</td>\n",
       "      <td>274</td>\n",
       "      <td>9.750890</td>\n",
       "    </tr>\n",
       "  </tbody>\n",
       "</table>\n",
       "</div>"
      ],
      "text/plain": [
       "debt  family_status_id      0    1  default rate\n",
       "0                    0  11408  931      7.545182\n",
       "1                    1   3761  388      9.351651\n",
       "2                    2    896   63      6.569343\n",
       "3                    3   1110   85      7.112971\n",
       "4                    4   2536  274      9.750890"
      ]
     },
     "metadata": {},
     "output_type": "display_data"
    }
   ],
   "source": [
    "df_pivot_family_reset_index['default rate'] = (df_pivot_family_reset_index[1]/(df_pivot_family_reset_index[0]+df_pivot_family_reset_index[1]))*100\n",
    "display(df_pivot_family_reset_index) # выведим данные для просмотра"
   ]
  },
  {
   "cell_type": "markdown",
   "id": "d968e1ba",
   "metadata": {},
   "source": [
    "Для наглядности добавим столбец с названиями семейного статуса. Для этого возьмем созданный датафрейм `df_family_status` и методом `drop_duplicates()` отфильтруем статусы."
   ]
  },
  {
   "cell_type": "code",
   "execution_count": 48,
   "id": "5a3ee795",
   "metadata": {},
   "outputs": [],
   "source": [
    "df_family_status_drop = df_family_status.drop_duplicates()"
   ]
  },
  {
   "cell_type": "markdown",
   "id": "f1534799",
   "metadata": {},
   "source": [
    "Добавим полученную таблицу `df_family_status_drop` к таблице `df_pivot_family_reset_index` методом `merge()`."
   ]
  },
  {
   "cell_type": "code",
   "execution_count": 49,
   "id": "c268d142",
   "metadata": {},
   "outputs": [],
   "source": [
    "df_pivot_family_reset_index_merge = df_pivot_family_reset_index.merge(df_family_status_drop, on='family_status_id', how = 'left')"
   ]
  },
  {
   "cell_type": "code",
   "execution_count": 50,
   "id": "f8991020",
   "metadata": {},
   "outputs": [
    {
     "data": {
      "text/html": [
       "<div>\n",
       "<style scoped>\n",
       "    .dataframe tbody tr th:only-of-type {\n",
       "        vertical-align: middle;\n",
       "    }\n",
       "\n",
       "    .dataframe tbody tr th {\n",
       "        vertical-align: top;\n",
       "    }\n",
       "\n",
       "    .dataframe thead th {\n",
       "        text-align: right;\n",
       "    }\n",
       "</style>\n",
       "<table border=\"1\" class=\"dataframe\">\n",
       "  <thead>\n",
       "    <tr style=\"text-align: right;\">\n",
       "      <th></th>\n",
       "      <th>family_status_id</th>\n",
       "      <th>0</th>\n",
       "      <th>1</th>\n",
       "      <th>default rate</th>\n",
       "      <th>family_status</th>\n",
       "    </tr>\n",
       "  </thead>\n",
       "  <tbody>\n",
       "    <tr>\n",
       "      <th>0</th>\n",
       "      <td>0</td>\n",
       "      <td>11408</td>\n",
       "      <td>931</td>\n",
       "      <td>7.545182</td>\n",
       "      <td>женат / замужем</td>\n",
       "    </tr>\n",
       "    <tr>\n",
       "      <th>1</th>\n",
       "      <td>1</td>\n",
       "      <td>3761</td>\n",
       "      <td>388</td>\n",
       "      <td>9.351651</td>\n",
       "      <td>гражданский брак</td>\n",
       "    </tr>\n",
       "    <tr>\n",
       "      <th>2</th>\n",
       "      <td>2</td>\n",
       "      <td>896</td>\n",
       "      <td>63</td>\n",
       "      <td>6.569343</td>\n",
       "      <td>вдовец / вдова</td>\n",
       "    </tr>\n",
       "    <tr>\n",
       "      <th>3</th>\n",
       "      <td>3</td>\n",
       "      <td>1110</td>\n",
       "      <td>85</td>\n",
       "      <td>7.112971</td>\n",
       "      <td>в разводе</td>\n",
       "    </tr>\n",
       "    <tr>\n",
       "      <th>4</th>\n",
       "      <td>4</td>\n",
       "      <td>2536</td>\n",
       "      <td>274</td>\n",
       "      <td>9.750890</td>\n",
       "      <td>Не женат / не замужем</td>\n",
       "    </tr>\n",
       "  </tbody>\n",
       "</table>\n",
       "</div>"
      ],
      "text/plain": [
       "   family_status_id      0    1  default rate          family_status\n",
       "0                 0  11408  931      7.545182        женат / замужем\n",
       "1                 1   3761  388      9.351651       гражданский брак\n",
       "2                 2    896   63      6.569343         вдовец / вдова\n",
       "3                 3   1110   85      7.112971              в разводе\n",
       "4                 4   2536  274      9.750890  Не женат / не замужем"
      ]
     },
     "metadata": {},
     "output_type": "display_data"
    }
   ],
   "source": [
    "display(df_pivot_family_reset_index_merge) # выведим данные для просмотра"
   ]
  },
  {
   "cell_type": "markdown",
   "id": "32890076",
   "metadata": {},
   "source": [
    "<div class=\"alert alert-block alert-success\">\n",
    "<b>Комментарий ревьюера✅:</b> 👍"
   ]
  },
  {
   "cell_type": "markdown",
   "id": "1d77b14c",
   "metadata": {},
   "source": [
    "### Шаг 2.6. Категоризация дохода."
   ]
  },
  {
   "cell_type": "markdown",
   "id": "1e830613",
   "metadata": {},
   "source": [
    "Для удобства анализа создадим категории доходов:\n",
    "* 0 – 30 000 — 'E';\n",
    "* 30 001 – 50 000 — 'D';\n",
    "* 50 001 – 200 000 — 'C';\n",
    "* 200 001 – 1 000 000 — 'B';\n",
    "* 1 000 001 и выше — 'A'.\n",
    "\n",
    "Создадим функцию `income_group` на основании данных диапазонов."
   ]
  },
  {
   "cell_type": "code",
   "execution_count": 51,
   "id": "ff5d2376",
   "metadata": {},
   "outputs": [],
   "source": [
    "def income_group(total_income): \n",
    "    if total_income  <= 30000:\n",
    "        return 'E'\n",
    "    if total_income >=30001 and total_income <=50000:\n",
    "        return 'D'\n",
    "    if total_income >= 50001 and total_income <=200000:\n",
    "        return 'C'\n",
    "    if total_income >= 200001 and total_income <=1000000:\n",
    "        return 'B'\n",
    "    return 'A'"
   ]
  },
  {
   "cell_type": "markdown",
   "id": "37a056de",
   "metadata": {},
   "source": [
    "Создадим столбец `total_income_category`, где методом `apply()` добавим категории функции `income_group` к таблице `df_total`."
   ]
  },
  {
   "cell_type": "code",
   "execution_count": 52,
   "id": "3efa58db",
   "metadata": {},
   "outputs": [
    {
     "data": {
      "text/html": [
       "<div>\n",
       "<style scoped>\n",
       "    .dataframe tbody tr th:only-of-type {\n",
       "        vertical-align: middle;\n",
       "    }\n",
       "\n",
       "    .dataframe tbody tr th {\n",
       "        vertical-align: top;\n",
       "    }\n",
       "\n",
       "    .dataframe thead th {\n",
       "        text-align: right;\n",
       "    }\n",
       "</style>\n",
       "<table border=\"1\" class=\"dataframe\">\n",
       "  <thead>\n",
       "    <tr style=\"text-align: right;\">\n",
       "      <th></th>\n",
       "      <th>children</th>\n",
       "      <th>days_employed</th>\n",
       "      <th>dob_years</th>\n",
       "      <th>education_id</th>\n",
       "      <th>family_status_id</th>\n",
       "      <th>gender</th>\n",
       "      <th>income_type</th>\n",
       "      <th>debt</th>\n",
       "      <th>total_income</th>\n",
       "      <th>purpose</th>\n",
       "      <th>total_income_category</th>\n",
       "    </tr>\n",
       "  </thead>\n",
       "  <tbody>\n",
       "    <tr>\n",
       "      <th>0</th>\n",
       "      <td>1</td>\n",
       "      <td>8437.673028</td>\n",
       "      <td>42.0</td>\n",
       "      <td>0</td>\n",
       "      <td>0</td>\n",
       "      <td>F</td>\n",
       "      <td>сотрудник</td>\n",
       "      <td>0</td>\n",
       "      <td>253875</td>\n",
       "      <td>покупка жилья</td>\n",
       "      <td>B</td>\n",
       "    </tr>\n",
       "    <tr>\n",
       "      <th>1</th>\n",
       "      <td>1</td>\n",
       "      <td>4024.803754</td>\n",
       "      <td>36.0</td>\n",
       "      <td>1</td>\n",
       "      <td>0</td>\n",
       "      <td>F</td>\n",
       "      <td>сотрудник</td>\n",
       "      <td>0</td>\n",
       "      <td>112080</td>\n",
       "      <td>приобретение автомобиля</td>\n",
       "      <td>C</td>\n",
       "    </tr>\n",
       "    <tr>\n",
       "      <th>2</th>\n",
       "      <td>0</td>\n",
       "      <td>5623.422610</td>\n",
       "      <td>33.0</td>\n",
       "      <td>1</td>\n",
       "      <td>0</td>\n",
       "      <td>M</td>\n",
       "      <td>сотрудник</td>\n",
       "      <td>0</td>\n",
       "      <td>145885</td>\n",
       "      <td>покупка жилья</td>\n",
       "      <td>C</td>\n",
       "    </tr>\n",
       "    <tr>\n",
       "      <th>3</th>\n",
       "      <td>3</td>\n",
       "      <td>4124.747207</td>\n",
       "      <td>32.0</td>\n",
       "      <td>1</td>\n",
       "      <td>0</td>\n",
       "      <td>M</td>\n",
       "      <td>сотрудник</td>\n",
       "      <td>0</td>\n",
       "      <td>267628</td>\n",
       "      <td>дополнительное образование</td>\n",
       "      <td>B</td>\n",
       "    </tr>\n",
       "    <tr>\n",
       "      <th>4</th>\n",
       "      <td>0</td>\n",
       "      <td>340266.072047</td>\n",
       "      <td>53.0</td>\n",
       "      <td>1</td>\n",
       "      <td>1</td>\n",
       "      <td>F</td>\n",
       "      <td>пенсионер</td>\n",
       "      <td>0</td>\n",
       "      <td>158616</td>\n",
       "      <td>сыграть свадьбу</td>\n",
       "      <td>C</td>\n",
       "    </tr>\n",
       "    <tr>\n",
       "      <th>5</th>\n",
       "      <td>0</td>\n",
       "      <td>926.185831</td>\n",
       "      <td>27.0</td>\n",
       "      <td>0</td>\n",
       "      <td>1</td>\n",
       "      <td>M</td>\n",
       "      <td>компаньон</td>\n",
       "      <td>0</td>\n",
       "      <td>255763</td>\n",
       "      <td>покупка жилья</td>\n",
       "      <td>B</td>\n",
       "    </tr>\n",
       "    <tr>\n",
       "      <th>6</th>\n",
       "      <td>0</td>\n",
       "      <td>2879.202052</td>\n",
       "      <td>43.0</td>\n",
       "      <td>0</td>\n",
       "      <td>0</td>\n",
       "      <td>F</td>\n",
       "      <td>компаньон</td>\n",
       "      <td>0</td>\n",
       "      <td>240525</td>\n",
       "      <td>операции с жильем</td>\n",
       "      <td>B</td>\n",
       "    </tr>\n",
       "    <tr>\n",
       "      <th>7</th>\n",
       "      <td>0</td>\n",
       "      <td>152.779569</td>\n",
       "      <td>50.0</td>\n",
       "      <td>1</td>\n",
       "      <td>0</td>\n",
       "      <td>M</td>\n",
       "      <td>сотрудник</td>\n",
       "      <td>0</td>\n",
       "      <td>135823</td>\n",
       "      <td>образование</td>\n",
       "      <td>C</td>\n",
       "    </tr>\n",
       "    <tr>\n",
       "      <th>8</th>\n",
       "      <td>2</td>\n",
       "      <td>6929.865299</td>\n",
       "      <td>35.0</td>\n",
       "      <td>0</td>\n",
       "      <td>1</td>\n",
       "      <td>F</td>\n",
       "      <td>сотрудник</td>\n",
       "      <td>0</td>\n",
       "      <td>95856</td>\n",
       "      <td>на проведение свадьбы</td>\n",
       "      <td>C</td>\n",
       "    </tr>\n",
       "    <tr>\n",
       "      <th>9</th>\n",
       "      <td>0</td>\n",
       "      <td>2188.756445</td>\n",
       "      <td>41.0</td>\n",
       "      <td>1</td>\n",
       "      <td>0</td>\n",
       "      <td>M</td>\n",
       "      <td>сотрудник</td>\n",
       "      <td>0</td>\n",
       "      <td>144425</td>\n",
       "      <td>покупка жилья для семьи</td>\n",
       "      <td>C</td>\n",
       "    </tr>\n",
       "  </tbody>\n",
       "</table>\n",
       "</div>"
      ],
      "text/plain": [
       "   children  days_employed  dob_years  education_id  family_status_id gender  \\\n",
       "0         1    8437.673028       42.0             0                 0      F   \n",
       "1         1    4024.803754       36.0             1                 0      F   \n",
       "2         0    5623.422610       33.0             1                 0      M   \n",
       "3         3    4124.747207       32.0             1                 0      M   \n",
       "4         0  340266.072047       53.0             1                 1      F   \n",
       "5         0     926.185831       27.0             0                 1      M   \n",
       "6         0    2879.202052       43.0             0                 0      F   \n",
       "7         0     152.779569       50.0             1                 0      M   \n",
       "8         2    6929.865299       35.0             0                 1      F   \n",
       "9         0    2188.756445       41.0             1                 0      M   \n",
       "\n",
       "  income_type  debt  total_income                     purpose  \\\n",
       "0   сотрудник     0        253875               покупка жилья   \n",
       "1   сотрудник     0        112080     приобретение автомобиля   \n",
       "2   сотрудник     0        145885               покупка жилья   \n",
       "3   сотрудник     0        267628  дополнительное образование   \n",
       "4   пенсионер     0        158616             сыграть свадьбу   \n",
       "5   компаньон     0        255763               покупка жилья   \n",
       "6   компаньон     0        240525           операции с жильем   \n",
       "7   сотрудник     0        135823                 образование   \n",
       "8   сотрудник     0         95856       на проведение свадьбы   \n",
       "9   сотрудник     0        144425     покупка жилья для семьи   \n",
       "\n",
       "  total_income_category  \n",
       "0                     B  \n",
       "1                     C  \n",
       "2                     C  \n",
       "3                     B  \n",
       "4                     C  \n",
       "5                     B  \n",
       "6                     B  \n",
       "7                     C  \n",
       "8                     C  \n",
       "9                     C  "
      ]
     },
     "metadata": {},
     "output_type": "display_data"
    }
   ],
   "source": [
    "df_total['total_income_category'] = df_total['total_income'].apply(income_group)\n",
    "display(df_total.head(10)) # выведим данные для просмотра"
   ]
  },
  {
   "cell_type": "markdown",
   "id": "d707f8a0",
   "metadata": {},
   "source": [
    "<div class=\"alert alert-block alert-success\">\n",
    "<b>Комментарий ревьюера✅:</b> Функция написана верно, круто что результат ее выполнения проверен👍"
   ]
  },
  {
   "cell_type": "markdown",
   "id": "50ea7a70",
   "metadata": {},
   "source": [
    "Создадим сводную таблицу, где методом `pivot_table()` сгруппируем данные по столбцу `total_income_category`, возьмем значения из столбца `debt`. Где в столбце `total_income_category` категории доходов клиентов, в столбце `0` количество клиентов вернувших кредит в срок, в столбце `1` количество клиентов не вернувших кредит в срок."
   ]
  },
  {
   "cell_type": "code",
   "execution_count": 53,
   "id": "3b8ce891",
   "metadata": {},
   "outputs": [
    {
     "data": {
      "text/html": [
       "<div>\n",
       "<style scoped>\n",
       "    .dataframe tbody tr th:only-of-type {\n",
       "        vertical-align: middle;\n",
       "    }\n",
       "\n",
       "    .dataframe tbody tr th {\n",
       "        vertical-align: top;\n",
       "    }\n",
       "\n",
       "    .dataframe thead th {\n",
       "        text-align: right;\n",
       "    }\n",
       "</style>\n",
       "<table border=\"1\" class=\"dataframe\">\n",
       "  <thead>\n",
       "    <tr style=\"text-align: right;\">\n",
       "      <th>debt</th>\n",
       "      <th>0</th>\n",
       "      <th>1</th>\n",
       "    </tr>\n",
       "    <tr>\n",
       "      <th>total_income_category</th>\n",
       "      <th></th>\n",
       "      <th></th>\n",
       "    </tr>\n",
       "  </thead>\n",
       "  <tbody>\n",
       "    <tr>\n",
       "      <th>A</th>\n",
       "      <td>23</td>\n",
       "      <td>2</td>\n",
       "    </tr>\n",
       "    <tr>\n",
       "      <th>B</th>\n",
       "      <td>4685</td>\n",
       "      <td>356</td>\n",
       "    </tr>\n",
       "    <tr>\n",
       "      <th>C</th>\n",
       "      <td>14654</td>\n",
       "      <td>1360</td>\n",
       "    </tr>\n",
       "    <tr>\n",
       "      <th>D</th>\n",
       "      <td>329</td>\n",
       "      <td>21</td>\n",
       "    </tr>\n",
       "    <tr>\n",
       "      <th>E</th>\n",
       "      <td>20</td>\n",
       "      <td>2</td>\n",
       "    </tr>\n",
       "  </tbody>\n",
       "</table>\n",
       "</div>"
      ],
      "text/plain": [
       "debt                       0     1\n",
       "total_income_category             \n",
       "A                         23     2\n",
       "B                       4685   356\n",
       "C                      14654  1360\n",
       "D                        329    21\n",
       "E                         20     2"
      ]
     },
     "metadata": {},
     "output_type": "display_data"
    }
   ],
   "source": [
    "df_pivot_total_income = df_total.pivot_table(index=['total_income_category'], columns='debt', values='education_id', aggfunc='count')\n",
    "display(df_pivot_total_income) # выведим данные для просмотра"
   ]
  },
  {
   "cell_type": "markdown",
   "id": "90fb2acf",
   "metadata": {},
   "source": [
    "Методом `reset_index()` убирем мультииндекс."
   ]
  },
  {
   "cell_type": "code",
   "execution_count": 54,
   "id": "f33b1a1e",
   "metadata": {},
   "outputs": [
    {
     "data": {
      "text/html": [
       "<div>\n",
       "<style scoped>\n",
       "    .dataframe tbody tr th:only-of-type {\n",
       "        vertical-align: middle;\n",
       "    }\n",
       "\n",
       "    .dataframe tbody tr th {\n",
       "        vertical-align: top;\n",
       "    }\n",
       "\n",
       "    .dataframe thead th {\n",
       "        text-align: right;\n",
       "    }\n",
       "</style>\n",
       "<table border=\"1\" class=\"dataframe\">\n",
       "  <thead>\n",
       "    <tr style=\"text-align: right;\">\n",
       "      <th>debt</th>\n",
       "      <th>total_income_category</th>\n",
       "      <th>0</th>\n",
       "      <th>1</th>\n",
       "    </tr>\n",
       "  </thead>\n",
       "  <tbody>\n",
       "    <tr>\n",
       "      <th>0</th>\n",
       "      <td>A</td>\n",
       "      <td>23</td>\n",
       "      <td>2</td>\n",
       "    </tr>\n",
       "    <tr>\n",
       "      <th>1</th>\n",
       "      <td>B</td>\n",
       "      <td>4685</td>\n",
       "      <td>356</td>\n",
       "    </tr>\n",
       "    <tr>\n",
       "      <th>2</th>\n",
       "      <td>C</td>\n",
       "      <td>14654</td>\n",
       "      <td>1360</td>\n",
       "    </tr>\n",
       "    <tr>\n",
       "      <th>3</th>\n",
       "      <td>D</td>\n",
       "      <td>329</td>\n",
       "      <td>21</td>\n",
       "    </tr>\n",
       "    <tr>\n",
       "      <th>4</th>\n",
       "      <td>E</td>\n",
       "      <td>20</td>\n",
       "      <td>2</td>\n",
       "    </tr>\n",
       "  </tbody>\n",
       "</table>\n",
       "</div>"
      ],
      "text/plain": [
       "debt total_income_category      0     1\n",
       "0                        A     23     2\n",
       "1                        B   4685   356\n",
       "2                        C  14654  1360\n",
       "3                        D    329    21\n",
       "4                        E     20     2"
      ]
     },
     "metadata": {},
     "output_type": "display_data"
    }
   ],
   "source": [
    "df_pivot_total_income_reset_index = df_pivot_total_income.reset_index()\n",
    "display(df_pivot_total_income_reset_index) # выведим данные для просмотра"
   ]
  },
  {
   "cell_type": "markdown",
   "id": "376be9a9",
   "metadata": {},
   "source": [
    "Посчитаем процент клиентов, не выплатиших кредит в срок. Для этого создадим столбец `default rate`, где разделим не выплативших клиентов на общее количество клиентов."
   ]
  },
  {
   "cell_type": "code",
   "execution_count": 55,
   "id": "684ebcbe",
   "metadata": {},
   "outputs": [
    {
     "data": {
      "text/html": [
       "<div>\n",
       "<style scoped>\n",
       "    .dataframe tbody tr th:only-of-type {\n",
       "        vertical-align: middle;\n",
       "    }\n",
       "\n",
       "    .dataframe tbody tr th {\n",
       "        vertical-align: top;\n",
       "    }\n",
       "\n",
       "    .dataframe thead th {\n",
       "        text-align: right;\n",
       "    }\n",
       "</style>\n",
       "<table border=\"1\" class=\"dataframe\">\n",
       "  <thead>\n",
       "    <tr style=\"text-align: right;\">\n",
       "      <th>debt</th>\n",
       "      <th>total_income_category</th>\n",
       "      <th>0</th>\n",
       "      <th>1</th>\n",
       "      <th>default rate</th>\n",
       "    </tr>\n",
       "  </thead>\n",
       "  <tbody>\n",
       "    <tr>\n",
       "      <th>0</th>\n",
       "      <td>A</td>\n",
       "      <td>23</td>\n",
       "      <td>2</td>\n",
       "      <td>8.000000</td>\n",
       "    </tr>\n",
       "    <tr>\n",
       "      <th>1</th>\n",
       "      <td>B</td>\n",
       "      <td>4685</td>\n",
       "      <td>356</td>\n",
       "      <td>7.062091</td>\n",
       "    </tr>\n",
       "    <tr>\n",
       "      <th>2</th>\n",
       "      <td>C</td>\n",
       "      <td>14654</td>\n",
       "      <td>1360</td>\n",
       "      <td>8.492569</td>\n",
       "    </tr>\n",
       "    <tr>\n",
       "      <th>3</th>\n",
       "      <td>D</td>\n",
       "      <td>329</td>\n",
       "      <td>21</td>\n",
       "      <td>6.000000</td>\n",
       "    </tr>\n",
       "    <tr>\n",
       "      <th>4</th>\n",
       "      <td>E</td>\n",
       "      <td>20</td>\n",
       "      <td>2</td>\n",
       "      <td>9.090909</td>\n",
       "    </tr>\n",
       "  </tbody>\n",
       "</table>\n",
       "</div>"
      ],
      "text/plain": [
       "debt total_income_category      0     1  default rate\n",
       "0                        A     23     2      8.000000\n",
       "1                        B   4685   356      7.062091\n",
       "2                        C  14654  1360      8.492569\n",
       "3                        D    329    21      6.000000\n",
       "4                        E     20     2      9.090909"
      ]
     },
     "metadata": {},
     "output_type": "display_data"
    }
   ],
   "source": [
    "df_pivot_total_income_reset_index['default rate'] = (df_pivot_total_income_reset_index[1]/(df_pivot_total_income_reset_index[0]+df_pivot_total_income_reset_index[1]))*100\n",
    "display(df_pivot_total_income_reset_index) # выведим данные для просмотра"
   ]
  },
  {
   "cell_type": "markdown",
   "id": "1faef163",
   "metadata": {},
   "source": [
    "### Шаг 2.7. Категоризация целей кредита."
   ]
  },
  {
   "cell_type": "markdown",
   "id": "d38d5e65",
   "metadata": {},
   "source": [
    "Для удобства анализа создадим следующие категории:\n",
    "* операции с автомобилем,\n",
    "* операции с недвижимостью,\n",
    "* проведение свадьбы,\n",
    "* получение образования."
   ]
  },
  {
   "cell_type": "markdown",
   "id": "a90da87e",
   "metadata": {},
   "source": [
    "Создадим функцию `purpose_group`, которая сгруппирует по категориям цели кредита."
   ]
  },
  {
   "cell_type": "code",
   "execution_count": 56,
   "id": "34aded3f",
   "metadata": {},
   "outputs": [],
   "source": [
    "def purpose_group(purpose): \n",
    "    if 'авт' in purpose:\n",
    "        return 'операции с автомобилем'\n",
    "    if 'жиль' in purpose:\n",
    "        return 'операции с недвижимостью'\n",
    "    if 'недвиж' in purpose:\n",
    "        return 'операции с недвижимостью'\n",
    "    if 'свад'in purpose:\n",
    "        return 'проведение свадьбы'\n",
    "    if 'образов' in purpose:\n",
    "        return 'получение образования'"
   ]
  },
  {
   "cell_type": "markdown",
   "id": "f9ed5bae",
   "metadata": {},
   "source": [
    "Создадим столбец `purpose_category`, где методом `apply()` добавим категории функции `purpose_group` к таблице `df_total`."
   ]
  },
  {
   "cell_type": "code",
   "execution_count": 57,
   "id": "4a46c485",
   "metadata": {},
   "outputs": [
    {
     "data": {
      "text/html": [
       "<div>\n",
       "<style scoped>\n",
       "    .dataframe tbody tr th:only-of-type {\n",
       "        vertical-align: middle;\n",
       "    }\n",
       "\n",
       "    .dataframe tbody tr th {\n",
       "        vertical-align: top;\n",
       "    }\n",
       "\n",
       "    .dataframe thead th {\n",
       "        text-align: right;\n",
       "    }\n",
       "</style>\n",
       "<table border=\"1\" class=\"dataframe\">\n",
       "  <thead>\n",
       "    <tr style=\"text-align: right;\">\n",
       "      <th></th>\n",
       "      <th>children</th>\n",
       "      <th>days_employed</th>\n",
       "      <th>dob_years</th>\n",
       "      <th>education_id</th>\n",
       "      <th>family_status_id</th>\n",
       "      <th>gender</th>\n",
       "      <th>income_type</th>\n",
       "      <th>debt</th>\n",
       "      <th>total_income</th>\n",
       "      <th>purpose</th>\n",
       "      <th>total_income_category</th>\n",
       "      <th>purpose_category</th>\n",
       "    </tr>\n",
       "  </thead>\n",
       "  <tbody>\n",
       "    <tr>\n",
       "      <th>0</th>\n",
       "      <td>1</td>\n",
       "      <td>8437.673028</td>\n",
       "      <td>42.0</td>\n",
       "      <td>0</td>\n",
       "      <td>0</td>\n",
       "      <td>F</td>\n",
       "      <td>сотрудник</td>\n",
       "      <td>0</td>\n",
       "      <td>253875</td>\n",
       "      <td>покупка жилья</td>\n",
       "      <td>B</td>\n",
       "      <td>операции с недвижимостью</td>\n",
       "    </tr>\n",
       "    <tr>\n",
       "      <th>1</th>\n",
       "      <td>1</td>\n",
       "      <td>4024.803754</td>\n",
       "      <td>36.0</td>\n",
       "      <td>1</td>\n",
       "      <td>0</td>\n",
       "      <td>F</td>\n",
       "      <td>сотрудник</td>\n",
       "      <td>0</td>\n",
       "      <td>112080</td>\n",
       "      <td>приобретение автомобиля</td>\n",
       "      <td>C</td>\n",
       "      <td>операции с автомобилем</td>\n",
       "    </tr>\n",
       "    <tr>\n",
       "      <th>2</th>\n",
       "      <td>0</td>\n",
       "      <td>5623.422610</td>\n",
       "      <td>33.0</td>\n",
       "      <td>1</td>\n",
       "      <td>0</td>\n",
       "      <td>M</td>\n",
       "      <td>сотрудник</td>\n",
       "      <td>0</td>\n",
       "      <td>145885</td>\n",
       "      <td>покупка жилья</td>\n",
       "      <td>C</td>\n",
       "      <td>операции с недвижимостью</td>\n",
       "    </tr>\n",
       "    <tr>\n",
       "      <th>3</th>\n",
       "      <td>3</td>\n",
       "      <td>4124.747207</td>\n",
       "      <td>32.0</td>\n",
       "      <td>1</td>\n",
       "      <td>0</td>\n",
       "      <td>M</td>\n",
       "      <td>сотрудник</td>\n",
       "      <td>0</td>\n",
       "      <td>267628</td>\n",
       "      <td>дополнительное образование</td>\n",
       "      <td>B</td>\n",
       "      <td>получение образования</td>\n",
       "    </tr>\n",
       "    <tr>\n",
       "      <th>4</th>\n",
       "      <td>0</td>\n",
       "      <td>340266.072047</td>\n",
       "      <td>53.0</td>\n",
       "      <td>1</td>\n",
       "      <td>1</td>\n",
       "      <td>F</td>\n",
       "      <td>пенсионер</td>\n",
       "      <td>0</td>\n",
       "      <td>158616</td>\n",
       "      <td>сыграть свадьбу</td>\n",
       "      <td>C</td>\n",
       "      <td>проведение свадьбы</td>\n",
       "    </tr>\n",
       "    <tr>\n",
       "      <th>5</th>\n",
       "      <td>0</td>\n",
       "      <td>926.185831</td>\n",
       "      <td>27.0</td>\n",
       "      <td>0</td>\n",
       "      <td>1</td>\n",
       "      <td>M</td>\n",
       "      <td>компаньон</td>\n",
       "      <td>0</td>\n",
       "      <td>255763</td>\n",
       "      <td>покупка жилья</td>\n",
       "      <td>B</td>\n",
       "      <td>операции с недвижимостью</td>\n",
       "    </tr>\n",
       "    <tr>\n",
       "      <th>6</th>\n",
       "      <td>0</td>\n",
       "      <td>2879.202052</td>\n",
       "      <td>43.0</td>\n",
       "      <td>0</td>\n",
       "      <td>0</td>\n",
       "      <td>F</td>\n",
       "      <td>компаньон</td>\n",
       "      <td>0</td>\n",
       "      <td>240525</td>\n",
       "      <td>операции с жильем</td>\n",
       "      <td>B</td>\n",
       "      <td>операции с недвижимостью</td>\n",
       "    </tr>\n",
       "    <tr>\n",
       "      <th>7</th>\n",
       "      <td>0</td>\n",
       "      <td>152.779569</td>\n",
       "      <td>50.0</td>\n",
       "      <td>1</td>\n",
       "      <td>0</td>\n",
       "      <td>M</td>\n",
       "      <td>сотрудник</td>\n",
       "      <td>0</td>\n",
       "      <td>135823</td>\n",
       "      <td>образование</td>\n",
       "      <td>C</td>\n",
       "      <td>получение образования</td>\n",
       "    </tr>\n",
       "    <tr>\n",
       "      <th>8</th>\n",
       "      <td>2</td>\n",
       "      <td>6929.865299</td>\n",
       "      <td>35.0</td>\n",
       "      <td>0</td>\n",
       "      <td>1</td>\n",
       "      <td>F</td>\n",
       "      <td>сотрудник</td>\n",
       "      <td>0</td>\n",
       "      <td>95856</td>\n",
       "      <td>на проведение свадьбы</td>\n",
       "      <td>C</td>\n",
       "      <td>проведение свадьбы</td>\n",
       "    </tr>\n",
       "    <tr>\n",
       "      <th>9</th>\n",
       "      <td>0</td>\n",
       "      <td>2188.756445</td>\n",
       "      <td>41.0</td>\n",
       "      <td>1</td>\n",
       "      <td>0</td>\n",
       "      <td>M</td>\n",
       "      <td>сотрудник</td>\n",
       "      <td>0</td>\n",
       "      <td>144425</td>\n",
       "      <td>покупка жилья для семьи</td>\n",
       "      <td>C</td>\n",
       "      <td>операции с недвижимостью</td>\n",
       "    </tr>\n",
       "  </tbody>\n",
       "</table>\n",
       "</div>"
      ],
      "text/plain": [
       "   children  days_employed  dob_years  education_id  family_status_id gender  \\\n",
       "0         1    8437.673028       42.0             0                 0      F   \n",
       "1         1    4024.803754       36.0             1                 0      F   \n",
       "2         0    5623.422610       33.0             1                 0      M   \n",
       "3         3    4124.747207       32.0             1                 0      M   \n",
       "4         0  340266.072047       53.0             1                 1      F   \n",
       "5         0     926.185831       27.0             0                 1      M   \n",
       "6         0    2879.202052       43.0             0                 0      F   \n",
       "7         0     152.779569       50.0             1                 0      M   \n",
       "8         2    6929.865299       35.0             0                 1      F   \n",
       "9         0    2188.756445       41.0             1                 0      M   \n",
       "\n",
       "  income_type  debt  total_income                     purpose  \\\n",
       "0   сотрудник     0        253875               покупка жилья   \n",
       "1   сотрудник     0        112080     приобретение автомобиля   \n",
       "2   сотрудник     0        145885               покупка жилья   \n",
       "3   сотрудник     0        267628  дополнительное образование   \n",
       "4   пенсионер     0        158616             сыграть свадьбу   \n",
       "5   компаньон     0        255763               покупка жилья   \n",
       "6   компаньон     0        240525           операции с жильем   \n",
       "7   сотрудник     0        135823                 образование   \n",
       "8   сотрудник     0         95856       на проведение свадьбы   \n",
       "9   сотрудник     0        144425     покупка жилья для семьи   \n",
       "\n",
       "  total_income_category          purpose_category  \n",
       "0                     B  операции с недвижимостью  \n",
       "1                     C    операции с автомобилем  \n",
       "2                     C  операции с недвижимостью  \n",
       "3                     B     получение образования  \n",
       "4                     C        проведение свадьбы  \n",
       "5                     B  операции с недвижимостью  \n",
       "6                     B  операции с недвижимостью  \n",
       "7                     C     получение образования  \n",
       "8                     C        проведение свадьбы  \n",
       "9                     C  операции с недвижимостью  "
      ]
     },
     "metadata": {},
     "output_type": "display_data"
    }
   ],
   "source": [
    "df_total['purpose_category'] = df_total['purpose'].apply(purpose_group)\n",
    "display(df_total.head(10)) # выведим данные для просмотра"
   ]
  },
  {
   "cell_type": "markdown",
   "id": "b4923e2e",
   "metadata": {},
   "source": [
    "<div class=\"alert alert-block alert-success\">\n",
    "<b>Комментарий ревьюера✅:</b> Отличная функция, результат ее выполнения проверен, молодец👍"
   ]
  },
  {
   "cell_type": "markdown",
   "id": "08121d8f",
   "metadata": {},
   "source": [
    "Создадим сводную таблицу, где методом `pivot_table()` сгруппируем данные по столбцу `purpose_category`, возьмем значения из столбца `debt`. Где в столбце `purpose_category` категории целей кредита, в столбце `0` количество клиентов вернувших кредит в срок, в столбце `1` количество клиентов не вернувших кредит в срок."
   ]
  },
  {
   "cell_type": "code",
   "execution_count": 58,
   "id": "1e10d7bd",
   "metadata": {},
   "outputs": [
    {
     "data": {
      "text/html": [
       "<div>\n",
       "<style scoped>\n",
       "    .dataframe tbody tr th:only-of-type {\n",
       "        vertical-align: middle;\n",
       "    }\n",
       "\n",
       "    .dataframe tbody tr th {\n",
       "        vertical-align: top;\n",
       "    }\n",
       "\n",
       "    .dataframe thead th {\n",
       "        text-align: right;\n",
       "    }\n",
       "</style>\n",
       "<table border=\"1\" class=\"dataframe\">\n",
       "  <thead>\n",
       "    <tr style=\"text-align: right;\">\n",
       "      <th>debt</th>\n",
       "      <th>0</th>\n",
       "      <th>1</th>\n",
       "    </tr>\n",
       "    <tr>\n",
       "      <th>purpose_category</th>\n",
       "      <th></th>\n",
       "      <th></th>\n",
       "    </tr>\n",
       "  </thead>\n",
       "  <tbody>\n",
       "    <tr>\n",
       "      <th>операции с автомобилем</th>\n",
       "      <td>3903</td>\n",
       "      <td>403</td>\n",
       "    </tr>\n",
       "    <tr>\n",
       "      <th>операции с недвижимостью</th>\n",
       "      <td>10028</td>\n",
       "      <td>782</td>\n",
       "    </tr>\n",
       "    <tr>\n",
       "      <th>получение образования</th>\n",
       "      <td>3643</td>\n",
       "      <td>370</td>\n",
       "    </tr>\n",
       "    <tr>\n",
       "      <th>проведение свадьбы</th>\n",
       "      <td>2137</td>\n",
       "      <td>186</td>\n",
       "    </tr>\n",
       "  </tbody>\n",
       "</table>\n",
       "</div>"
      ],
      "text/plain": [
       "debt                          0    1\n",
       "purpose_category                    \n",
       "операции с автомобилем     3903  403\n",
       "операции с недвижимостью  10028  782\n",
       "получение образования      3643  370\n",
       "проведение свадьбы         2137  186"
      ]
     },
     "metadata": {},
     "output_type": "display_data"
    }
   ],
   "source": [
    "df_pivot_purpose = df_total.pivot_table(index=['purpose_category'], columns='debt', values='education_id', aggfunc='count')\n",
    "display(df_pivot_purpose) # выведим данные для просмотра"
   ]
  },
  {
   "cell_type": "markdown",
   "id": "9827cc68",
   "metadata": {},
   "source": [
    "Методом `reset_index()` убирем мультииндекс."
   ]
  },
  {
   "cell_type": "code",
   "execution_count": 59,
   "id": "718b496f",
   "metadata": {},
   "outputs": [
    {
     "data": {
      "text/html": [
       "<div>\n",
       "<style scoped>\n",
       "    .dataframe tbody tr th:only-of-type {\n",
       "        vertical-align: middle;\n",
       "    }\n",
       "\n",
       "    .dataframe tbody tr th {\n",
       "        vertical-align: top;\n",
       "    }\n",
       "\n",
       "    .dataframe thead th {\n",
       "        text-align: right;\n",
       "    }\n",
       "</style>\n",
       "<table border=\"1\" class=\"dataframe\">\n",
       "  <thead>\n",
       "    <tr style=\"text-align: right;\">\n",
       "      <th>debt</th>\n",
       "      <th>purpose_category</th>\n",
       "      <th>0</th>\n",
       "      <th>1</th>\n",
       "    </tr>\n",
       "  </thead>\n",
       "  <tbody>\n",
       "    <tr>\n",
       "      <th>0</th>\n",
       "      <td>операции с автомобилем</td>\n",
       "      <td>3903</td>\n",
       "      <td>403</td>\n",
       "    </tr>\n",
       "    <tr>\n",
       "      <th>1</th>\n",
       "      <td>операции с недвижимостью</td>\n",
       "      <td>10028</td>\n",
       "      <td>782</td>\n",
       "    </tr>\n",
       "    <tr>\n",
       "      <th>2</th>\n",
       "      <td>получение образования</td>\n",
       "      <td>3643</td>\n",
       "      <td>370</td>\n",
       "    </tr>\n",
       "    <tr>\n",
       "      <th>3</th>\n",
       "      <td>проведение свадьбы</td>\n",
       "      <td>2137</td>\n",
       "      <td>186</td>\n",
       "    </tr>\n",
       "  </tbody>\n",
       "</table>\n",
       "</div>"
      ],
      "text/plain": [
       "debt          purpose_category      0    1\n",
       "0       операции с автомобилем   3903  403\n",
       "1     операции с недвижимостью  10028  782\n",
       "2        получение образования   3643  370\n",
       "3           проведение свадьбы   2137  186"
      ]
     },
     "metadata": {},
     "output_type": "display_data"
    }
   ],
   "source": [
    "df_pivot_purpose_reset_index = df_pivot_purpose.reset_index()\n",
    "display(df_pivot_purpose_reset_index) # выведим данные для просмотра"
   ]
  },
  {
   "cell_type": "markdown",
   "id": "cd8720c6",
   "metadata": {},
   "source": [
    "Посчитаем процент клиентов, не выплатиших кредит в срок. Для этого создадим столбец `default rate`, где разделим не выплативших клиентов на общее количество клиентов."
   ]
  },
  {
   "cell_type": "code",
   "execution_count": 60,
   "id": "f5f9eb9e",
   "metadata": {},
   "outputs": [
    {
     "data": {
      "text/html": [
       "<div>\n",
       "<style scoped>\n",
       "    .dataframe tbody tr th:only-of-type {\n",
       "        vertical-align: middle;\n",
       "    }\n",
       "\n",
       "    .dataframe tbody tr th {\n",
       "        vertical-align: top;\n",
       "    }\n",
       "\n",
       "    .dataframe thead th {\n",
       "        text-align: right;\n",
       "    }\n",
       "</style>\n",
       "<table border=\"1\" class=\"dataframe\">\n",
       "  <thead>\n",
       "    <tr style=\"text-align: right;\">\n",
       "      <th>debt</th>\n",
       "      <th>purpose_category</th>\n",
       "      <th>0</th>\n",
       "      <th>1</th>\n",
       "      <th>default rate</th>\n",
       "    </tr>\n",
       "  </thead>\n",
       "  <tbody>\n",
       "    <tr>\n",
       "      <th>0</th>\n",
       "      <td>операции с автомобилем</td>\n",
       "      <td>3903</td>\n",
       "      <td>403</td>\n",
       "      <td>9.359034</td>\n",
       "    </tr>\n",
       "    <tr>\n",
       "      <th>1</th>\n",
       "      <td>операции с недвижимостью</td>\n",
       "      <td>10028</td>\n",
       "      <td>782</td>\n",
       "      <td>7.234043</td>\n",
       "    </tr>\n",
       "    <tr>\n",
       "      <th>2</th>\n",
       "      <td>получение образования</td>\n",
       "      <td>3643</td>\n",
       "      <td>370</td>\n",
       "      <td>9.220035</td>\n",
       "    </tr>\n",
       "    <tr>\n",
       "      <th>3</th>\n",
       "      <td>проведение свадьбы</td>\n",
       "      <td>2137</td>\n",
       "      <td>186</td>\n",
       "      <td>8.006888</td>\n",
       "    </tr>\n",
       "  </tbody>\n",
       "</table>\n",
       "</div>"
      ],
      "text/plain": [
       "debt          purpose_category      0    1  default rate\n",
       "0       операции с автомобилем   3903  403      9.359034\n",
       "1     операции с недвижимостью  10028  782      7.234043\n",
       "2        получение образования   3643  370      9.220035\n",
       "3           проведение свадьбы   2137  186      8.006888"
      ]
     },
     "metadata": {},
     "output_type": "display_data"
    }
   ],
   "source": [
    "df_pivot_purpose_reset_index['default rate'] = (df_pivot_purpose_reset_index[1]/(df_pivot_purpose_reset_index[0]+df_pivot_purpose_reset_index[1]))*100\n",
    "display(df_pivot_purpose_reset_index) # выведим данные для просмотра"
   ]
  },
  {
   "cell_type": "markdown",
   "id": "2d8733ef",
   "metadata": {},
   "source": [
    "### Ответы на вопросы."
   ]
  },
  {
   "cell_type": "markdown",
   "id": "32d5a44c",
   "metadata": {},
   "source": [
    "##### Вопрос 1:  Есть ли зависимость между количеством детей и возвратом кредита в срок?"
   ]
  },
  {
   "cell_type": "code",
   "execution_count": 61,
   "id": "4e5af9b2",
   "metadata": {},
   "outputs": [
    {
     "data": {
      "text/html": [
       "<div>\n",
       "<style scoped>\n",
       "    .dataframe tbody tr th:only-of-type {\n",
       "        vertical-align: middle;\n",
       "    }\n",
       "\n",
       "    .dataframe tbody tr th {\n",
       "        vertical-align: top;\n",
       "    }\n",
       "\n",
       "    .dataframe thead th {\n",
       "        text-align: right;\n",
       "    }\n",
       "</style>\n",
       "<table border=\"1\" class=\"dataframe\">\n",
       "  <thead>\n",
       "    <tr style=\"text-align: right;\">\n",
       "      <th>debt</th>\n",
       "      <th>children</th>\n",
       "      <th>0</th>\n",
       "      <th>1</th>\n",
       "      <th>default rate</th>\n",
       "    </tr>\n",
       "  </thead>\n",
       "  <tbody>\n",
       "    <tr>\n",
       "      <th>0</th>\n",
       "      <td>0</td>\n",
       "      <td>13026.0</td>\n",
       "      <td>1063.0</td>\n",
       "      <td>7.544893</td>\n",
       "    </tr>\n",
       "    <tr>\n",
       "      <th>1</th>\n",
       "      <td>1</td>\n",
       "      <td>4410.0</td>\n",
       "      <td>445.0</td>\n",
       "      <td>9.165808</td>\n",
       "    </tr>\n",
       "    <tr>\n",
       "      <th>2</th>\n",
       "      <td>2</td>\n",
       "      <td>1926.0</td>\n",
       "      <td>202.0</td>\n",
       "      <td>9.492481</td>\n",
       "    </tr>\n",
       "    <tr>\n",
       "      <th>3</th>\n",
       "      <td>3</td>\n",
       "      <td>303.0</td>\n",
       "      <td>27.0</td>\n",
       "      <td>8.181818</td>\n",
       "    </tr>\n",
       "    <tr>\n",
       "      <th>4</th>\n",
       "      <td>4</td>\n",
       "      <td>37.0</td>\n",
       "      <td>4.0</td>\n",
       "      <td>9.756098</td>\n",
       "    </tr>\n",
       "    <tr>\n",
       "      <th>5</th>\n",
       "      <td>5</td>\n",
       "      <td>9.0</td>\n",
       "      <td>0.0</td>\n",
       "      <td>0.000000</td>\n",
       "    </tr>\n",
       "  </tbody>\n",
       "</table>\n",
       "</div>"
      ],
      "text/plain": [
       "debt  children        0       1  default rate\n",
       "0            0  13026.0  1063.0      7.544893\n",
       "1            1   4410.0   445.0      9.165808\n",
       "2            2   1926.0   202.0      9.492481\n",
       "3            3    303.0    27.0      8.181818\n",
       "4            4     37.0     4.0      9.756098\n",
       "5            5      9.0     0.0      0.000000"
      ]
     },
     "metadata": {},
     "output_type": "display_data"
    }
   ],
   "source": [
    "display(df_pivot_children_reset_index) # выведим данные для просмотра"
   ]
  },
  {
   "cell_type": "markdown",
   "id": "52ab8d90",
   "metadata": {},
   "source": [
    "Клиенты, у которых 5 детей, возвращают кредит в срок. Но так как таких клиентов всего 9 человек из 21524 (что составляет 0,04% и является не существенным для анализа), то эти данные не будем учитывать для итогового вывода. \n",
    "\n",
    "Полученные данные:\n",
    "* Процент клиентов должников, у которых нет детей составляет 7,51%;\n",
    "* Процент клиентов должников, у которых 1 ребенок составляет 9,15%;\n",
    "* Процент клиентов должников, у которых 2 ребенка составляет 9,48%;\n",
    "* Процент клиентов должников, у которых 3 детей составляет 8,18%;\n",
    "* Процент клиентов должников, у которых 4 детей составляет 9,76%."
   ]
  },
  {
   "cell_type": "markdown",
   "id": "a80d74c0",
   "metadata": {},
   "source": [
    "##### Вывод 1:"
   ]
  },
  {
   "cell_type": "markdown",
   "id": "ca529ef4",
   "metadata": {},
   "source": [
    "Клиенты у которых нет детей возвращают кредит в срок чаще, чем клиенты у которых есть дети. "
   ]
  },
  {
   "cell_type": "markdown",
   "id": "5eda4c23",
   "metadata": {},
   "source": [
    "##### Вопрос 2:  Есть ли зависимость между семейным положением и возвратом кредита в срок?"
   ]
  },
  {
   "cell_type": "code",
   "execution_count": 62,
   "id": "efb015d5",
   "metadata": {},
   "outputs": [
    {
     "data": {
      "text/html": [
       "<div>\n",
       "<style scoped>\n",
       "    .dataframe tbody tr th:only-of-type {\n",
       "        vertical-align: middle;\n",
       "    }\n",
       "\n",
       "    .dataframe tbody tr th {\n",
       "        vertical-align: top;\n",
       "    }\n",
       "\n",
       "    .dataframe thead th {\n",
       "        text-align: right;\n",
       "    }\n",
       "</style>\n",
       "<table border=\"1\" class=\"dataframe\">\n",
       "  <thead>\n",
       "    <tr style=\"text-align: right;\">\n",
       "      <th></th>\n",
       "      <th>family_status_id</th>\n",
       "      <th>0</th>\n",
       "      <th>1</th>\n",
       "      <th>default rate</th>\n",
       "      <th>family_status</th>\n",
       "    </tr>\n",
       "  </thead>\n",
       "  <tbody>\n",
       "    <tr>\n",
       "      <th>0</th>\n",
       "      <td>0</td>\n",
       "      <td>11408</td>\n",
       "      <td>931</td>\n",
       "      <td>7.545182</td>\n",
       "      <td>женат / замужем</td>\n",
       "    </tr>\n",
       "    <tr>\n",
       "      <th>1</th>\n",
       "      <td>1</td>\n",
       "      <td>3761</td>\n",
       "      <td>388</td>\n",
       "      <td>9.351651</td>\n",
       "      <td>гражданский брак</td>\n",
       "    </tr>\n",
       "    <tr>\n",
       "      <th>2</th>\n",
       "      <td>2</td>\n",
       "      <td>896</td>\n",
       "      <td>63</td>\n",
       "      <td>6.569343</td>\n",
       "      <td>вдовец / вдова</td>\n",
       "    </tr>\n",
       "    <tr>\n",
       "      <th>3</th>\n",
       "      <td>3</td>\n",
       "      <td>1110</td>\n",
       "      <td>85</td>\n",
       "      <td>7.112971</td>\n",
       "      <td>в разводе</td>\n",
       "    </tr>\n",
       "    <tr>\n",
       "      <th>4</th>\n",
       "      <td>4</td>\n",
       "      <td>2536</td>\n",
       "      <td>274</td>\n",
       "      <td>9.750890</td>\n",
       "      <td>Не женат / не замужем</td>\n",
       "    </tr>\n",
       "  </tbody>\n",
       "</table>\n",
       "</div>"
      ],
      "text/plain": [
       "   family_status_id      0    1  default rate          family_status\n",
       "0                 0  11408  931      7.545182        женат / замужем\n",
       "1                 1   3761  388      9.351651       гражданский брак\n",
       "2                 2    896   63      6.569343         вдовец / вдова\n",
       "3                 3   1110   85      7.112971              в разводе\n",
       "4                 4   2536  274      9.750890  Не женат / не замужем"
      ]
     },
     "metadata": {},
     "output_type": "display_data"
    }
   ],
   "source": [
    "display(df_pivot_family_reset_index_merge) # выведим данные для просмотра"
   ]
  },
  {
   "cell_type": "markdown",
   "id": "5234f05c",
   "metadata": {},
   "source": [
    "Полученные данные:\n",
    "* Процент клиентов должников, состоящих в браке составляет 7,52%;\n",
    "* Процент клиентов должников, состоящих в разводе составляет 7,11%;\n",
    "* Процент клиентов должников, состоящих в гражданском браке составляет 9,29%;\n",
    "* Процент клиентов должников, не состоящих в браке составляет 9,74%;\n",
    "* Процент клиентов должников, имеющие семейный статус вдовец/вдова составляет 6,56%."
   ]
  },
  {
   "cell_type": "markdown",
   "id": "d9c67ba9",
   "metadata": {},
   "source": [
    "##### Вывод 2:"
   ]
  },
  {
   "cell_type": "markdown",
   "id": "c18f2563",
   "metadata": {},
   "source": [
    "Чаще всего возвращают кредиты в срок клиенты, имеющие статус вдовец/вдова, а также клиенты состоящие в браке и разводе. А клиенты не состоящие в браке или состоящие в гражданском браке реже возвращают в кредит в срок. "
   ]
  },
  {
   "cell_type": "markdown",
   "id": "10be061a",
   "metadata": {},
   "source": [
    "##### Вопрос 3:  Есть ли зависимость между уровнем дохода и возвратом кредита в срок?"
   ]
  },
  {
   "cell_type": "code",
   "execution_count": 63,
   "id": "96f5820e",
   "metadata": {},
   "outputs": [
    {
     "data": {
      "text/html": [
       "<div>\n",
       "<style scoped>\n",
       "    .dataframe tbody tr th:only-of-type {\n",
       "        vertical-align: middle;\n",
       "    }\n",
       "\n",
       "    .dataframe tbody tr th {\n",
       "        vertical-align: top;\n",
       "    }\n",
       "\n",
       "    .dataframe thead th {\n",
       "        text-align: right;\n",
       "    }\n",
       "</style>\n",
       "<table border=\"1\" class=\"dataframe\">\n",
       "  <thead>\n",
       "    <tr style=\"text-align: right;\">\n",
       "      <th>debt</th>\n",
       "      <th>total_income_category</th>\n",
       "      <th>0</th>\n",
       "      <th>1</th>\n",
       "      <th>default rate</th>\n",
       "    </tr>\n",
       "  </thead>\n",
       "  <tbody>\n",
       "    <tr>\n",
       "      <th>0</th>\n",
       "      <td>A</td>\n",
       "      <td>23</td>\n",
       "      <td>2</td>\n",
       "      <td>8.000000</td>\n",
       "    </tr>\n",
       "    <tr>\n",
       "      <th>1</th>\n",
       "      <td>B</td>\n",
       "      <td>4685</td>\n",
       "      <td>356</td>\n",
       "      <td>7.062091</td>\n",
       "    </tr>\n",
       "    <tr>\n",
       "      <th>2</th>\n",
       "      <td>C</td>\n",
       "      <td>14654</td>\n",
       "      <td>1360</td>\n",
       "      <td>8.492569</td>\n",
       "    </tr>\n",
       "    <tr>\n",
       "      <th>3</th>\n",
       "      <td>D</td>\n",
       "      <td>329</td>\n",
       "      <td>21</td>\n",
       "      <td>6.000000</td>\n",
       "    </tr>\n",
       "    <tr>\n",
       "      <th>4</th>\n",
       "      <td>E</td>\n",
       "      <td>20</td>\n",
       "      <td>2</td>\n",
       "      <td>9.090909</td>\n",
       "    </tr>\n",
       "  </tbody>\n",
       "</table>\n",
       "</div>"
      ],
      "text/plain": [
       "debt total_income_category      0     1  default rate\n",
       "0                        A     23     2      8.000000\n",
       "1                        B   4685   356      7.062091\n",
       "2                        C  14654  1360      8.492569\n",
       "3                        D    329    21      6.000000\n",
       "4                        E     20     2      9.090909"
      ]
     },
     "metadata": {},
     "output_type": "display_data"
    }
   ],
   "source": [
    "display(df_pivot_total_income_reset_index) # выведим данные для просмотра"
   ]
  },
  {
   "cell_type": "markdown",
   "id": "a2b8a227",
   "metadata": {},
   "source": [
    "Полученные данные:\n",
    "* Процент клиентов должников, имеющий доход от 30 000 до 50 000 составляет 6%;\n",
    "* Процент клиентов должников, имеющий доход от 200 000 до 1 000 000 составляет 7,06%;\n",
    "* Процент клиентов должников, имеющий доход от 1 000 000 и выше составляет 8%;\n",
    "* Процент клиентов должников, имеющий доход от 50 000 до 200 000 составляет 8,45%;\n",
    "* Процент клиентов должников, имеющий доход до 30 000 составляет 9,09%."
   ]
  },
  {
   "cell_type": "markdown",
   "id": "c334bae6",
   "metadata": {},
   "source": [
    "##### Вывод 3:"
   ]
  },
  {
   "cell_type": "markdown",
   "id": "a839ac61",
   "metadata": {},
   "source": [
    "Чаще всего возвращают кредиты в срок клиенты, имеющие доход от 30 000 до 50 000, реже всего клиенты, имеющие доход до 30 000."
   ]
  },
  {
   "cell_type": "markdown",
   "id": "ea409778",
   "metadata": {},
   "source": [
    "##### Вопрос 4: Как разные цели кредита влияют на его возврат в срок?"
   ]
  },
  {
   "cell_type": "code",
   "execution_count": 64,
   "id": "88aca008",
   "metadata": {},
   "outputs": [
    {
     "data": {
      "text/html": [
       "<div>\n",
       "<style scoped>\n",
       "    .dataframe tbody tr th:only-of-type {\n",
       "        vertical-align: middle;\n",
       "    }\n",
       "\n",
       "    .dataframe tbody tr th {\n",
       "        vertical-align: top;\n",
       "    }\n",
       "\n",
       "    .dataframe thead th {\n",
       "        text-align: right;\n",
       "    }\n",
       "</style>\n",
       "<table border=\"1\" class=\"dataframe\">\n",
       "  <thead>\n",
       "    <tr style=\"text-align: right;\">\n",
       "      <th>debt</th>\n",
       "      <th>purpose_category</th>\n",
       "      <th>0</th>\n",
       "      <th>1</th>\n",
       "      <th>default rate</th>\n",
       "    </tr>\n",
       "  </thead>\n",
       "  <tbody>\n",
       "    <tr>\n",
       "      <th>0</th>\n",
       "      <td>операции с автомобилем</td>\n",
       "      <td>3903</td>\n",
       "      <td>403</td>\n",
       "      <td>9.359034</td>\n",
       "    </tr>\n",
       "    <tr>\n",
       "      <th>1</th>\n",
       "      <td>операции с недвижимостью</td>\n",
       "      <td>10028</td>\n",
       "      <td>782</td>\n",
       "      <td>7.234043</td>\n",
       "    </tr>\n",
       "    <tr>\n",
       "      <th>2</th>\n",
       "      <td>получение образования</td>\n",
       "      <td>3643</td>\n",
       "      <td>370</td>\n",
       "      <td>9.220035</td>\n",
       "    </tr>\n",
       "    <tr>\n",
       "      <th>3</th>\n",
       "      <td>проведение свадьбы</td>\n",
       "      <td>2137</td>\n",
       "      <td>186</td>\n",
       "      <td>8.006888</td>\n",
       "    </tr>\n",
       "  </tbody>\n",
       "</table>\n",
       "</div>"
      ],
      "text/plain": [
       "debt          purpose_category      0    1  default rate\n",
       "0       операции с автомобилем   3903  403      9.359034\n",
       "1     операции с недвижимостью  10028  782      7.234043\n",
       "2        получение образования   3643  370      9.220035\n",
       "3           проведение свадьбы   2137  186      8.006888"
      ]
     },
     "metadata": {},
     "output_type": "display_data"
    }
   ],
   "source": [
    "display(df_pivot_purpose_reset_index) # выведим данные для просмотра"
   ]
  },
  {
   "cell_type": "markdown",
   "id": "4d25393e",
   "metadata": {},
   "source": [
    "Полученные данные:\n",
    "* Процент клиентов должников, взявшие кредит на операции с недвижимостью составляет 7,21%;\n",
    "* Процент клиентов должников, взявшие кредит на проведение свадьбы составляет 7,92%;\n",
    "* Процент клиентов должников, взявшие кредит на операции с автомобилями составляет 9,34%;\n",
    "* Процент клиентов должников, взявшие кредит на получение образования составляет 9,20%."
   ]
  },
  {
   "cell_type": "markdown",
   "id": "f56a1695",
   "metadata": {},
   "source": [
    "##### Вывод 4:"
   ]
  },
  {
   "cell_type": "markdown",
   "id": "c0122e84",
   "metadata": {},
   "source": [
    "Чаще всего возвращают кредиты в срок клиенты, взявшие кредиты на операции с недвижимостью и на проведение свадьбы, реже всего клиенты, взявшие кредит на операции с автомобилями и получение образования."
   ]
  },
  {
   "cell_type": "markdown",
   "id": "9028876c",
   "metadata": {},
   "source": [
    "<div class=\"alert alert-block alert-danger\">\n",
    "<b>Комментарий ревьюера❌:</b> Прошу поправить оформление на этом шаге. Перед ответом на каждый вопрос пожалуйста добавь вывод сводной таблицы, которые мы строили ранее"
   ]
  },
  {
   "cell_type": "markdown",
   "id": "9f0b3f3a",
   "metadata": {},
   "source": [
    "<div class=\"alert alert-block alert-success\">\n",
    "<b>Комментарий ревьюера✅:</b> С ответами согласен"
   ]
  },
  {
   "cell_type": "markdown",
   "id": "9f10e43f",
   "metadata": {},
   "source": [
    "<div class=\"alert alert-block alert-info\">\n",
    "<b>Комментарий студента:</b> \n",
    "Добавила таблицы к каждому выводу\n",
    "</div>"
   ]
  },
  {
   "cell_type": "markdown",
   "id": "f89295e8",
   "metadata": {},
   "source": [
    "<div class=\"alert alert-block alert-success\">\n",
    "<b>Комментарий ревьюера_v2✅:</b> 👍 </div>"
   ]
  },
  {
   "cell_type": "markdown",
   "id": "53375e5f",
   "metadata": {},
   "source": [
    "## Общий вывод:"
   ]
  },
  {
   "cell_type": "markdown",
   "id": "e0a2f680",
   "metadata": {},
   "source": [
    "Мы искали закономерности и установили:\n",
    "\n",
    "1.  Есть ли зависимость между количеством детей и возвратом кредита в срок?\n",
    "\n",
    "Клиенты у которых нет детей возвращают кредит в срок чаще, чем клиенты у которых есть дети.\n",
    "\n",
    "2.  Есть ли зависимость между семейным положением и возвратом кредита в срок?\n",
    "\n",
    "Чаще всего возвращают кредиты в срок клиенты, имеющие статус вдовец/вдова, а также клиенты состоящие в браке и разводе. А клиенты не состоящие в браке или состоящие в гражданском браке реже возвращают в кредит в срок. \n",
    "\n",
    "3. Есть ли зависимость между уровнем дохода и возвратом кредита в срок?\n",
    "\n",
    "Чаще всего возвращают кредиты в срок клиенты, имеющие доход от 30 000 до 50 000, реже всего клиенты, имеющие доход до 30 000.\n",
    "\n",
    "4. Как разные цели кредита влияют на его возврат в срок?\n",
    "\n",
    "Чаще всего возвращают кредиты в срок клиенты, взявшие кредиты на операции с недвижимостью и на проведение свадьбы, реже всего клиенты, взявшие кредит на операции с автомобилями и получение образования.\n",
    "\n",
    "В результате исследования были обнаружены закономерности, которые можно учесть при построении модели кредитного скоринга, которая оценит способность потенциального заёмщика вернуть кредит банку."
   ]
  },
  {
   "cell_type": "markdown",
   "id": "33b9238f",
   "metadata": {},
   "source": [
    "<div class=\"alert alert-block alert-danger\">\n",
    "<b>Комментарий ревьюера❌:</b> В конце проекта принято кратко описывать все проделанные шаги и полученные результаты. Зачем это нужно - когда проект захочет посмотреть будущий работодатель, у него может не быть времени на подробный разбор кода. Вероятнее всего он бегло просмотрит код, но захочет изучить результат, который будет в общем выводе. Поэтому все же советую дополнить общий вывод)\n",
    "</div>"
   ]
  },
  {
   "cell_type": "markdown",
   "id": "858b736e",
   "metadata": {},
   "source": [
    "<div class=\"alert alert-block alert-success\">\n",
    "<b>Комментарий ревьюера_v2✅:</b> Отличный вывод, теперь работа логчески завершена и мы можем понять суть исследования🔥 </div>"
   ]
  },
  {
   "cell_type": "markdown",
   "id": "7505ee6d",
   "metadata": {},
   "source": [
    "<div class=\"alert alert-block alert-success\">\n",
    "<b>Комментарий ревьюера✅:</b>Мне очень понравилась твоя работа. Все рассуждения верные, очень логичные и осмысленные. Ничего лишнего, всё по полкам. Ты подробно разбираешься в деталях, для будущего аналитика это очень важная черта😊\n",
    "\n",
    "Проект еще нужно немного доработать, а именно:\n",
    "    \n",
    "- исправить блок удаления дубликатов\n",
    "    \n",
    "- исправить блок формирования таблиц-словарей\n",
    "    \n",
    "- исправить блок ответов на вопросы\n",
    "    \n",
    "- исправить общий вывод\n",
    "    \n",
    "Остальные замечания оставляю на твое усмотрение😉\n",
    "\n",
    "Жду твою работу на повторное ревью.\n",
    "    \n",
    "[Тут есть полезные приемы Markdown](https://paulradzkov.com/2014/markdown_cheatsheet/)\n",
    "\n",
    "</div>"
   ]
  },
  {
   "cell_type": "markdown",
   "id": "a0d2e01e",
   "metadata": {},
   "source": [
    "<div class=\"alert alert-block alert-info\">\n",
    "<b>Комментарий студента:</b> \n",
    "Николай, спасибо, что помогаешь делать проект лучше!\n",
    "Исправила общий вывод.\n",
    "Помоги, пожалуйста, разобраться в дубликатах и я доделаю проект.    \n",
    "</div>"
   ]
  },
  {
   "cell_type": "markdown",
   "id": "820f4d59",
   "metadata": {},
   "source": [
    "<div class=\"alert alert-block alert-success\">\n",
    "<b>Комментарий ревьюера_v2✅:</b>\n",
    "Ты отлично справилась с доработками, осталось поправить дубликаты и таблицы словари)\n",
    "    \n",
    "С остальным все хорошо🔥\n",
    "    \n",
    "Жду твою работу на повторное ревью.\n",
    "</div>"
   ]
  },
  {
   "cell_type": "markdown",
   "id": "7f8d618a",
   "metadata": {},
   "source": [
    "<div class=\"alert alert-block alert-success\">\n",
    "<b>Комментарий ревьюера_v3✅:</b> Отличная работа, проект принимаю. Могу с уверенностью сказать - ты хорошо владеешь пройденным материалом. Мне понравилась твоя реакция на обратную связь, комментарии даже к желтым замечаниям. Желаю удачи в дальнейшей учебе🔥 </div>"
   ]
  }
 ],
 "metadata": {
  "ExecuteTimeLog": [
   {
    "duration": 86,
    "start_time": "2022-05-18T10:39:17.903Z"
   },
   {
    "duration": 8,
    "start_time": "2022-05-18T10:39:45.268Z"
   },
   {
    "duration": 510,
    "start_time": "2022-05-18T10:40:58.745Z"
   },
   {
    "duration": 286,
    "start_time": "2022-05-18T10:41:00.395Z"
   },
   {
    "duration": 19,
    "start_time": "2022-05-18T10:43:52.428Z"
   },
   {
    "duration": 15,
    "start_time": "2022-05-18T10:44:56.925Z"
   },
   {
    "duration": 419,
    "start_time": "2022-05-18T10:47:41.389Z"
   },
   {
    "duration": 68,
    "start_time": "2022-05-18T10:47:41.810Z"
   },
   {
    "duration": 18,
    "start_time": "2022-05-18T10:47:41.880Z"
   },
   {
    "duration": 15,
    "start_time": "2022-05-18T10:47:41.900Z"
   },
   {
    "duration": 12,
    "start_time": "2022-05-18T10:48:05.444Z"
   },
   {
    "duration": 12,
    "start_time": "2022-05-18T10:48:55.592Z"
   },
   {
    "duration": 6,
    "start_time": "2022-05-18T10:49:54.089Z"
   },
   {
    "duration": 5,
    "start_time": "2022-05-18T10:50:08.066Z"
   },
   {
    "duration": 13,
    "start_time": "2022-05-18T10:52:04.013Z"
   },
   {
    "duration": 5,
    "start_time": "2022-05-18T10:52:25.762Z"
   },
   {
    "duration": 6,
    "start_time": "2022-05-18T10:53:17.699Z"
   },
   {
    "duration": 34,
    "start_time": "2022-05-18T10:53:35.513Z"
   },
   {
    "duration": 8,
    "start_time": "2022-05-18T10:53:57.303Z"
   },
   {
    "duration": 6,
    "start_time": "2022-05-18T10:54:37.555Z"
   },
   {
    "duration": 10,
    "start_time": "2022-05-18T10:55:13.674Z"
   },
   {
    "duration": 7,
    "start_time": "2022-05-18T10:58:21.885Z"
   },
   {
    "duration": 11,
    "start_time": "2022-05-18T10:58:51.018Z"
   },
   {
    "duration": 8,
    "start_time": "2022-05-18T10:59:07.657Z"
   },
   {
    "duration": 7,
    "start_time": "2022-05-18T10:59:43.297Z"
   },
   {
    "duration": 8,
    "start_time": "2022-05-18T11:00:15.480Z"
   },
   {
    "duration": 7,
    "start_time": "2022-05-18T11:00:53.525Z"
   },
   {
    "duration": 5,
    "start_time": "2022-05-18T11:02:21.686Z"
   },
   {
    "duration": 9,
    "start_time": "2022-05-18T11:02:53.264Z"
   },
   {
    "duration": 5,
    "start_time": "2022-05-18T11:03:25.581Z"
   },
   {
    "duration": 3,
    "start_time": "2022-05-18T11:03:58.440Z"
   },
   {
    "duration": 10,
    "start_time": "2022-05-18T11:04:14.713Z"
   },
   {
    "duration": 6,
    "start_time": "2022-05-18T11:05:10.428Z"
   },
   {
    "duration": 5,
    "start_time": "2022-05-18T11:05:38.452Z"
   },
   {
    "duration": 7,
    "start_time": "2022-05-18T11:06:09.325Z"
   },
   {
    "duration": 12,
    "start_time": "2022-05-18T11:06:38.549Z"
   },
   {
    "duration": 5,
    "start_time": "2022-05-18T11:07:07.919Z"
   },
   {
    "duration": 8,
    "start_time": "2022-05-18T11:14:52.018Z"
   },
   {
    "duration": 7,
    "start_time": "2022-05-18T11:15:23.881Z"
   },
   {
    "duration": 13,
    "start_time": "2022-05-18T11:15:54.557Z"
   },
   {
    "duration": 22,
    "start_time": "2022-05-18T11:20:02.179Z"
   },
   {
    "duration": 8,
    "start_time": "2022-05-18T11:20:33.282Z"
   },
   {
    "duration": 4,
    "start_time": "2022-05-18T11:21:09.580Z"
   },
   {
    "duration": 10,
    "start_time": "2022-05-18T11:21:46.843Z"
   },
   {
    "duration": 13,
    "start_time": "2022-05-18T11:23:16.283Z"
   },
   {
    "duration": 8,
    "start_time": "2022-05-18T11:23:50.644Z"
   },
   {
    "duration": 9,
    "start_time": "2022-05-18T11:24:23.154Z"
   },
   {
    "duration": 5,
    "start_time": "2022-05-18T11:24:56.211Z"
   },
   {
    "duration": 7,
    "start_time": "2022-05-18T11:25:38.634Z"
   },
   {
    "duration": 9,
    "start_time": "2022-05-18T11:25:55.198Z"
   },
   {
    "duration": 3,
    "start_time": "2022-05-18T11:26:30.013Z"
   },
   {
    "duration": 19,
    "start_time": "2022-05-18T11:27:06.405Z"
   },
   {
    "duration": 19,
    "start_time": "2022-05-18T11:27:37.262Z"
   },
   {
    "duration": 8,
    "start_time": "2022-05-18T11:28:07.469Z"
   },
   {
    "duration": 11,
    "start_time": "2022-05-18T11:28:44.708Z"
   },
   {
    "duration": 3,
    "start_time": "2022-05-18T11:29:36.944Z"
   },
   {
    "duration": 19,
    "start_time": "2022-05-18T11:30:06.320Z"
   },
   {
    "duration": 19,
    "start_time": "2022-05-18T11:30:42.356Z"
   },
   {
    "duration": 8,
    "start_time": "2022-05-18T11:31:27.625Z"
   },
   {
    "duration": 8,
    "start_time": "2022-05-18T11:32:00.861Z"
   },
   {
    "duration": 461,
    "start_time": "2022-05-18T11:46:26.864Z"
   },
   {
    "duration": 84,
    "start_time": "2022-05-18T11:46:27.327Z"
   },
   {
    "duration": 25,
    "start_time": "2022-05-18T11:46:27.413Z"
   },
   {
    "duration": 21,
    "start_time": "2022-05-18T11:46:27.441Z"
   },
   {
    "duration": 44,
    "start_time": "2022-05-18T11:46:27.464Z"
   },
   {
    "duration": 36,
    "start_time": "2022-05-18T11:46:27.510Z"
   },
   {
    "duration": 5,
    "start_time": "2022-05-18T11:46:27.548Z"
   },
   {
    "duration": 31,
    "start_time": "2022-05-18T11:46:27.554Z"
   },
   {
    "duration": 5,
    "start_time": "2022-05-18T11:46:27.586Z"
   },
   {
    "duration": 26,
    "start_time": "2022-05-18T11:46:27.593Z"
   },
   {
    "duration": 8,
    "start_time": "2022-05-18T11:46:27.620Z"
   },
   {
    "duration": 15,
    "start_time": "2022-05-18T11:46:27.630Z"
   },
   {
    "duration": 19,
    "start_time": "2022-05-18T11:46:27.646Z"
   },
   {
    "duration": 5,
    "start_time": "2022-05-18T11:46:27.666Z"
   },
   {
    "duration": 42,
    "start_time": "2022-05-18T11:46:27.672Z"
   },
   {
    "duration": 31,
    "start_time": "2022-05-18T11:46:27.716Z"
   },
   {
    "duration": 15,
    "start_time": "2022-05-18T11:46:27.749Z"
   },
   {
    "duration": 19,
    "start_time": "2022-05-18T11:46:27.766Z"
   },
   {
    "duration": 14,
    "start_time": "2022-05-18T11:46:27.786Z"
   },
   {
    "duration": 25,
    "start_time": "2022-05-18T11:46:27.802Z"
   },
   {
    "duration": 22,
    "start_time": "2022-05-18T11:46:27.829Z"
   },
   {
    "duration": 15,
    "start_time": "2022-05-18T11:46:27.853Z"
   },
   {
    "duration": 31,
    "start_time": "2022-05-18T11:46:27.869Z"
   },
   {
    "duration": 14,
    "start_time": "2022-05-18T11:46:27.901Z"
   },
   {
    "duration": 24,
    "start_time": "2022-05-18T11:46:27.916Z"
   },
   {
    "duration": 14,
    "start_time": "2022-05-18T11:46:27.942Z"
   },
   {
    "duration": 25,
    "start_time": "2022-05-18T11:46:27.958Z"
   },
   {
    "duration": 15,
    "start_time": "2022-05-18T11:46:27.986Z"
   },
   {
    "duration": 14,
    "start_time": "2022-05-18T11:46:28.003Z"
   },
   {
    "duration": 26,
    "start_time": "2022-05-18T11:46:28.019Z"
   },
   {
    "duration": 14,
    "start_time": "2022-05-18T11:46:28.047Z"
   },
   {
    "duration": 33,
    "start_time": "2022-05-18T11:46:28.063Z"
   },
   {
    "duration": 22,
    "start_time": "2022-05-18T11:46:28.097Z"
   },
   {
    "duration": 16,
    "start_time": "2022-05-18T11:46:28.121Z"
   },
   {
    "duration": 17,
    "start_time": "2022-05-18T11:46:28.138Z"
   },
   {
    "duration": 24,
    "start_time": "2022-05-18T11:46:28.157Z"
   },
   {
    "duration": 35,
    "start_time": "2022-05-18T11:46:28.182Z"
   },
   {
    "duration": 17,
    "start_time": "2022-05-18T11:46:28.219Z"
   },
   {
    "duration": 22,
    "start_time": "2022-05-18T11:46:28.238Z"
   },
   {
    "duration": 38,
    "start_time": "2022-05-18T11:46:28.262Z"
   },
   {
    "duration": 26,
    "start_time": "2022-05-18T11:46:28.302Z"
   },
   {
    "duration": 32,
    "start_time": "2022-05-18T11:46:28.329Z"
   },
   {
    "duration": 9,
    "start_time": "2022-05-18T11:46:28.363Z"
   },
   {
    "duration": 39,
    "start_time": "2022-05-18T11:46:28.374Z"
   },
   {
    "duration": 32,
    "start_time": "2022-05-18T11:46:28.414Z"
   },
   {
    "duration": 8,
    "start_time": "2022-05-18T11:46:28.448Z"
   },
   {
    "duration": 30,
    "start_time": "2022-05-18T11:46:28.457Z"
   },
   {
    "duration": 5,
    "start_time": "2022-05-18T11:46:28.489Z"
   },
   {
    "duration": 39,
    "start_time": "2022-05-18T11:46:28.496Z"
   },
   {
    "duration": 25,
    "start_time": "2022-05-18T11:46:28.537Z"
   },
   {
    "duration": 10,
    "start_time": "2022-05-18T11:46:28.564Z"
   },
   {
    "duration": 17,
    "start_time": "2022-05-18T11:46:28.575Z"
   },
   {
    "duration": 428,
    "start_time": "2022-05-18T12:03:48.207Z"
   },
   {
    "duration": 70,
    "start_time": "2022-05-18T12:03:48.637Z"
   },
   {
    "duration": 19,
    "start_time": "2022-05-18T12:03:48.709Z"
   },
   {
    "duration": 16,
    "start_time": "2022-05-18T12:03:48.730Z"
   },
   {
    "duration": 10,
    "start_time": "2022-05-18T12:03:48.748Z"
   },
   {
    "duration": 41,
    "start_time": "2022-05-18T12:03:48.760Z"
   },
   {
    "duration": 5,
    "start_time": "2022-05-18T12:03:48.802Z"
   },
   {
    "duration": 15,
    "start_time": "2022-05-18T12:03:48.809Z"
   },
   {
    "duration": 9,
    "start_time": "2022-05-18T12:03:48.826Z"
   },
   {
    "duration": 6,
    "start_time": "2022-05-18T12:03:48.838Z"
   },
   {
    "duration": 7,
    "start_time": "2022-05-18T12:03:48.845Z"
   },
   {
    "duration": 7,
    "start_time": "2022-05-18T12:03:48.854Z"
   },
   {
    "duration": 38,
    "start_time": "2022-05-18T12:03:48.863Z"
   },
   {
    "duration": 6,
    "start_time": "2022-05-18T12:03:48.902Z"
   },
   {
    "duration": 4,
    "start_time": "2022-05-18T12:03:48.909Z"
   },
   {
    "duration": 10,
    "start_time": "2022-05-18T12:03:48.915Z"
   },
   {
    "duration": 6,
    "start_time": "2022-05-18T12:03:48.927Z"
   },
   {
    "duration": 10,
    "start_time": "2022-05-18T12:03:48.934Z"
   },
   {
    "duration": 11,
    "start_time": "2022-05-18T12:03:48.946Z"
   },
   {
    "duration": 43,
    "start_time": "2022-05-18T12:03:48.959Z"
   },
   {
    "duration": 5,
    "start_time": "2022-05-18T12:03:49.004Z"
   },
   {
    "duration": 8,
    "start_time": "2022-05-18T12:03:49.010Z"
   },
   {
    "duration": 10,
    "start_time": "2022-05-18T12:03:49.020Z"
   },
   {
    "duration": 8,
    "start_time": "2022-05-18T12:03:49.031Z"
   },
   {
    "duration": 12,
    "start_time": "2022-05-18T12:03:49.041Z"
   },
   {
    "duration": 41,
    "start_time": "2022-05-18T12:03:49.055Z"
   },
   {
    "duration": 8,
    "start_time": "2022-05-18T12:03:49.097Z"
   },
   {
    "duration": 7,
    "start_time": "2022-05-18T12:03:49.108Z"
   },
   {
    "duration": 18,
    "start_time": "2022-05-18T12:03:49.116Z"
   },
   {
    "duration": 18,
    "start_time": "2022-05-18T12:03:49.136Z"
   },
   {
    "duration": 18,
    "start_time": "2022-05-18T12:03:49.156Z"
   },
   {
    "duration": 53,
    "start_time": "2022-05-18T12:03:49.176Z"
   },
   {
    "duration": 37,
    "start_time": "2022-05-18T12:03:49.232Z"
   },
   {
    "duration": 11,
    "start_time": "2022-05-18T12:03:49.270Z"
   },
   {
    "duration": 19,
    "start_time": "2022-05-18T12:03:49.282Z"
   },
   {
    "duration": 31,
    "start_time": "2022-05-18T12:03:49.302Z"
   },
   {
    "duration": 22,
    "start_time": "2022-05-18T12:03:49.334Z"
   },
   {
    "duration": 13,
    "start_time": "2022-05-18T12:03:49.358Z"
   },
   {
    "duration": 27,
    "start_time": "2022-05-18T12:03:49.373Z"
   },
   {
    "duration": 36,
    "start_time": "2022-05-18T12:03:49.402Z"
   },
   {
    "duration": 18,
    "start_time": "2022-05-18T12:03:49.440Z"
   },
   {
    "duration": 29,
    "start_time": "2022-05-18T12:03:49.460Z"
   },
   {
    "duration": 30,
    "start_time": "2022-05-18T12:03:49.490Z"
   },
   {
    "duration": 61,
    "start_time": "2022-05-18T12:03:49.521Z"
   },
   {
    "duration": 48,
    "start_time": "2022-05-18T12:03:49.585Z"
   },
   {
    "duration": 13,
    "start_time": "2022-05-18T12:03:49.635Z"
   },
   {
    "duration": 44,
    "start_time": "2022-05-18T12:03:49.650Z"
   },
   {
    "duration": 27,
    "start_time": "2022-05-18T12:03:49.696Z"
   },
   {
    "duration": 36,
    "start_time": "2022-05-18T12:03:49.725Z"
   },
   {
    "duration": 61,
    "start_time": "2022-05-18T12:03:49.763Z"
   },
   {
    "duration": 16,
    "start_time": "2022-05-18T12:03:49.825Z"
   },
   {
    "duration": 24,
    "start_time": "2022-05-18T12:03:49.842Z"
   },
   {
    "duration": 479,
    "start_time": "2022-05-19T07:06:38.691Z"
   },
   {
    "duration": 74,
    "start_time": "2022-05-19T07:06:39.172Z"
   },
   {
    "duration": 19,
    "start_time": "2022-05-19T07:06:39.248Z"
   },
   {
    "duration": 19,
    "start_time": "2022-05-19T07:06:39.270Z"
   },
   {
    "duration": 13,
    "start_time": "2022-05-19T07:06:39.291Z"
   },
   {
    "duration": 29,
    "start_time": "2022-05-19T07:06:39.307Z"
   },
   {
    "duration": 12,
    "start_time": "2022-05-19T07:06:39.338Z"
   },
   {
    "duration": 35,
    "start_time": "2022-05-19T07:06:39.352Z"
   },
   {
    "duration": 15,
    "start_time": "2022-05-19T07:06:39.391Z"
   },
   {
    "duration": 7,
    "start_time": "2022-05-19T07:06:39.411Z"
   },
   {
    "duration": 9,
    "start_time": "2022-05-19T07:06:39.421Z"
   },
   {
    "duration": 6,
    "start_time": "2022-05-19T07:06:39.432Z"
   },
   {
    "duration": 45,
    "start_time": "2022-05-19T07:06:39.439Z"
   },
   {
    "duration": 8,
    "start_time": "2022-05-19T07:06:39.486Z"
   },
   {
    "duration": 4,
    "start_time": "2022-05-19T07:06:39.497Z"
   },
   {
    "duration": 12,
    "start_time": "2022-05-19T07:06:39.503Z"
   },
   {
    "duration": 6,
    "start_time": "2022-05-19T07:06:39.517Z"
   },
   {
    "duration": 8,
    "start_time": "2022-05-19T07:06:39.526Z"
   },
   {
    "duration": 7,
    "start_time": "2022-05-19T07:06:39.535Z"
   },
   {
    "duration": 48,
    "start_time": "2022-05-19T07:06:39.543Z"
   },
   {
    "duration": 6,
    "start_time": "2022-05-19T07:06:39.595Z"
   },
   {
    "duration": 10,
    "start_time": "2022-05-19T07:06:39.602Z"
   },
   {
    "duration": 19,
    "start_time": "2022-05-19T07:06:39.615Z"
   },
   {
    "duration": 9,
    "start_time": "2022-05-19T07:06:39.636Z"
   },
   {
    "duration": 53,
    "start_time": "2022-05-19T07:06:39.647Z"
   },
   {
    "duration": 42,
    "start_time": "2022-05-19T07:06:39.702Z"
   },
   {
    "duration": 10,
    "start_time": "2022-05-19T07:06:39.745Z"
   },
   {
    "duration": 9,
    "start_time": "2022-05-19T07:06:39.759Z"
   },
   {
    "duration": 16,
    "start_time": "2022-05-19T07:06:39.769Z"
   },
   {
    "duration": 22,
    "start_time": "2022-05-19T07:06:39.787Z"
   },
   {
    "duration": 14,
    "start_time": "2022-05-19T07:06:39.811Z"
   },
   {
    "duration": 33,
    "start_time": "2022-05-19T07:06:39.827Z"
   },
   {
    "duration": 38,
    "start_time": "2022-05-19T07:06:39.863Z"
   },
   {
    "duration": 13,
    "start_time": "2022-05-19T07:06:39.903Z"
   },
   {
    "duration": 6,
    "start_time": "2022-05-19T07:06:39.918Z"
   },
   {
    "duration": 14,
    "start_time": "2022-05-19T07:06:39.926Z"
   },
   {
    "duration": 44,
    "start_time": "2022-05-19T07:06:39.941Z"
   },
   {
    "duration": 11,
    "start_time": "2022-05-19T07:06:39.987Z"
   },
   {
    "duration": 25,
    "start_time": "2022-05-19T07:06:40.003Z"
   },
   {
    "duration": 9,
    "start_time": "2022-05-19T07:06:40.031Z"
   },
   {
    "duration": 8,
    "start_time": "2022-05-19T07:06:40.042Z"
   },
   {
    "duration": 13,
    "start_time": "2022-05-19T07:06:40.051Z"
   },
   {
    "duration": 23,
    "start_time": "2022-05-19T07:06:40.065Z"
   },
   {
    "duration": 35,
    "start_time": "2022-05-19T07:06:40.090Z"
   },
   {
    "duration": 31,
    "start_time": "2022-05-19T07:06:40.127Z"
   },
   {
    "duration": 25,
    "start_time": "2022-05-19T07:06:40.160Z"
   },
   {
    "duration": 19,
    "start_time": "2022-05-19T07:06:40.188Z"
   },
   {
    "duration": 10,
    "start_time": "2022-05-19T07:06:40.209Z"
   },
   {
    "duration": 31,
    "start_time": "2022-05-19T07:06:40.222Z"
   },
   {
    "duration": 44,
    "start_time": "2022-05-19T07:06:40.255Z"
   },
   {
    "duration": 10,
    "start_time": "2022-05-19T07:06:40.301Z"
   },
   {
    "duration": 20,
    "start_time": "2022-05-19T07:06:40.313Z"
   },
   {
    "duration": 23,
    "start_time": "2022-05-19T07:08:59.707Z"
   },
   {
    "duration": 409,
    "start_time": "2022-05-19T07:11:52.546Z"
   },
   {
    "duration": 81,
    "start_time": "2022-05-19T07:11:52.957Z"
   },
   {
    "duration": 19,
    "start_time": "2022-05-19T07:11:53.039Z"
   },
   {
    "duration": 40,
    "start_time": "2022-05-19T07:11:53.060Z"
   },
   {
    "duration": 14,
    "start_time": "2022-05-19T07:11:53.102Z"
   },
   {
    "duration": 19,
    "start_time": "2022-05-19T07:11:53.117Z"
   },
   {
    "duration": 6,
    "start_time": "2022-05-19T07:11:53.138Z"
   },
   {
    "duration": 42,
    "start_time": "2022-05-19T07:11:53.146Z"
   },
   {
    "duration": 15,
    "start_time": "2022-05-19T07:11:53.190Z"
   },
   {
    "duration": 7,
    "start_time": "2022-05-19T07:11:53.208Z"
   },
   {
    "duration": 7,
    "start_time": "2022-05-19T07:11:53.216Z"
   },
   {
    "duration": 5,
    "start_time": "2022-05-19T07:11:53.225Z"
   },
   {
    "duration": 10,
    "start_time": "2022-05-19T07:11:53.232Z"
   },
   {
    "duration": 6,
    "start_time": "2022-05-19T07:11:53.243Z"
   },
   {
    "duration": 10,
    "start_time": "2022-05-19T07:11:53.283Z"
   },
   {
    "duration": 16,
    "start_time": "2022-05-19T07:11:53.295Z"
   },
   {
    "duration": 6,
    "start_time": "2022-05-19T07:11:53.312Z"
   },
   {
    "duration": 13,
    "start_time": "2022-05-19T07:11:53.319Z"
   },
   {
    "duration": 6,
    "start_time": "2022-05-19T07:11:53.334Z"
   },
   {
    "duration": 12,
    "start_time": "2022-05-19T07:11:53.342Z"
   },
   {
    "duration": 5,
    "start_time": "2022-05-19T07:11:53.356Z"
   },
   {
    "duration": 8,
    "start_time": "2022-05-19T07:11:53.383Z"
   },
   {
    "duration": 14,
    "start_time": "2022-05-19T07:11:53.393Z"
   },
   {
    "duration": 12,
    "start_time": "2022-05-19T07:11:53.408Z"
   },
   {
    "duration": 12,
    "start_time": "2022-05-19T07:11:53.421Z"
   },
   {
    "duration": 8,
    "start_time": "2022-05-19T07:11:53.434Z"
   },
   {
    "duration": 9,
    "start_time": "2022-05-19T07:11:53.444Z"
   },
   {
    "duration": 13,
    "start_time": "2022-05-19T07:11:53.489Z"
   },
   {
    "duration": 15,
    "start_time": "2022-05-19T07:11:53.505Z"
   },
   {
    "duration": 21,
    "start_time": "2022-05-19T07:11:53.521Z"
   },
   {
    "duration": 8,
    "start_time": "2022-05-19T07:11:53.543Z"
   },
   {
    "duration": 9,
    "start_time": "2022-05-19T07:11:53.553Z"
   },
   {
    "duration": 31,
    "start_time": "2022-05-19T07:11:53.586Z"
   },
   {
    "duration": 21,
    "start_time": "2022-05-19T07:11:53.619Z"
   },
   {
    "duration": 8,
    "start_time": "2022-05-19T07:11:53.642Z"
   },
   {
    "duration": 8,
    "start_time": "2022-05-19T07:11:53.652Z"
   },
   {
    "duration": 21,
    "start_time": "2022-05-19T07:11:53.662Z"
   },
   {
    "duration": 25,
    "start_time": "2022-05-19T07:11:53.694Z"
   },
   {
    "duration": 26,
    "start_time": "2022-05-19T07:11:53.721Z"
   },
   {
    "duration": 33,
    "start_time": "2022-05-19T07:11:53.748Z"
   },
   {
    "duration": 9,
    "start_time": "2022-05-19T07:11:53.792Z"
   },
   {
    "duration": 8,
    "start_time": "2022-05-19T07:11:53.803Z"
   },
   {
    "duration": 11,
    "start_time": "2022-05-19T07:11:53.813Z"
   },
   {
    "duration": 8,
    "start_time": "2022-05-19T07:11:53.825Z"
   },
   {
    "duration": 23,
    "start_time": "2022-05-19T07:11:53.834Z"
   },
   {
    "duration": 36,
    "start_time": "2022-05-19T07:11:53.859Z"
   },
   {
    "duration": 9,
    "start_time": "2022-05-19T07:11:53.897Z"
   },
   {
    "duration": 12,
    "start_time": "2022-05-19T07:11:53.908Z"
   },
   {
    "duration": 7,
    "start_time": "2022-05-19T07:11:53.922Z"
   },
   {
    "duration": 32,
    "start_time": "2022-05-19T07:11:53.931Z"
   },
   {
    "duration": 37,
    "start_time": "2022-05-19T07:11:53.965Z"
   },
   {
    "duration": 7,
    "start_time": "2022-05-19T07:11:54.004Z"
   },
   {
    "duration": 15,
    "start_time": "2022-05-19T07:11:54.012Z"
   },
   {
    "duration": 63,
    "start_time": "2022-05-20T08:46:04.499Z"
   },
   {
    "duration": 448,
    "start_time": "2022-05-20T08:46:17.315Z"
   },
   {
    "duration": 119,
    "start_time": "2022-05-20T08:46:17.765Z"
   },
   {
    "duration": 21,
    "start_time": "2022-05-20T08:46:17.885Z"
   },
   {
    "duration": 20,
    "start_time": "2022-05-20T08:46:17.908Z"
   },
   {
    "duration": 32,
    "start_time": "2022-05-20T08:46:17.931Z"
   },
   {
    "duration": 28,
    "start_time": "2022-05-20T08:46:17.965Z"
   },
   {
    "duration": 32,
    "start_time": "2022-05-20T08:46:17.996Z"
   },
   {
    "duration": 22,
    "start_time": "2022-05-20T08:46:18.030Z"
   },
   {
    "duration": 6,
    "start_time": "2022-05-20T08:46:18.055Z"
   },
   {
    "duration": 117,
    "start_time": "2022-05-20T08:46:18.065Z"
   },
   {
    "duration": 0,
    "start_time": "2022-05-20T08:46:18.184Z"
   },
   {
    "duration": 0,
    "start_time": "2022-05-20T08:46:18.185Z"
   },
   {
    "duration": 0,
    "start_time": "2022-05-20T08:46:18.187Z"
   },
   {
    "duration": 0,
    "start_time": "2022-05-20T08:46:18.194Z"
   },
   {
    "duration": 0,
    "start_time": "2022-05-20T08:46:18.195Z"
   },
   {
    "duration": 0,
    "start_time": "2022-05-20T08:46:18.197Z"
   },
   {
    "duration": 0,
    "start_time": "2022-05-20T08:46:18.198Z"
   },
   {
    "duration": 0,
    "start_time": "2022-05-20T08:46:18.199Z"
   },
   {
    "duration": 0,
    "start_time": "2022-05-20T08:46:18.223Z"
   },
   {
    "duration": 0,
    "start_time": "2022-05-20T08:46:18.224Z"
   },
   {
    "duration": 0,
    "start_time": "2022-05-20T08:46:18.227Z"
   },
   {
    "duration": 0,
    "start_time": "2022-05-20T08:46:18.227Z"
   },
   {
    "duration": 0,
    "start_time": "2022-05-20T08:46:18.228Z"
   },
   {
    "duration": 0,
    "start_time": "2022-05-20T08:46:18.228Z"
   },
   {
    "duration": 0,
    "start_time": "2022-05-20T08:46:18.229Z"
   },
   {
    "duration": 0,
    "start_time": "2022-05-20T08:46:18.230Z"
   },
   {
    "duration": 0,
    "start_time": "2022-05-20T08:46:18.236Z"
   },
   {
    "duration": 0,
    "start_time": "2022-05-20T08:46:18.236Z"
   },
   {
    "duration": 0,
    "start_time": "2022-05-20T08:46:18.237Z"
   },
   {
    "duration": 0,
    "start_time": "2022-05-20T08:46:18.239Z"
   },
   {
    "duration": 0,
    "start_time": "2022-05-20T08:46:18.245Z"
   },
   {
    "duration": 0,
    "start_time": "2022-05-20T08:46:18.245Z"
   },
   {
    "duration": 0,
    "start_time": "2022-05-20T08:46:18.247Z"
   },
   {
    "duration": 0,
    "start_time": "2022-05-20T08:46:18.248Z"
   },
   {
    "duration": 0,
    "start_time": "2022-05-20T08:46:18.250Z"
   },
   {
    "duration": 0,
    "start_time": "2022-05-20T08:46:18.251Z"
   },
   {
    "duration": 0,
    "start_time": "2022-05-20T08:46:18.252Z"
   },
   {
    "duration": 0,
    "start_time": "2022-05-20T08:46:18.252Z"
   },
   {
    "duration": 0,
    "start_time": "2022-05-20T08:46:18.253Z"
   },
   {
    "duration": 0,
    "start_time": "2022-05-20T08:46:18.255Z"
   },
   {
    "duration": 0,
    "start_time": "2022-05-20T08:46:18.255Z"
   },
   {
    "duration": 0,
    "start_time": "2022-05-20T08:46:18.257Z"
   },
   {
    "duration": 0,
    "start_time": "2022-05-20T08:46:18.258Z"
   },
   {
    "duration": 0,
    "start_time": "2022-05-20T08:46:18.259Z"
   },
   {
    "duration": 0,
    "start_time": "2022-05-20T08:46:18.260Z"
   },
   {
    "duration": 0,
    "start_time": "2022-05-20T08:46:18.261Z"
   },
   {
    "duration": 0,
    "start_time": "2022-05-20T08:46:18.263Z"
   },
   {
    "duration": 0,
    "start_time": "2022-05-20T08:46:18.264Z"
   },
   {
    "duration": 0,
    "start_time": "2022-05-20T08:46:18.265Z"
   },
   {
    "duration": 1,
    "start_time": "2022-05-20T08:46:18.266Z"
   },
   {
    "duration": 0,
    "start_time": "2022-05-20T08:46:18.267Z"
   },
   {
    "duration": 0,
    "start_time": "2022-05-20T08:46:18.269Z"
   },
   {
    "duration": 0,
    "start_time": "2022-05-20T08:46:18.324Z"
   },
   {
    "duration": 417,
    "start_time": "2022-05-20T08:47:19.786Z"
   },
   {
    "duration": 71,
    "start_time": "2022-05-20T08:47:20.205Z"
   },
   {
    "duration": 25,
    "start_time": "2022-05-20T08:47:20.278Z"
   },
   {
    "duration": 30,
    "start_time": "2022-05-20T08:47:20.305Z"
   },
   {
    "duration": 14,
    "start_time": "2022-05-20T08:47:20.340Z"
   },
   {
    "duration": 14,
    "start_time": "2022-05-20T08:47:20.356Z"
   },
   {
    "duration": 18,
    "start_time": "2022-05-20T08:47:20.372Z"
   },
   {
    "duration": 50,
    "start_time": "2022-05-20T08:47:20.391Z"
   },
   {
    "duration": 11,
    "start_time": "2022-05-20T08:47:20.442Z"
   },
   {
    "duration": 7,
    "start_time": "2022-05-20T08:47:20.457Z"
   },
   {
    "duration": 6,
    "start_time": "2022-05-20T08:47:20.465Z"
   },
   {
    "duration": 14,
    "start_time": "2022-05-20T08:47:20.472Z"
   },
   {
    "duration": 14,
    "start_time": "2022-05-20T08:47:20.488Z"
   },
   {
    "duration": 29,
    "start_time": "2022-05-20T08:47:20.503Z"
   },
   {
    "duration": 16,
    "start_time": "2022-05-20T08:47:20.539Z"
   },
   {
    "duration": 8,
    "start_time": "2022-05-20T08:47:20.557Z"
   },
   {
    "duration": 11,
    "start_time": "2022-05-20T08:47:20.567Z"
   },
   {
    "duration": 9,
    "start_time": "2022-05-20T08:47:20.580Z"
   },
   {
    "duration": 28,
    "start_time": "2022-05-20T08:47:20.590Z"
   },
   {
    "duration": 7,
    "start_time": "2022-05-20T08:47:20.620Z"
   },
   {
    "duration": 34,
    "start_time": "2022-05-20T08:47:20.629Z"
   },
   {
    "duration": 20,
    "start_time": "2022-05-20T08:47:20.664Z"
   },
   {
    "duration": 15,
    "start_time": "2022-05-20T08:47:20.686Z"
   },
   {
    "duration": 32,
    "start_time": "2022-05-20T08:47:20.703Z"
   },
   {
    "duration": 26,
    "start_time": "2022-05-20T08:47:20.741Z"
   },
   {
    "duration": 16,
    "start_time": "2022-05-20T08:47:20.769Z"
   },
   {
    "duration": 15,
    "start_time": "2022-05-20T08:47:20.787Z"
   },
   {
    "duration": 9,
    "start_time": "2022-05-20T08:47:20.805Z"
   },
   {
    "duration": 36,
    "start_time": "2022-05-20T08:47:20.816Z"
   },
   {
    "duration": 9,
    "start_time": "2022-05-20T08:47:20.854Z"
   },
   {
    "duration": 8,
    "start_time": "2022-05-20T08:47:20.864Z"
   },
   {
    "duration": 14,
    "start_time": "2022-05-20T08:47:20.874Z"
   },
   {
    "duration": 40,
    "start_time": "2022-05-20T08:47:20.890Z"
   },
   {
    "duration": 14,
    "start_time": "2022-05-20T08:47:20.932Z"
   },
   {
    "duration": 9,
    "start_time": "2022-05-20T08:47:20.948Z"
   },
   {
    "duration": 13,
    "start_time": "2022-05-20T08:47:20.960Z"
   },
   {
    "duration": 24,
    "start_time": "2022-05-20T08:47:20.975Z"
   },
   {
    "duration": 27,
    "start_time": "2022-05-20T08:47:21.001Z"
   },
   {
    "duration": 11,
    "start_time": "2022-05-20T08:47:21.030Z"
   },
   {
    "duration": 20,
    "start_time": "2022-05-20T08:47:21.043Z"
   },
   {
    "duration": 8,
    "start_time": "2022-05-20T08:47:21.065Z"
   },
   {
    "duration": 14,
    "start_time": "2022-05-20T08:47:21.075Z"
   },
   {
    "duration": 6,
    "start_time": "2022-05-20T08:47:21.090Z"
   },
   {
    "duration": 41,
    "start_time": "2022-05-20T08:47:21.097Z"
   },
   {
    "duration": 27,
    "start_time": "2022-05-20T08:47:21.139Z"
   },
   {
    "duration": 7,
    "start_time": "2022-05-20T08:47:21.168Z"
   },
   {
    "duration": 13,
    "start_time": "2022-05-20T08:47:21.177Z"
   },
   {
    "duration": 5,
    "start_time": "2022-05-20T08:47:21.192Z"
   },
   {
    "duration": 25,
    "start_time": "2022-05-20T08:47:21.223Z"
   },
   {
    "duration": 19,
    "start_time": "2022-05-20T08:47:21.250Z"
   },
   {
    "duration": 8,
    "start_time": "2022-05-20T08:47:21.271Z"
   },
   {
    "duration": 12,
    "start_time": "2022-05-20T08:47:21.280Z"
   },
   {
    "duration": 5,
    "start_time": "2022-05-20T08:48:08.183Z"
   },
   {
    "duration": 28,
    "start_time": "2022-05-20T08:50:19.409Z"
   },
   {
    "duration": 14,
    "start_time": "2022-05-20T08:51:03.105Z"
   },
   {
    "duration": 52,
    "start_time": "2022-05-20T08:55:40.990Z"
   },
   {
    "duration": 28,
    "start_time": "2022-05-20T08:56:51.843Z"
   },
   {
    "duration": 32,
    "start_time": "2022-05-20T08:58:26.656Z"
   },
   {
    "duration": 45,
    "start_time": "2022-05-20T08:58:32.600Z"
   },
   {
    "duration": 45,
    "start_time": "2022-05-20T09:01:27.705Z"
   },
   {
    "duration": 59,
    "start_time": "2022-05-20T09:05:33.761Z"
   },
   {
    "duration": 17,
    "start_time": "2022-05-20T09:07:41.934Z"
   },
   {
    "duration": 9,
    "start_time": "2022-05-20T09:08:17.268Z"
   },
   {
    "duration": 17,
    "start_time": "2022-05-20T09:09:09.530Z"
   },
   {
    "duration": 18,
    "start_time": "2022-05-20T09:09:36.720Z"
   },
   {
    "duration": 452,
    "start_time": "2022-05-20T09:20:39.915Z"
   },
   {
    "duration": 69,
    "start_time": "2022-05-20T09:20:40.369Z"
   },
   {
    "duration": 20,
    "start_time": "2022-05-20T09:20:40.440Z"
   },
   {
    "duration": 17,
    "start_time": "2022-05-20T09:20:40.462Z"
   },
   {
    "duration": 16,
    "start_time": "2022-05-20T09:20:40.481Z"
   },
   {
    "duration": 39,
    "start_time": "2022-05-20T09:20:40.499Z"
   },
   {
    "duration": 18,
    "start_time": "2022-05-20T09:20:40.541Z"
   },
   {
    "duration": 26,
    "start_time": "2022-05-20T09:20:40.561Z"
   },
   {
    "duration": 20,
    "start_time": "2022-05-20T09:20:40.588Z"
   },
   {
    "duration": 25,
    "start_time": "2022-05-20T09:20:40.611Z"
   },
   {
    "duration": 15,
    "start_time": "2022-05-20T09:20:40.638Z"
   },
   {
    "duration": 16,
    "start_time": "2022-05-20T09:20:40.654Z"
   },
   {
    "duration": 14,
    "start_time": "2022-05-20T09:20:40.671Z"
   },
   {
    "duration": 13,
    "start_time": "2022-05-20T09:20:40.686Z"
   },
   {
    "duration": 13,
    "start_time": "2022-05-20T09:20:40.701Z"
   },
   {
    "duration": 30,
    "start_time": "2022-05-20T09:20:40.715Z"
   },
   {
    "duration": 11,
    "start_time": "2022-05-20T09:20:40.747Z"
   },
   {
    "duration": 10,
    "start_time": "2022-05-20T09:20:40.760Z"
   },
   {
    "duration": 23,
    "start_time": "2022-05-20T09:20:40.772Z"
   },
   {
    "duration": 6,
    "start_time": "2022-05-20T09:20:40.797Z"
   },
   {
    "duration": 16,
    "start_time": "2022-05-20T09:20:40.805Z"
   },
   {
    "duration": 23,
    "start_time": "2022-05-20T09:20:40.823Z"
   },
   {
    "duration": 7,
    "start_time": "2022-05-20T09:20:40.848Z"
   },
   {
    "duration": 30,
    "start_time": "2022-05-20T09:20:40.857Z"
   },
   {
    "duration": 10,
    "start_time": "2022-05-20T09:20:40.889Z"
   },
   {
    "duration": 15,
    "start_time": "2022-05-20T09:20:40.901Z"
   },
   {
    "duration": 30,
    "start_time": "2022-05-20T09:20:40.925Z"
   },
   {
    "duration": 18,
    "start_time": "2022-05-20T09:20:40.959Z"
   },
   {
    "duration": 28,
    "start_time": "2022-05-20T09:20:40.979Z"
   },
   {
    "duration": 32,
    "start_time": "2022-05-20T09:20:41.009Z"
   },
   {
    "duration": 7,
    "start_time": "2022-05-20T09:20:41.043Z"
   },
   {
    "duration": 28,
    "start_time": "2022-05-20T09:20:41.052Z"
   },
   {
    "duration": 25,
    "start_time": "2022-05-20T09:20:41.082Z"
   },
   {
    "duration": 31,
    "start_time": "2022-05-20T09:20:41.108Z"
   },
   {
    "duration": 23,
    "start_time": "2022-05-20T09:20:41.142Z"
   },
   {
    "duration": 9,
    "start_time": "2022-05-20T09:20:41.167Z"
   },
   {
    "duration": 29,
    "start_time": "2022-05-20T09:20:41.177Z"
   },
   {
    "duration": 32,
    "start_time": "2022-05-20T09:20:41.207Z"
   },
   {
    "duration": 8,
    "start_time": "2022-05-20T09:20:41.242Z"
   },
   {
    "duration": 14,
    "start_time": "2022-05-20T09:20:41.252Z"
   },
   {
    "duration": 10,
    "start_time": "2022-05-20T09:20:41.267Z"
   },
   {
    "duration": 7,
    "start_time": "2022-05-20T09:20:41.279Z"
   },
   {
    "duration": 13,
    "start_time": "2022-05-20T09:20:41.288Z"
   },
   {
    "duration": 8,
    "start_time": "2022-05-20T09:20:41.303Z"
   },
   {
    "duration": 33,
    "start_time": "2022-05-20T09:20:41.312Z"
   },
   {
    "duration": 18,
    "start_time": "2022-05-20T09:20:41.346Z"
   },
   {
    "duration": 10,
    "start_time": "2022-05-20T09:20:41.366Z"
   },
   {
    "duration": 14,
    "start_time": "2022-05-20T09:20:41.377Z"
   },
   {
    "duration": 8,
    "start_time": "2022-05-20T09:20:41.393Z"
   },
   {
    "duration": 24,
    "start_time": "2022-05-20T09:20:41.423Z"
   },
   {
    "duration": 24,
    "start_time": "2022-05-20T09:20:41.449Z"
   },
   {
    "duration": 7,
    "start_time": "2022-05-20T09:20:41.475Z"
   },
   {
    "duration": 13,
    "start_time": "2022-05-20T09:20:41.485Z"
   },
   {
    "duration": 42,
    "start_time": "2022-05-20T09:20:41.500Z"
   },
   {
    "duration": 11,
    "start_time": "2022-05-20T09:20:41.543Z"
   },
   {
    "duration": 13,
    "start_time": "2022-05-20T09:20:41.556Z"
   },
   {
    "duration": 15,
    "start_time": "2022-05-20T09:20:41.572Z"
   },
   {
    "duration": 500,
    "start_time": "2022-05-20T10:16:58.620Z"
   },
   {
    "duration": 84,
    "start_time": "2022-05-20T10:16:59.122Z"
   },
   {
    "duration": 22,
    "start_time": "2022-05-20T10:16:59.208Z"
   },
   {
    "duration": 30,
    "start_time": "2022-05-20T10:16:59.232Z"
   },
   {
    "duration": 11,
    "start_time": "2022-05-20T10:16:59.265Z"
   },
   {
    "duration": 15,
    "start_time": "2022-05-20T10:16:59.278Z"
   },
   {
    "duration": 19,
    "start_time": "2022-05-20T10:16:59.295Z"
   },
   {
    "duration": 48,
    "start_time": "2022-05-20T10:16:59.315Z"
   },
   {
    "duration": 7,
    "start_time": "2022-05-20T10:16:59.366Z"
   },
   {
    "duration": 8,
    "start_time": "2022-05-20T10:16:59.375Z"
   },
   {
    "duration": 7,
    "start_time": "2022-05-20T10:16:59.385Z"
   },
   {
    "duration": 10,
    "start_time": "2022-05-20T10:16:59.394Z"
   },
   {
    "duration": 52,
    "start_time": "2022-05-20T10:16:59.406Z"
   },
   {
    "duration": 3,
    "start_time": "2022-05-20T10:16:59.462Z"
   },
   {
    "duration": 12,
    "start_time": "2022-05-20T10:16:59.467Z"
   },
   {
    "duration": 5,
    "start_time": "2022-05-20T10:16:59.481Z"
   },
   {
    "duration": 7,
    "start_time": "2022-05-20T10:16:59.488Z"
   },
   {
    "duration": 8,
    "start_time": "2022-05-20T10:16:59.497Z"
   },
   {
    "duration": 51,
    "start_time": "2022-05-20T10:16:59.507Z"
   },
   {
    "duration": 5,
    "start_time": "2022-05-20T10:16:59.561Z"
   },
   {
    "duration": 10,
    "start_time": "2022-05-20T10:16:59.568Z"
   },
   {
    "duration": 19,
    "start_time": "2022-05-20T10:16:59.580Z"
   },
   {
    "duration": 8,
    "start_time": "2022-05-20T10:16:59.600Z"
   },
   {
    "duration": 49,
    "start_time": "2022-05-20T10:16:59.610Z"
   },
   {
    "duration": 11,
    "start_time": "2022-05-20T10:16:59.661Z"
   },
   {
    "duration": 14,
    "start_time": "2022-05-20T10:16:59.673Z"
   },
   {
    "duration": 10,
    "start_time": "2022-05-20T10:16:59.689Z"
   },
   {
    "duration": 15,
    "start_time": "2022-05-20T10:16:59.701Z"
   },
   {
    "duration": 40,
    "start_time": "2022-05-20T10:16:59.718Z"
   },
   {
    "duration": 30,
    "start_time": "2022-05-20T10:16:59.760Z"
   },
   {
    "duration": 9,
    "start_time": "2022-05-20T10:16:59.792Z"
   },
   {
    "duration": 16,
    "start_time": "2022-05-20T10:16:59.803Z"
   },
   {
    "duration": 51,
    "start_time": "2022-05-20T10:16:59.821Z"
   },
   {
    "duration": 23,
    "start_time": "2022-05-20T10:16:59.874Z"
   },
   {
    "duration": 14,
    "start_time": "2022-05-20T10:16:59.899Z"
   },
   {
    "duration": 13,
    "start_time": "2022-05-20T10:16:59.915Z"
   },
   {
    "duration": 34,
    "start_time": "2022-05-20T10:16:59.931Z"
   },
   {
    "duration": 25,
    "start_time": "2022-05-20T10:16:59.967Z"
   },
   {
    "duration": 13,
    "start_time": "2022-05-20T10:16:59.994Z"
   },
   {
    "duration": 18,
    "start_time": "2022-05-20T10:17:00.009Z"
   },
   {
    "duration": 7,
    "start_time": "2022-05-20T10:17:00.051Z"
   },
   {
    "duration": 8,
    "start_time": "2022-05-20T10:17:00.060Z"
   },
   {
    "duration": 21,
    "start_time": "2022-05-20T10:17:00.070Z"
   },
   {
    "duration": 15,
    "start_time": "2022-05-20T10:17:00.092Z"
   },
   {
    "duration": 31,
    "start_time": "2022-05-20T10:17:00.109Z"
   },
   {
    "duration": 32,
    "start_time": "2022-05-20T10:17:00.153Z"
   },
   {
    "duration": 10,
    "start_time": "2022-05-20T10:17:00.187Z"
   },
   {
    "duration": 23,
    "start_time": "2022-05-20T10:17:00.199Z"
   },
   {
    "duration": 7,
    "start_time": "2022-05-20T10:17:00.224Z"
   },
   {
    "duration": 42,
    "start_time": "2022-05-20T10:17:00.233Z"
   },
   {
    "duration": 32,
    "start_time": "2022-05-20T10:17:00.276Z"
   },
   {
    "duration": 11,
    "start_time": "2022-05-20T10:17:00.310Z"
   },
   {
    "duration": 31,
    "start_time": "2022-05-20T10:17:00.323Z"
   },
   {
    "duration": 17,
    "start_time": "2022-05-20T10:17:00.356Z"
   },
   {
    "duration": 28,
    "start_time": "2022-05-20T10:17:00.375Z"
   },
   {
    "duration": 24,
    "start_time": "2022-05-20T10:17:00.405Z"
   },
   {
    "duration": 35,
    "start_time": "2022-05-20T10:17:00.430Z"
   },
   {
    "duration": 10,
    "start_time": "2022-05-20T10:19:46.353Z"
   },
   {
    "duration": 70,
    "start_time": "2022-05-20T10:28:49.388Z"
   },
   {
    "duration": 433,
    "start_time": "2022-05-20T10:28:58.275Z"
   },
   {
    "duration": 311,
    "start_time": "2022-05-20T10:28:58.711Z"
   },
   {
    "duration": 18,
    "start_time": "2022-05-20T10:28:59.024Z"
   },
   {
    "duration": 15,
    "start_time": "2022-05-20T10:28:59.044Z"
   },
   {
    "duration": 8,
    "start_time": "2022-05-20T10:28:59.061Z"
   },
   {
    "duration": 14,
    "start_time": "2022-05-20T10:28:59.071Z"
   },
   {
    "duration": 30,
    "start_time": "2022-05-20T10:28:59.086Z"
   },
   {
    "duration": 13,
    "start_time": "2022-05-20T10:28:59.117Z"
   },
   {
    "duration": 7,
    "start_time": "2022-05-20T10:28:59.132Z"
   },
   {
    "duration": 8,
    "start_time": "2022-05-20T10:28:59.142Z"
   },
   {
    "duration": 9,
    "start_time": "2022-05-20T10:28:59.152Z"
   },
   {
    "duration": 10,
    "start_time": "2022-05-20T10:28:59.162Z"
   },
   {
    "duration": 5,
    "start_time": "2022-05-20T10:28:59.173Z"
   },
   {
    "duration": 32,
    "start_time": "2022-05-20T10:28:59.180Z"
   },
   {
    "duration": 11,
    "start_time": "2022-05-20T10:28:59.214Z"
   },
   {
    "duration": 5,
    "start_time": "2022-05-20T10:28:59.226Z"
   },
   {
    "duration": 7,
    "start_time": "2022-05-20T10:28:59.232Z"
   },
   {
    "duration": 8,
    "start_time": "2022-05-20T10:28:59.240Z"
   },
   {
    "duration": 12,
    "start_time": "2022-05-20T10:28:59.249Z"
   },
   {
    "duration": 10,
    "start_time": "2022-05-20T10:28:59.262Z"
   },
   {
    "duration": 8,
    "start_time": "2022-05-20T10:28:59.273Z"
   },
   {
    "duration": 40,
    "start_time": "2022-05-20T10:28:59.282Z"
   },
   {
    "duration": 7,
    "start_time": "2022-05-20T10:28:59.323Z"
   },
   {
    "duration": 12,
    "start_time": "2022-05-20T10:28:59.331Z"
   },
   {
    "duration": 8,
    "start_time": "2022-05-20T10:28:59.345Z"
   },
   {
    "duration": 9,
    "start_time": "2022-05-20T10:28:59.355Z"
   },
   {
    "duration": 12,
    "start_time": "2022-05-20T10:28:59.365Z"
   },
   {
    "duration": 9,
    "start_time": "2022-05-20T10:28:59.380Z"
   },
   {
    "duration": 18,
    "start_time": "2022-05-20T10:28:59.412Z"
   },
   {
    "duration": 20,
    "start_time": "2022-05-20T10:28:59.431Z"
   },
   {
    "duration": 9,
    "start_time": "2022-05-20T10:28:59.452Z"
   },
   {
    "duration": 13,
    "start_time": "2022-05-20T10:28:59.464Z"
   },
   {
    "duration": 35,
    "start_time": "2022-05-20T10:28:59.479Z"
   },
   {
    "duration": 10,
    "start_time": "2022-05-20T10:28:59.515Z"
   },
   {
    "duration": 18,
    "start_time": "2022-05-20T10:28:59.527Z"
   },
   {
    "duration": 7,
    "start_time": "2022-05-20T10:28:59.547Z"
   },
   {
    "duration": 5,
    "start_time": "2022-05-20T10:28:59.556Z"
   },
   {
    "duration": 14,
    "start_time": "2022-05-20T10:28:59.563Z"
   },
   {
    "duration": 53,
    "start_time": "2022-05-20T10:28:59.579Z"
   },
   {
    "duration": 7,
    "start_time": "2022-05-20T10:28:59.634Z"
   },
   {
    "duration": 11,
    "start_time": "2022-05-20T10:28:59.643Z"
   },
   {
    "duration": 7,
    "start_time": "2022-05-20T10:28:59.656Z"
   },
   {
    "duration": 5,
    "start_time": "2022-05-20T10:28:59.664Z"
   },
   {
    "duration": 11,
    "start_time": "2022-05-20T10:28:59.671Z"
   },
   {
    "duration": 5,
    "start_time": "2022-05-20T10:28:59.683Z"
   },
   {
    "duration": 38,
    "start_time": "2022-05-20T10:28:59.689Z"
   },
   {
    "duration": 19,
    "start_time": "2022-05-20T10:28:59.729Z"
   },
   {
    "duration": 7,
    "start_time": "2022-05-20T10:28:59.749Z"
   },
   {
    "duration": 12,
    "start_time": "2022-05-20T10:28:59.758Z"
   },
   {
    "duration": 6,
    "start_time": "2022-05-20T10:28:59.772Z"
   },
   {
    "duration": 61,
    "start_time": "2022-05-20T10:28:59.780Z"
   },
   {
    "duration": 18,
    "start_time": "2022-05-20T10:28:59.843Z"
   },
   {
    "duration": 6,
    "start_time": "2022-05-20T10:28:59.863Z"
   },
   {
    "duration": 9,
    "start_time": "2022-05-20T10:28:59.871Z"
   },
   {
    "duration": 33,
    "start_time": "2022-05-20T10:28:59.882Z"
   },
   {
    "duration": 10,
    "start_time": "2022-05-20T10:28:59.916Z"
   },
   {
    "duration": 9,
    "start_time": "2022-05-20T10:28:59.927Z"
   },
   {
    "duration": 12,
    "start_time": "2022-05-20T10:28:59.937Z"
   },
   {
    "duration": 30,
    "start_time": "2022-05-20T10:29:28.987Z"
   },
   {
    "duration": 32,
    "start_time": "2022-05-20T10:29:44.296Z"
   },
   {
    "duration": 30,
    "start_time": "2022-05-20T10:30:47.098Z"
   },
   {
    "duration": 18,
    "start_time": "2022-05-20T10:31:11.806Z"
   },
   {
    "duration": 10,
    "start_time": "2022-05-20T10:31:25.422Z"
   },
   {
    "duration": 18,
    "start_time": "2022-05-20T10:32:10.117Z"
   },
   {
    "duration": 417,
    "start_time": "2022-05-20T10:35:58.520Z"
   },
   {
    "duration": 68,
    "start_time": "2022-05-20T10:35:58.939Z"
   },
   {
    "duration": 19,
    "start_time": "2022-05-20T10:35:59.009Z"
   },
   {
    "duration": 15,
    "start_time": "2022-05-20T10:35:59.030Z"
   },
   {
    "duration": 9,
    "start_time": "2022-05-20T10:35:59.046Z"
   },
   {
    "duration": 14,
    "start_time": "2022-05-20T10:35:59.057Z"
   },
   {
    "duration": 43,
    "start_time": "2022-05-20T10:35:59.073Z"
   },
   {
    "duration": 13,
    "start_time": "2022-05-20T10:35:59.118Z"
   },
   {
    "duration": 15,
    "start_time": "2022-05-20T10:35:59.132Z"
   },
   {
    "duration": 11,
    "start_time": "2022-05-20T10:35:59.149Z"
   },
   {
    "duration": 5,
    "start_time": "2022-05-20T10:35:59.162Z"
   },
   {
    "duration": 11,
    "start_time": "2022-05-20T10:35:59.169Z"
   },
   {
    "duration": 5,
    "start_time": "2022-05-20T10:35:59.181Z"
   },
   {
    "duration": 5,
    "start_time": "2022-05-20T10:35:59.212Z"
   },
   {
    "duration": 10,
    "start_time": "2022-05-20T10:35:59.218Z"
   },
   {
    "duration": 4,
    "start_time": "2022-05-20T10:35:59.229Z"
   },
   {
    "duration": 6,
    "start_time": "2022-05-20T10:35:59.235Z"
   },
   {
    "duration": 7,
    "start_time": "2022-05-20T10:35:59.242Z"
   },
   {
    "duration": 12,
    "start_time": "2022-05-20T10:35:59.250Z"
   },
   {
    "duration": 4,
    "start_time": "2022-05-20T10:35:59.264Z"
   },
   {
    "duration": 10,
    "start_time": "2022-05-20T10:35:59.270Z"
   },
   {
    "duration": 16,
    "start_time": "2022-05-20T10:35:59.312Z"
   },
   {
    "duration": 6,
    "start_time": "2022-05-20T10:35:59.329Z"
   },
   {
    "duration": 11,
    "start_time": "2022-05-20T10:35:59.337Z"
   },
   {
    "duration": 8,
    "start_time": "2022-05-20T10:35:59.350Z"
   },
   {
    "duration": 7,
    "start_time": "2022-05-20T10:35:59.360Z"
   },
   {
    "duration": 7,
    "start_time": "2022-05-20T10:35:59.369Z"
   },
   {
    "duration": 38,
    "start_time": "2022-05-20T10:35:59.380Z"
   },
   {
    "duration": 19,
    "start_time": "2022-05-20T10:35:59.420Z"
   },
   {
    "duration": 29,
    "start_time": "2022-05-20T10:35:59.440Z"
   },
   {
    "duration": 17,
    "start_time": "2022-05-20T10:35:59.471Z"
   },
   {
    "duration": 28,
    "start_time": "2022-05-20T10:35:59.490Z"
   },
   {
    "duration": 8,
    "start_time": "2022-05-20T10:35:59.519Z"
   },
   {
    "duration": 22,
    "start_time": "2022-05-20T10:35:59.529Z"
   },
   {
    "duration": 13,
    "start_time": "2022-05-20T10:35:59.553Z"
   },
   {
    "duration": 8,
    "start_time": "2022-05-20T10:35:59.567Z"
   },
   {
    "duration": 49,
    "start_time": "2022-05-20T10:35:59.577Z"
   },
   {
    "duration": 7,
    "start_time": "2022-05-20T10:35:59.628Z"
   },
   {
    "duration": 4,
    "start_time": "2022-05-20T10:35:59.637Z"
   },
   {
    "duration": 14,
    "start_time": "2022-05-20T10:35:59.643Z"
   },
   {
    "duration": 18,
    "start_time": "2022-05-20T10:35:59.658Z"
   },
   {
    "duration": 6,
    "start_time": "2022-05-20T10:35:59.678Z"
   },
   {
    "duration": 9,
    "start_time": "2022-05-20T10:35:59.712Z"
   },
   {
    "duration": 8,
    "start_time": "2022-05-20T10:35:59.722Z"
   },
   {
    "duration": 12,
    "start_time": "2022-05-20T10:35:59.732Z"
   },
   {
    "duration": 10,
    "start_time": "2022-05-20T10:35:59.745Z"
   },
   {
    "duration": 6,
    "start_time": "2022-05-20T10:35:59.756Z"
   },
   {
    "duration": 20,
    "start_time": "2022-05-20T10:35:59.763Z"
   },
   {
    "duration": 31,
    "start_time": "2022-05-20T10:35:59.784Z"
   },
   {
    "duration": 6,
    "start_time": "2022-05-20T10:35:59.817Z"
   },
   {
    "duration": 17,
    "start_time": "2022-05-20T10:35:59.825Z"
   },
   {
    "duration": 10,
    "start_time": "2022-05-20T10:35:59.843Z"
   },
   {
    "duration": 19,
    "start_time": "2022-05-20T10:35:59.855Z"
   },
   {
    "duration": 17,
    "start_time": "2022-05-20T10:35:59.875Z"
   },
   {
    "duration": 24,
    "start_time": "2022-05-20T10:35:59.893Z"
   },
   {
    "duration": 12,
    "start_time": "2022-05-20T10:35:59.918Z"
   },
   {
    "duration": 10,
    "start_time": "2022-05-20T10:35:59.931Z"
   },
   {
    "duration": 11,
    "start_time": "2022-05-20T10:35:59.943Z"
   },
   {
    "duration": 8,
    "start_time": "2022-05-20T10:35:59.955Z"
   },
   {
    "duration": 8,
    "start_time": "2022-05-20T10:35:59.965Z"
   },
   {
    "duration": 7,
    "start_time": "2022-05-20T10:39:00.063Z"
   },
   {
    "duration": 7,
    "start_time": "2022-05-20T10:39:35.358Z"
   },
   {
    "duration": 15,
    "start_time": "2022-05-20T10:40:15.499Z"
   },
   {
    "duration": 7,
    "start_time": "2022-05-20T10:40:28.482Z"
   },
   {
    "duration": 8,
    "start_time": "2022-05-20T10:40:45.595Z"
   },
   {
    "duration": 7,
    "start_time": "2022-05-20T10:40:49.734Z"
   },
   {
    "duration": 10,
    "start_time": "2022-05-20T10:41:18.060Z"
   },
   {
    "duration": 21,
    "start_time": "2022-05-20T10:41:32.448Z"
   },
   {
    "duration": 394,
    "start_time": "2022-05-20T10:42:42.171Z"
   },
   {
    "duration": 72,
    "start_time": "2022-05-20T10:42:42.567Z"
   },
   {
    "duration": 19,
    "start_time": "2022-05-20T10:42:42.640Z"
   },
   {
    "duration": 15,
    "start_time": "2022-05-20T10:42:42.661Z"
   },
   {
    "duration": 12,
    "start_time": "2022-05-20T10:42:42.677Z"
   },
   {
    "duration": 29,
    "start_time": "2022-05-20T10:42:42.690Z"
   },
   {
    "duration": 15,
    "start_time": "2022-05-20T10:42:42.720Z"
   },
   {
    "duration": 13,
    "start_time": "2022-05-20T10:42:42.737Z"
   },
   {
    "duration": 10,
    "start_time": "2022-05-20T10:42:42.751Z"
   },
   {
    "duration": 7,
    "start_time": "2022-05-20T10:42:42.763Z"
   },
   {
    "duration": 7,
    "start_time": "2022-05-20T10:42:42.771Z"
   },
   {
    "duration": 34,
    "start_time": "2022-05-20T10:42:42.779Z"
   },
   {
    "duration": 6,
    "start_time": "2022-05-20T10:42:42.814Z"
   },
   {
    "duration": 5,
    "start_time": "2022-05-20T10:42:42.822Z"
   },
   {
    "duration": 10,
    "start_time": "2022-05-20T10:42:42.829Z"
   },
   {
    "duration": 5,
    "start_time": "2022-05-20T10:42:42.840Z"
   },
   {
    "duration": 20,
    "start_time": "2022-05-20T10:42:42.846Z"
   },
   {
    "duration": 20,
    "start_time": "2022-05-20T10:42:42.868Z"
   },
   {
    "duration": 24,
    "start_time": "2022-05-20T10:42:42.889Z"
   },
   {
    "duration": 6,
    "start_time": "2022-05-20T10:42:42.915Z"
   },
   {
    "duration": 25,
    "start_time": "2022-05-20T10:42:42.922Z"
   },
   {
    "duration": 29,
    "start_time": "2022-05-20T10:42:42.949Z"
   },
   {
    "duration": 12,
    "start_time": "2022-05-20T10:42:42.980Z"
   },
   {
    "duration": 16,
    "start_time": "2022-05-20T10:42:42.994Z"
   },
   {
    "duration": 10,
    "start_time": "2022-05-20T10:42:43.011Z"
   },
   {
    "duration": 12,
    "start_time": "2022-05-20T10:42:43.023Z"
   },
   {
    "duration": 13,
    "start_time": "2022-05-20T10:42:43.037Z"
   },
   {
    "duration": 13,
    "start_time": "2022-05-20T10:42:43.053Z"
   },
   {
    "duration": 20,
    "start_time": "2022-05-20T10:42:43.067Z"
   },
   {
    "duration": 38,
    "start_time": "2022-05-20T10:42:43.088Z"
   },
   {
    "duration": 16,
    "start_time": "2022-05-20T10:42:43.129Z"
   },
   {
    "duration": 8,
    "start_time": "2022-05-20T10:42:43.146Z"
   },
   {
    "duration": 9,
    "start_time": "2022-05-20T10:42:43.155Z"
   },
   {
    "duration": 13,
    "start_time": "2022-05-20T10:42:43.165Z"
   },
   {
    "duration": 33,
    "start_time": "2022-05-20T10:42:43.179Z"
   },
   {
    "duration": 12,
    "start_time": "2022-05-20T10:42:43.214Z"
   },
   {
    "duration": 16,
    "start_time": "2022-05-20T10:42:43.227Z"
   },
   {
    "duration": 25,
    "start_time": "2022-05-20T10:42:43.245Z"
   },
   {
    "duration": 18,
    "start_time": "2022-05-20T10:42:43.271Z"
   },
   {
    "duration": 5,
    "start_time": "2022-05-20T10:42:43.291Z"
   },
   {
    "duration": 26,
    "start_time": "2022-05-20T10:42:43.297Z"
   },
   {
    "duration": 7,
    "start_time": "2022-05-20T10:42:43.325Z"
   },
   {
    "duration": 10,
    "start_time": "2022-05-20T10:42:43.333Z"
   },
   {
    "duration": 18,
    "start_time": "2022-05-20T10:42:43.345Z"
   },
   {
    "duration": 18,
    "start_time": "2022-05-20T10:42:43.364Z"
   },
   {
    "duration": 6,
    "start_time": "2022-05-20T10:42:43.384Z"
   },
   {
    "duration": 18,
    "start_time": "2022-05-20T10:42:43.391Z"
   },
   {
    "duration": 4,
    "start_time": "2022-05-20T10:42:43.412Z"
   },
   {
    "duration": 9,
    "start_time": "2022-05-20T10:42:43.418Z"
   },
   {
    "duration": 11,
    "start_time": "2022-05-20T10:42:43.428Z"
   },
   {
    "duration": 6,
    "start_time": "2022-05-20T10:42:43.441Z"
   },
   {
    "duration": 30,
    "start_time": "2022-05-20T10:42:43.449Z"
   },
   {
    "duration": 26,
    "start_time": "2022-05-20T10:42:43.481Z"
   },
   {
    "duration": 8,
    "start_time": "2022-05-20T10:42:43.508Z"
   },
   {
    "duration": 19,
    "start_time": "2022-05-20T10:42:43.517Z"
   },
   {
    "duration": 8,
    "start_time": "2022-05-20T10:42:43.537Z"
   },
   {
    "duration": 25,
    "start_time": "2022-05-20T10:42:43.546Z"
   },
   {
    "duration": 23,
    "start_time": "2022-05-20T10:42:43.573Z"
   },
   {
    "duration": 8,
    "start_time": "2022-05-20T10:42:43.598Z"
   },
   {
    "duration": 14,
    "start_time": "2022-05-20T10:42:43.611Z"
   },
   {
    "duration": 17,
    "start_time": "2022-05-20T10:42:43.627Z"
   },
   {
    "duration": 16,
    "start_time": "2022-05-20T10:42:43.645Z"
   },
   {
    "duration": 20,
    "start_time": "2022-05-20T10:42:43.662Z"
   },
   {
    "duration": 12,
    "start_time": "2022-05-20T10:42:43.684Z"
   },
   {
    "duration": 8,
    "start_time": "2022-05-20T10:49:50.359Z"
   },
   {
    "duration": 432,
    "start_time": "2022-05-20T10:51:12.010Z"
   },
   {
    "duration": 70,
    "start_time": "2022-05-20T10:51:12.444Z"
   },
   {
    "duration": 19,
    "start_time": "2022-05-20T10:51:12.516Z"
   },
   {
    "duration": 15,
    "start_time": "2022-05-20T10:51:12.537Z"
   },
   {
    "duration": 9,
    "start_time": "2022-05-20T10:51:12.554Z"
   },
   {
    "duration": 15,
    "start_time": "2022-05-20T10:51:12.564Z"
   },
   {
    "duration": 43,
    "start_time": "2022-05-20T10:51:12.580Z"
   },
   {
    "duration": 13,
    "start_time": "2022-05-20T10:51:12.624Z"
   },
   {
    "duration": 9,
    "start_time": "2022-05-20T10:51:12.639Z"
   },
   {
    "duration": 5,
    "start_time": "2022-05-20T10:51:12.650Z"
   },
   {
    "duration": 5,
    "start_time": "2022-05-20T10:51:12.657Z"
   },
   {
    "duration": 9,
    "start_time": "2022-05-20T10:51:12.663Z"
   },
   {
    "duration": 6,
    "start_time": "2022-05-20T10:51:12.673Z"
   },
   {
    "duration": 3,
    "start_time": "2022-05-20T10:51:12.712Z"
   },
   {
    "duration": 12,
    "start_time": "2022-05-20T10:51:12.717Z"
   },
   {
    "duration": 4,
    "start_time": "2022-05-20T10:51:12.730Z"
   },
   {
    "duration": 6,
    "start_time": "2022-05-20T10:51:12.736Z"
   },
   {
    "duration": 9,
    "start_time": "2022-05-20T10:51:12.743Z"
   },
   {
    "duration": 12,
    "start_time": "2022-05-20T10:51:12.753Z"
   },
   {
    "duration": 5,
    "start_time": "2022-05-20T10:51:12.767Z"
   },
   {
    "duration": 40,
    "start_time": "2022-05-20T10:51:12.773Z"
   },
   {
    "duration": 13,
    "start_time": "2022-05-20T10:51:12.815Z"
   },
   {
    "duration": 6,
    "start_time": "2022-05-20T10:51:12.830Z"
   },
   {
    "duration": 16,
    "start_time": "2022-05-20T10:51:12.837Z"
   },
   {
    "duration": 11,
    "start_time": "2022-05-20T10:51:12.855Z"
   },
   {
    "duration": 8,
    "start_time": "2022-05-20T10:51:12.868Z"
   },
   {
    "duration": 11,
    "start_time": "2022-05-20T10:51:12.878Z"
   },
   {
    "duration": 21,
    "start_time": "2022-05-20T10:51:12.892Z"
   },
   {
    "duration": 21,
    "start_time": "2022-05-20T10:51:12.914Z"
   },
   {
    "duration": 28,
    "start_time": "2022-05-20T10:51:12.937Z"
   },
   {
    "duration": 17,
    "start_time": "2022-05-20T10:51:12.966Z"
   },
   {
    "duration": 34,
    "start_time": "2022-05-20T10:51:12.984Z"
   },
   {
    "duration": 14,
    "start_time": "2022-05-20T10:51:13.019Z"
   },
   {
    "duration": 12,
    "start_time": "2022-05-20T10:51:13.035Z"
   },
   {
    "duration": 23,
    "start_time": "2022-05-20T10:51:13.049Z"
   },
   {
    "duration": 8,
    "start_time": "2022-05-20T10:51:13.074Z"
   },
   {
    "duration": 10,
    "start_time": "2022-05-20T10:51:13.084Z"
   },
   {
    "duration": 18,
    "start_time": "2022-05-20T10:51:13.111Z"
   },
   {
    "duration": 12,
    "start_time": "2022-05-20T10:51:13.131Z"
   },
   {
    "duration": 6,
    "start_time": "2022-05-20T10:51:13.145Z"
   },
   {
    "duration": 19,
    "start_time": "2022-05-20T10:51:13.152Z"
   },
   {
    "duration": 9,
    "start_time": "2022-05-20T10:51:13.173Z"
   },
   {
    "duration": 4,
    "start_time": "2022-05-20T10:51:13.211Z"
   },
   {
    "duration": 14,
    "start_time": "2022-05-20T10:51:13.216Z"
   },
   {
    "duration": 15,
    "start_time": "2022-05-20T10:51:13.232Z"
   },
   {
    "duration": 6,
    "start_time": "2022-05-20T10:51:13.249Z"
   },
   {
    "duration": 9,
    "start_time": "2022-05-20T10:51:13.256Z"
   },
   {
    "duration": 10,
    "start_time": "2022-05-20T10:51:13.267Z"
   },
   {
    "duration": 8,
    "start_time": "2022-05-20T10:51:13.279Z"
   },
   {
    "duration": 30,
    "start_time": "2022-05-20T10:51:13.288Z"
   },
   {
    "duration": 3,
    "start_time": "2022-05-20T10:51:13.319Z"
   },
   {
    "duration": 22,
    "start_time": "2022-05-20T10:51:13.324Z"
   },
   {
    "duration": 17,
    "start_time": "2022-05-20T10:51:13.348Z"
   },
   {
    "duration": 7,
    "start_time": "2022-05-20T10:51:13.367Z"
   },
   {
    "duration": 17,
    "start_time": "2022-05-20T10:51:13.375Z"
   },
   {
    "duration": 4,
    "start_time": "2022-05-20T10:51:13.411Z"
   },
   {
    "duration": 30,
    "start_time": "2022-05-20T10:51:13.416Z"
   },
   {
    "duration": 29,
    "start_time": "2022-05-20T10:51:13.448Z"
   },
   {
    "duration": 11,
    "start_time": "2022-05-20T10:51:13.481Z"
   },
   {
    "duration": 9,
    "start_time": "2022-05-20T10:51:13.494Z"
   },
   {
    "duration": 8,
    "start_time": "2022-05-20T10:51:13.512Z"
   },
   {
    "duration": 8,
    "start_time": "2022-05-20T10:51:13.522Z"
   },
   {
    "duration": 9,
    "start_time": "2022-05-20T10:51:13.531Z"
   },
   {
    "duration": 8,
    "start_time": "2022-05-20T10:51:13.542Z"
   },
   {
    "duration": 432,
    "start_time": "2022-05-21T09:19:40.000Z"
   },
   {
    "duration": 53,
    "start_time": "2022-05-21T09:19:40.434Z"
   },
   {
    "duration": 27,
    "start_time": "2022-05-21T09:19:40.489Z"
   },
   {
    "duration": 16,
    "start_time": "2022-05-21T09:19:40.519Z"
   },
   {
    "duration": 9,
    "start_time": "2022-05-21T09:19:40.552Z"
   },
   {
    "duration": 19,
    "start_time": "2022-05-21T09:19:40.563Z"
   },
   {
    "duration": 18,
    "start_time": "2022-05-21T09:19:40.584Z"
   },
   {
    "duration": 48,
    "start_time": "2022-05-21T09:19:40.604Z"
   },
   {
    "duration": 6,
    "start_time": "2022-05-21T09:19:40.654Z"
   },
   {
    "duration": 7,
    "start_time": "2022-05-21T09:19:40.663Z"
   },
   {
    "duration": 6,
    "start_time": "2022-05-21T09:19:40.671Z"
   },
   {
    "duration": 9,
    "start_time": "2022-05-21T09:19:40.679Z"
   },
   {
    "duration": 6,
    "start_time": "2022-05-21T09:19:40.690Z"
   },
   {
    "duration": 7,
    "start_time": "2022-05-21T09:19:40.697Z"
   },
   {
    "duration": 48,
    "start_time": "2022-05-21T09:19:40.705Z"
   },
   {
    "duration": 5,
    "start_time": "2022-05-21T09:19:40.755Z"
   },
   {
    "duration": 10,
    "start_time": "2022-05-21T09:19:40.762Z"
   },
   {
    "duration": 18,
    "start_time": "2022-05-21T09:19:40.773Z"
   },
   {
    "duration": 28,
    "start_time": "2022-05-21T09:19:40.793Z"
   },
   {
    "duration": 9,
    "start_time": "2022-05-21T09:19:40.823Z"
   },
   {
    "duration": 19,
    "start_time": "2022-05-21T09:19:40.834Z"
   },
   {
    "duration": 19,
    "start_time": "2022-05-21T09:19:40.855Z"
   },
   {
    "duration": 11,
    "start_time": "2022-05-21T09:19:40.877Z"
   },
   {
    "duration": 20,
    "start_time": "2022-05-21T09:19:40.890Z"
   },
   {
    "duration": 15,
    "start_time": "2022-05-21T09:19:40.913Z"
   },
   {
    "duration": 29,
    "start_time": "2022-05-21T09:19:40.930Z"
   },
   {
    "duration": 12,
    "start_time": "2022-05-21T09:19:40.961Z"
   },
   {
    "duration": 12,
    "start_time": "2022-05-21T09:19:40.978Z"
   },
   {
    "duration": 33,
    "start_time": "2022-05-21T09:19:40.992Z"
   },
   {
    "duration": 47,
    "start_time": "2022-05-21T09:19:41.027Z"
   },
   {
    "duration": 24,
    "start_time": "2022-05-21T09:19:41.076Z"
   },
   {
    "duration": 9,
    "start_time": "2022-05-21T09:19:41.105Z"
   },
   {
    "duration": 38,
    "start_time": "2022-05-21T09:19:41.115Z"
   },
   {
    "duration": 11,
    "start_time": "2022-05-21T09:19:41.155Z"
   },
   {
    "duration": 9,
    "start_time": "2022-05-21T09:19:41.168Z"
   },
   {
    "duration": 10,
    "start_time": "2022-05-21T09:19:41.179Z"
   },
   {
    "duration": 11,
    "start_time": "2022-05-21T09:19:41.191Z"
   },
   {
    "duration": 52,
    "start_time": "2022-05-21T09:19:41.204Z"
   },
   {
    "duration": 15,
    "start_time": "2022-05-21T09:19:41.258Z"
   },
   {
    "duration": 6,
    "start_time": "2022-05-21T09:19:41.275Z"
   },
   {
    "duration": 17,
    "start_time": "2022-05-21T09:19:41.282Z"
   },
   {
    "duration": 10,
    "start_time": "2022-05-21T09:19:41.301Z"
   },
   {
    "duration": 39,
    "start_time": "2022-05-21T09:19:41.313Z"
   },
   {
    "duration": 13,
    "start_time": "2022-05-21T09:19:41.354Z"
   },
   {
    "duration": 21,
    "start_time": "2022-05-21T09:19:41.369Z"
   },
   {
    "duration": 11,
    "start_time": "2022-05-21T09:19:41.392Z"
   },
   {
    "duration": 12,
    "start_time": "2022-05-21T09:19:41.404Z"
   },
   {
    "duration": 11,
    "start_time": "2022-05-21T09:19:41.418Z"
   },
   {
    "duration": 9,
    "start_time": "2022-05-21T09:19:41.453Z"
   },
   {
    "duration": 19,
    "start_time": "2022-05-21T09:19:41.463Z"
   },
   {
    "duration": 13,
    "start_time": "2022-05-21T09:19:41.483Z"
   },
   {
    "duration": 27,
    "start_time": "2022-05-21T09:19:41.498Z"
   },
   {
    "duration": 27,
    "start_time": "2022-05-21T09:19:41.526Z"
   },
   {
    "duration": 8,
    "start_time": "2022-05-21T09:19:41.555Z"
   },
   {
    "duration": 11,
    "start_time": "2022-05-21T09:19:41.565Z"
   },
   {
    "duration": 10,
    "start_time": "2022-05-21T09:19:41.577Z"
   },
   {
    "duration": 30,
    "start_time": "2022-05-21T09:19:41.589Z"
   },
   {
    "duration": 41,
    "start_time": "2022-05-21T09:19:41.621Z"
   },
   {
    "duration": 9,
    "start_time": "2022-05-21T09:19:41.664Z"
   },
   {
    "duration": 16,
    "start_time": "2022-05-21T09:19:41.674Z"
   },
   {
    "duration": 13,
    "start_time": "2022-05-21T09:19:41.692Z"
   },
   {
    "duration": 14,
    "start_time": "2022-05-21T09:19:41.707Z"
   },
   {
    "duration": 31,
    "start_time": "2022-05-21T09:19:41.723Z"
   },
   {
    "duration": 14,
    "start_time": "2022-05-21T09:19:41.756Z"
   },
   {
    "duration": 422,
    "start_time": "2022-05-21T09:21:11.172Z"
   },
   {
    "duration": 59,
    "start_time": "2022-05-21T09:21:11.595Z"
   },
   {
    "duration": 19,
    "start_time": "2022-05-21T09:21:11.656Z"
   },
   {
    "duration": 15,
    "start_time": "2022-05-21T09:21:11.677Z"
   },
   {
    "duration": 9,
    "start_time": "2022-05-21T09:21:11.693Z"
   },
   {
    "duration": 23,
    "start_time": "2022-05-21T09:21:11.704Z"
   },
   {
    "duration": 20,
    "start_time": "2022-05-21T09:21:11.752Z"
   },
   {
    "duration": 17,
    "start_time": "2022-05-21T09:21:11.774Z"
   },
   {
    "duration": 8,
    "start_time": "2022-05-21T09:21:11.792Z"
   },
   {
    "duration": 17,
    "start_time": "2022-05-21T09:21:11.803Z"
   },
   {
    "duration": 10,
    "start_time": "2022-05-21T09:21:11.821Z"
   },
   {
    "duration": 14,
    "start_time": "2022-05-21T09:21:11.852Z"
   },
   {
    "duration": 9,
    "start_time": "2022-05-21T09:21:11.868Z"
   },
   {
    "duration": 3,
    "start_time": "2022-05-21T09:21:11.879Z"
   },
   {
    "duration": 12,
    "start_time": "2022-05-21T09:21:11.883Z"
   },
   {
    "duration": 4,
    "start_time": "2022-05-21T09:21:11.897Z"
   },
   {
    "duration": 6,
    "start_time": "2022-05-21T09:21:11.903Z"
   },
   {
    "duration": 8,
    "start_time": "2022-05-21T09:21:11.910Z"
   },
   {
    "duration": 40,
    "start_time": "2022-05-21T09:21:11.919Z"
   },
   {
    "duration": 5,
    "start_time": "2022-05-21T09:21:11.961Z"
   },
   {
    "duration": 9,
    "start_time": "2022-05-21T09:21:11.967Z"
   },
   {
    "duration": 19,
    "start_time": "2022-05-21T09:21:11.977Z"
   },
   {
    "duration": 9,
    "start_time": "2022-05-21T09:21:11.997Z"
   },
   {
    "duration": 44,
    "start_time": "2022-05-21T09:21:12.008Z"
   },
   {
    "duration": 7,
    "start_time": "2022-05-21T09:21:12.054Z"
   },
   {
    "duration": 11,
    "start_time": "2022-05-21T09:21:12.063Z"
   },
   {
    "duration": 9,
    "start_time": "2022-05-21T09:21:12.075Z"
   },
   {
    "duration": 8,
    "start_time": "2022-05-21T09:21:12.088Z"
   },
   {
    "duration": 24,
    "start_time": "2022-05-21T09:21:12.098Z"
   },
   {
    "duration": 52,
    "start_time": "2022-05-21T09:21:12.124Z"
   },
   {
    "duration": 23,
    "start_time": "2022-05-21T09:21:12.178Z"
   },
   {
    "duration": 9,
    "start_time": "2022-05-21T09:21:12.203Z"
   },
   {
    "duration": 9,
    "start_time": "2022-05-21T09:21:12.214Z"
   },
   {
    "duration": 37,
    "start_time": "2022-05-21T09:21:12.225Z"
   },
   {
    "duration": 9,
    "start_time": "2022-05-21T09:21:12.264Z"
   },
   {
    "duration": 18,
    "start_time": "2022-05-21T09:21:12.275Z"
   },
   {
    "duration": 12,
    "start_time": "2022-05-21T09:21:12.294Z"
   },
   {
    "duration": 44,
    "start_time": "2022-05-21T09:21:12.308Z"
   },
   {
    "duration": 18,
    "start_time": "2022-05-21T09:21:12.354Z"
   },
   {
    "duration": 7,
    "start_time": "2022-05-21T09:21:12.374Z"
   },
   {
    "duration": 20,
    "start_time": "2022-05-21T09:21:12.382Z"
   },
   {
    "duration": 8,
    "start_time": "2022-05-21T09:21:12.403Z"
   },
   {
    "duration": 7,
    "start_time": "2022-05-21T09:21:12.413Z"
   },
   {
    "duration": 42,
    "start_time": "2022-05-21T09:21:12.421Z"
   },
   {
    "duration": 19,
    "start_time": "2022-05-21T09:21:12.465Z"
   },
   {
    "duration": 9,
    "start_time": "2022-05-21T09:21:12.486Z"
   },
   {
    "duration": 11,
    "start_time": "2022-05-21T09:21:12.497Z"
   },
   {
    "duration": 15,
    "start_time": "2022-05-21T09:21:12.509Z"
   },
   {
    "duration": 12,
    "start_time": "2022-05-21T09:21:12.526Z"
   },
   {
    "duration": 12,
    "start_time": "2022-05-21T09:21:12.552Z"
   },
   {
    "duration": 7,
    "start_time": "2022-05-21T09:21:12.566Z"
   },
   {
    "duration": 27,
    "start_time": "2022-05-21T09:21:12.575Z"
   },
   {
    "duration": 18,
    "start_time": "2022-05-21T09:21:12.604Z"
   },
   {
    "duration": 7,
    "start_time": "2022-05-21T09:21:12.624Z"
   },
   {
    "duration": 14,
    "start_time": "2022-05-21T09:21:12.653Z"
   },
   {
    "duration": 11,
    "start_time": "2022-05-21T09:21:12.669Z"
   },
   {
    "duration": 23,
    "start_time": "2022-05-21T09:21:12.681Z"
   },
   {
    "duration": 25,
    "start_time": "2022-05-21T09:21:12.706Z"
   },
   {
    "duration": 26,
    "start_time": "2022-05-21T09:21:12.732Z"
   },
   {
    "duration": 9,
    "start_time": "2022-05-21T09:21:12.760Z"
   },
   {
    "duration": 9,
    "start_time": "2022-05-21T09:21:12.771Z"
   },
   {
    "duration": 11,
    "start_time": "2022-05-21T09:21:12.782Z"
   },
   {
    "duration": 8,
    "start_time": "2022-05-21T09:21:12.795Z"
   },
   {
    "duration": 48,
    "start_time": "2022-05-21T09:21:12.805Z"
   }
  ],
  "kernelspec": {
   "display_name": "Python 3 (ipykernel)",
   "language": "python",
   "name": "python3"
  },
  "language_info": {
   "codemirror_mode": {
    "name": "ipython",
    "version": 3
   },
   "file_extension": ".py",
   "mimetype": "text/x-python",
   "name": "python",
   "nbconvert_exporter": "python",
   "pygments_lexer": "ipython3",
   "version": "3.9.7"
  },
  "toc": {
   "base_numbering": 1,
   "nav_menu": {},
   "number_sections": true,
   "sideBar": true,
   "skip_h1_title": true,
   "title_cell": "Table of Contents",
   "title_sidebar": "Contents",
   "toc_cell": false,
   "toc_position": {},
   "toc_section_display": true,
   "toc_window_display": false
  }
 },
 "nbformat": 4,
 "nbformat_minor": 5
}
